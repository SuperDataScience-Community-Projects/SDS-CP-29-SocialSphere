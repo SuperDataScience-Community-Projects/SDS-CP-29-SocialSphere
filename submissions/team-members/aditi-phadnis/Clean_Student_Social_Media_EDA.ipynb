{
 "cells": [
  {
   "cell_type": "markdown",
   "id": "9b1404c8",
   "metadata": {},
   "source": [
    "# Exploratory Data Analysis (EDA) - Student Social Media Addiction Dataset\n",
    "\n",
    "This notebook explores how social media usage affects students across different countries, platforms, and academic performance metrics. The analysis focuses on patterns in addiction, mental health, and academic impact."
   ]
  },
  {
   "cell_type": "code",
   "execution_count": 1,
   "id": "8ee6919a",
   "metadata": {},
   "outputs": [],
   "source": [
    "import pandas as pd\n",
    "import numpy as np\n",
    "import seaborn as sns\n",
    "import matplotlib.pyplot as plt\n",
    "import plotly.express as px\n",
    "from plotly.subplots import make_subplots\n",
    "import plotly.graph_objects as go\n",
    "import plotly.io as pio\n",
    "#pio.renderers.default = \"notebook\"\n",
    "pio.renderers.default = 'jupyterlab'\n"
   ]
  },
  {
   "cell_type": "code",
   "execution_count": 2,
   "id": "3b2f9bc7",
   "metadata": {
    "scrolled": true
   },
   "outputs": [
    {
     "data": {
      "text/html": [
       "<div>\n",
       "<style scoped>\n",
       "    .dataframe tbody tr th:only-of-type {\n",
       "        vertical-align: middle;\n",
       "    }\n",
       "\n",
       "    .dataframe tbody tr th {\n",
       "        vertical-align: top;\n",
       "    }\n",
       "\n",
       "    .dataframe thead th {\n",
       "        text-align: right;\n",
       "    }\n",
       "</style>\n",
       "<table border=\"1\" class=\"dataframe\">\n",
       "  <thead>\n",
       "    <tr style=\"text-align: right;\">\n",
       "      <th></th>\n",
       "      <th>Student_ID</th>\n",
       "      <th>Age</th>\n",
       "      <th>Gender</th>\n",
       "      <th>Academic_Level</th>\n",
       "      <th>Country</th>\n",
       "      <th>Avg_Daily_Usage_Hours</th>\n",
       "      <th>Most_Used_Platform</th>\n",
       "      <th>Affects_Academic_Performance</th>\n",
       "      <th>Sleep_Hours_Per_Night</th>\n",
       "      <th>Mental_Health_Score</th>\n",
       "      <th>Relationship_Status</th>\n",
       "      <th>Conflicts_Over_Social_Media</th>\n",
       "      <th>Addicted_Score</th>\n",
       "    </tr>\n",
       "  </thead>\n",
       "  <tbody>\n",
       "    <tr>\n",
       "      <th>0</th>\n",
       "      <td>1</td>\n",
       "      <td>19</td>\n",
       "      <td>Female</td>\n",
       "      <td>Undergraduate</td>\n",
       "      <td>Bangladesh</td>\n",
       "      <td>5.2</td>\n",
       "      <td>Instagram</td>\n",
       "      <td>Yes</td>\n",
       "      <td>6.5</td>\n",
       "      <td>6</td>\n",
       "      <td>In Relationship</td>\n",
       "      <td>3</td>\n",
       "      <td>8</td>\n",
       "    </tr>\n",
       "    <tr>\n",
       "      <th>1</th>\n",
       "      <td>2</td>\n",
       "      <td>22</td>\n",
       "      <td>Male</td>\n",
       "      <td>Graduate</td>\n",
       "      <td>India</td>\n",
       "      <td>2.1</td>\n",
       "      <td>Twitter</td>\n",
       "      <td>No</td>\n",
       "      <td>7.5</td>\n",
       "      <td>8</td>\n",
       "      <td>Single</td>\n",
       "      <td>0</td>\n",
       "      <td>3</td>\n",
       "    </tr>\n",
       "    <tr>\n",
       "      <th>2</th>\n",
       "      <td>3</td>\n",
       "      <td>20</td>\n",
       "      <td>Female</td>\n",
       "      <td>Undergraduate</td>\n",
       "      <td>USA</td>\n",
       "      <td>6.0</td>\n",
       "      <td>TikTok</td>\n",
       "      <td>Yes</td>\n",
       "      <td>5.0</td>\n",
       "      <td>5</td>\n",
       "      <td>Complicated</td>\n",
       "      <td>4</td>\n",
       "      <td>9</td>\n",
       "    </tr>\n",
       "    <tr>\n",
       "      <th>3</th>\n",
       "      <td>4</td>\n",
       "      <td>18</td>\n",
       "      <td>Male</td>\n",
       "      <td>High School</td>\n",
       "      <td>UK</td>\n",
       "      <td>3.0</td>\n",
       "      <td>YouTube</td>\n",
       "      <td>No</td>\n",
       "      <td>7.0</td>\n",
       "      <td>7</td>\n",
       "      <td>Single</td>\n",
       "      <td>1</td>\n",
       "      <td>4</td>\n",
       "    </tr>\n",
       "    <tr>\n",
       "      <th>4</th>\n",
       "      <td>5</td>\n",
       "      <td>21</td>\n",
       "      <td>Male</td>\n",
       "      <td>Graduate</td>\n",
       "      <td>Canada</td>\n",
       "      <td>4.5</td>\n",
       "      <td>Facebook</td>\n",
       "      <td>Yes</td>\n",
       "      <td>6.0</td>\n",
       "      <td>6</td>\n",
       "      <td>In Relationship</td>\n",
       "      <td>2</td>\n",
       "      <td>7</td>\n",
       "    </tr>\n",
       "  </tbody>\n",
       "</table>\n",
       "</div>"
      ],
      "text/plain": [
       "   Student_ID  Age  Gender Academic_Level     Country  Avg_Daily_Usage_Hours  \\\n",
       "0           1   19  Female  Undergraduate  Bangladesh                    5.2   \n",
       "1           2   22    Male       Graduate       India                    2.1   \n",
       "2           3   20  Female  Undergraduate         USA                    6.0   \n",
       "3           4   18    Male    High School          UK                    3.0   \n",
       "4           5   21    Male       Graduate      Canada                    4.5   \n",
       "\n",
       "  Most_Used_Platform Affects_Academic_Performance  Sleep_Hours_Per_Night  \\\n",
       "0          Instagram                          Yes                    6.5   \n",
       "1            Twitter                           No                    7.5   \n",
       "2             TikTok                          Yes                    5.0   \n",
       "3            YouTube                           No                    7.0   \n",
       "4           Facebook                          Yes                    6.0   \n",
       "\n",
       "   Mental_Health_Score Relationship_Status  Conflicts_Over_Social_Media  \\\n",
       "0                    6     In Relationship                            3   \n",
       "1                    8              Single                            0   \n",
       "2                    5         Complicated                            4   \n",
       "3                    7              Single                            1   \n",
       "4                    6     In Relationship                            2   \n",
       "\n",
       "   Addicted_Score  \n",
       "0               8  \n",
       "1               3  \n",
       "2               9  \n",
       "3               4  \n",
       "4               7  "
      ]
     },
     "execution_count": 2,
     "metadata": {},
     "output_type": "execute_result"
    }
   ],
   "source": [
    "students = pd.read_csv(\"Students Social Media Addiction.csv\")\n",
    "students.head()\n"
   ]
  },
  {
   "cell_type": "code",
   "execution_count": 3,
   "id": "e8629a1c",
   "metadata": {},
   "outputs": [
    {
     "name": "stdout",
     "output_type": "stream",
     "text": [
      "<class 'pandas.core.frame.DataFrame'>\n",
      "RangeIndex: 705 entries, 0 to 704\n",
      "Data columns (total 13 columns):\n",
      " #   Column                        Non-Null Count  Dtype  \n",
      "---  ------                        --------------  -----  \n",
      " 0   Student_ID                    705 non-null    int64  \n",
      " 1   Age                           705 non-null    int64  \n",
      " 2   Gender                        705 non-null    object \n",
      " 3   Academic_Level                705 non-null    object \n",
      " 4   Country                       705 non-null    object \n",
      " 5   Avg_Daily_Usage_Hours         705 non-null    float64\n",
      " 6   Most_Used_Platform            705 non-null    object \n",
      " 7   Affects_Academic_Performance  705 non-null    object \n",
      " 8   Sleep_Hours_Per_Night         705 non-null    float64\n",
      " 9   Mental_Health_Score           705 non-null    int64  \n",
      " 10  Relationship_Status           705 non-null    object \n",
      " 11  Conflicts_Over_Social_Media   705 non-null    int64  \n",
      " 12  Addicted_Score                705 non-null    int64  \n",
      "dtypes: float64(2), int64(5), object(6)\n",
      "memory usage: 71.7+ KB\n"
     ]
    },
    {
     "data": {
      "text/plain": [
       "Student_ID                      0\n",
       "Age                             0\n",
       "Gender                          0\n",
       "Academic_Level                  0\n",
       "Country                         0\n",
       "Avg_Daily_Usage_Hours           0\n",
       "Most_Used_Platform              0\n",
       "Affects_Academic_Performance    0\n",
       "Sleep_Hours_Per_Night           0\n",
       "Mental_Health_Score             0\n",
       "Relationship_Status             0\n",
       "Conflicts_Over_Social_Media     0\n",
       "Addicted_Score                  0\n",
       "dtype: int64"
      ]
     },
     "execution_count": 3,
     "metadata": {},
     "output_type": "execute_result"
    }
   ],
   "source": [
    "students.info()\n",
    "students.isnull().sum()"
   ]
  },
  {
   "cell_type": "code",
   "execution_count": 8,
   "id": "c43badae-af34-4bc4-8ac5-0f965b03f9a2",
   "metadata": {},
   "outputs": [],
   "source": [
    "country_counts = students['Country'].value_counts()\n",
    "threshold = 10\n",
    "\n",
    "students['Country_Grouped'] = students['Country'].apply(\n",
    "    lambda x: x if country_counts[x] >= threshold else 'Other'\n",
    ")\n"
   ]
  },
  {
   "cell_type": "markdown",
   "id": "dc10fd86",
   "metadata": {},
   "source": [
    "## Univariate Analysis"
   ]
  },
  {
   "cell_type": "code",
   "execution_count": null,
   "id": "a63b72fd",
   "metadata": {
    "scrolled": true
   },
   "outputs": [
    {
     "data": {
      "image/png": "[encoded data removed]",
      "text/plain": [
       "<Figure size 640x480 with 1 Axes>"
      ]
     },
     "metadata": {},
     "output_type": "display_data"
    }
   ],
   "source": [
    "sns.countplot(data=students, x='Gender')\n",
    "plt.title('Gender Distribution')\n",
    "plt.show()\n"
   ]
  },
  {
   "cell_type": "markdown",
   "id": "06ea0996",
   "metadata": {},
   "source": [
    "## Boxplots of Numerical Features vs Addicted Score"
   ]
  },
  {
   "cell_type": "code",
   "execution_count": 23,
   "id": "861d6b69-4803-49e9-b44d-3de9e6603826",
   "metadata": {},
   "outputs": [
    {
     "data": {
      "application/vnd.plotly.v1+json": {
       "config": {
        "plotlyServerURL": "https://plot.ly"
       },
       "data": [
        {
         "boxmean": "sd",
         "name": "2",
         "showlegend": true,
         "type": "box",
         "xaxis": "x",
         "y": {
          "bdata": "Fw==",
          "dtype": "i1"
         },
         "yaxis": "y"
        },
        {
         "boxmean": "sd",
         "name": "3",
         "showlegend": true,
         "type": "box",
         "xaxis": "x",
         "y": {
          "bdata": "FhgYFxMTExMTExMTExMTEw==",
          "dtype": "i1"
         },
         "yaxis": "y"
        },
        {
         "boxmean": "sd",
         "name": "4",
         "showlegend": true,
         "type": "box",
         "xaxis": "x",
         "y": {
          "bdata": "EhUWFxcYFxgXFhcVFhcXFhcXFhYWFhYWFhYWFhYWFhUTFhQVExYUFRMWFBUTFhQVExYUFRMWFBUTFhQVExYUFRMWFBQTFBMUExQXExUYExQWExg=",
          "dtype": "i1"
         },
         "yaxis": "y"
        },
        {
         "boxmean": "sd",
         "name": "5",
         "showlegend": true,
         "type": "box",
         "xaxis": "x",
         "y": {
          "bdata": "EhUVFhUVFhUWFRYVFhYWExMWFRQUExUWFBMVFhQTFRMUExQTFBMUExQUFhQWFBYUFhQWFBYUFhQWFBYUFhQWFBYUExQTFBMUExQTFBMUExQTFBMUFRYWFRUWFhUVFhYVFRYVExgVFBcXFhQTFxgUFxYVExcVFBgUGBUTFxYVFxgUExcUFRYYFA==",
          "dtype": "i1"
         },
         "yaxis": "y"
        },
        {
         "boxmean": "sd",
         "name": "6",
         "showlegend": true,
         "type": "box",
         "xaxis": "x",
         "y": {
          "bdata": "FRUUFBUVFRYVFhUWFRYVFhQUFBQUFBQUFBQUFBQTFBMUExQTFBMUExQTFBMUExYVFRYWFRUWFhUVFhYVFw==",
          "dtype": "i1"
         },
         "yaxis": "y"
        },
        {
         "boxmean": "sd",
         "name": "7",
         "showlegend": true,
         "type": "box",
         "xaxis": "x",
         "y": {
          "bdata": "FRMUFBMUFBMUFBMUFBMUFRQTFRQTFRQTExQUExMVFBQUFhMVFhQTFRYUExUWFBMWFBUTFhQVExYUFRMWFBUTFhQVFRUVFRUVFRUVFRUVFRUVFRUVFRMVFhUUFhUWExUWFRQWFRYTFRYVFBYVFhMVFhUUFhUWExUWFRQWFRYTFRYVFBYVFhMVFhUUFhUWExUWFRQWFRYTFRYVFBYVFhMTFRQUFhMTFRQUFhMTFRQUFhMTFRQUFhYYFRgYFhUTExQYFhYXFxYWGBQTExUWGBgXExU=",
          "dtype": "i1"
         },
         "yaxis": "y"
        },
        {
         "boxmean": "sd",
         "name": "8",
         "showlegend": true,
         "type": "box",
         "xaxis": "x",
         "y": {
          "bdata": "ExQUExIUExIUExIUExIUExMSFBMSExQSFRIUFBYVExMVFhQTFRYUExUWFBMUFRMWFBUTFhQVExYUFRMWFBUTFhUVFRUVFRYVFhUWFRYVFhUWFRYVFhUWFRQTExQUExMUFBMTFBQTExgWFRQXGBUUFBMXFhQTFxUUFxYVGBcVFhUXGBUTFxQVFxgUFhcUFRYT",
          "dtype": "i1"
         },
         "yaxis": "y"
        },
        {
         "boxmean": "sd",
         "name": "9",
         "showlegend": true,
         "type": "box",
         "xaxis": "x",
         "y": {
          "bdata": "FBMSExMTEhISExMTExMTExMTExMTExMUExQTFBMUExQTFBMUExQTFBMWExUWGBQTExQYFhUTFw==",
          "dtype": "i1"
         },
         "yaxis": "y"
        },
        {
         "boxmean": "sd",
         "name": "2",
         "showlegend": false,
         "type": "box",
         "xaxis": "x2",
         "y": {
          "bdata": "AAAAAAAA+D8=",
          "dtype": "f8"
         },
         "yaxis": "y2"
        },
        {
         "boxmean": "sd",
         "name": "3",
         "showlegend": false,
         "type": "box",
         "xaxis": "x2",
         "y": {
          "bdata": "zczMzMzMAEAAAAAAAAAAQJqZmZmZmQFAZmZmZmZmAkBmZmZmZmYOQAAAAAAAAAxAmpmZmZmZDUDNzMzMzMwMQDMzMzMzMwtAZmZmZmZmCkCamZmZmZkJQM3MzMzMzAhAAAAAAAAACEAzMzMzMzMHQGZmZmZmZgZAmpmZmZmZBUA=",
          "dtype": "f8"
         },
         "yaxis": "y2"
        },
        {
         "boxmean": "sd",
         "name": "4",
         "showlegend": false,
         "type": "box",
         "xaxis": "x2",
         "y": {
          "bdata": "AAAAAAAACEBmZmZmZmYKQGZmZmZmZgZAAAAAAAAABEDNzMzMzMwEQGZmZmZmZgJAmpmZmZmZBUAzMzMzMzMDQGZmZmZmZgZAZmZmZmZmBkAAAAAAAAAEQAAAAAAAAAhAmpmZmZmZBUDNzMzMzMwEQDMzMzMzMwNAZmZmZmZmBkAAAAAAAAAEQM3MzMzMzARAzczMzMzMEEAAAAAAAAAQQGZmZmZmZhBAMzMzMzMzD0AAAAAAAAAQQGZmZmZmZg5AmpmZmZmZDUDNzMzMzMwMQAAAAAAAAAxAMzMzMzMzC0BmZmZmZmYKQJqZmZmZmQlAzczMzMzMCEBmZmZmZmYQQAAAAAAAABBAMzMzMzMzD0BmZmZmZmYOQGZmZmZmZg5AmpmZmZmZDUCamZmZmZkNQM3MzMzMzAxAzczMzMzMDEAAAAAAAAAMQAAAAAAAAAxAMzMzMzMzC0AzMzMzMzMLQGZmZmZmZgpAZmZmZmZmCkCamZmZmZkJQJqZmZmZmQlAzczMzMzMCEDNzMzMzMwIQAAAAAAAAAhAAAAAAAAACEAzMzMzMzMHQDMzMzMzMwdAZmZmZmZmBkBmZmZmZmYGQJqZmZmZmQVAmpmZmZmZBUDNzMzMzMwEQM3MzMzMzARAAAAAAAAABEAAAAAAAAAEQDMzMzMzMwNAMzMzMzMzA0BmZmZmZmYCQGZmZmZmZgJAmpmZmZmZAUBmZmZmZmYOQJqZmZmZmQ1AzczMzMzMDEAAAAAAAAAMQDMzMzMzMwtAZmZmZmZmCkCamZmZmZkJQGZmZmZmZg5AAAAAAAAAEkAzMzMzMzMRQM3MzMzMzBBAmpmZmZmZEUAzMzMzMzMRQJqZmZmZmRFAzczMzMzMEEAzMzMzMzMRQA==",
          "dtype": "f8"
         },
         "yaxis": "y2"
        },
        {
         "boxmean": "sd",
         "name": "5",
         "showlegend": false,
         "type": "box",
         "xaxis": "x2",
         "y": {
          "bdata": "AAAAAAAAEECamZmZmZkNQAAAAAAAAAxAmpmZmZmZCUBmZmZmZmYOQM3MzMzMzAxAzczMzMzMCECamZmZmZkNQGZmZmZmZgpAzczMzMzMDEDNzMzMzMwIQJqZmZmZmQlAMzMzMzMzB0AzMzMzMzMHQDMzMzMzMwdAmpmZmZmZE0AzMzMzMzMTQM3MzMzMzBJAZmZmZmZmEkAAAAAAAAASQJqZmZmZmRFAMzMzMzMzEUDNzMzMzMwQQGZmZmZmZhBAAAAAAAAAEEAzMzMzMzMPQGZmZmZmZg5AmpmZmZmZDUDNzMzMzMwMQAAAAAAAAAxAMzMzMzMzC0BmZmZmZmYUQAAAAAAAABRAmpmZmZmZE0AzMzMzMzMTQM3MzMzMzBJAZmZmZmZmEkAAAAAAAAASQJqZmZmZmRFAMzMzMzMzEUDNzMzMzMwQQAAAAAAAABJAMzMzMzMzE0DNzMzMzMwSQAAAAAAAABJAZmZmZmZmEkDNzMzMzMwSQDMzMzMzMxNAZmZmZmZmEkCamZmZmZkRQJqZmZmZmRFAMzMzMzMzEUAzMzMzMzMRQAAAAAAAABJAzczMzMzMEECamZmZmZkRQGZmZmZmZhBAMzMzMzMzEUAAAAAAAAAQQM3MzMzMzBBAMzMzMzMzD0BmZmZmZmYQQGZmZmZmZg5AAAAAAAAAEECamZmZmZkNQDMzMzMzMw9AAAAAAAAAEkCamZmZmZkRQDMzMzMzMxFAzczMzMzMEEBmZmZmZmYQQAAAAAAAABBAMzMzMzMzD0BmZmZmZmYOQJqZmZmZmQ1AzczMzMzMDEAAAAAAAAAMQDMzMzMzMwtAZmZmZmZmCkCamZmZmZkJQM3MzMzMzAhAAAAAAAAACEAzMzMzMzMHQGZmZmZmZgZAAAAAAAAAEkDNzMzMzMwQQJqZmZmZmRFAZmZmZmZmEEAzMzMzMzMRQAAAAAAAABBAzczMzMzMEEAzMzMzMzMPQGZmZmZmZhBAZmZmZmZmDkAAAAAAAAAQQJqZmZmZmQ1AMzMzMzMzD0DNzMzMzMwMQM3MzMzMzBBAzczMzMzMEkCamZmZmZkTQGZmZmZmZhBAmpmZmZmZEUAzMzMzMzMRQJqZmZmZmRNAZmZmZmZmFEAAAAAAAAASQM3MzMzMzBJAmpmZmZmZEUAzMzMzMzMTQGZmZmZmZhJAmpmZmZmZEUBmZmZmZmYSQAAAAAAAABJAzczMzMzMEkAzMzMzMzMTQDMzMzMzMxFAAAAAAAAAEkBmZmZmZmYSQDMzMzMzMxNAzczMzMzMEkCamZmZmZkRQGZmZmZmZhJAAAAAAAAAEkDNzMzMzMwSQDMzMzMzMxNAMzMzMzMzEUAAAAAAAAASQGZmZmZmZhJAzczMzMzMEkAzMzMzMzMTQJqZmZmZmRFAZmZmZmZmEkAAAAAAAAASQDMzMzMzMxNAzczMzMzMEkA=",
          "dtype": "f8"
         },
         "yaxis": "y2"
        },
        {
         "boxmean": "sd",
         "name": "6",
         "showlegend": false,
         "type": "box",
         "xaxis": "x2",
         "y": {
          "bdata": "MzMzMzMzD0BmZmZmZmYOQDMzMzMzMw9AZmZmZmZmDkCamZmZmZkNQGZmZmZmZg5AMzMzMzMzE0DNzMzMzMwUQGZmZmZmZhRAAAAAAAAAFECamZmZmZkTQDMzMzMzMxNAzczMzMzMEkBmZmZmZmYSQAAAAAAAABJAmpmZmZmZEUDNzMzMzMwUQAAAAAAAABRAZmZmZmZmFECamZmZmZkTQAAAAAAAABRAMzMzMzMzE0DNzMzMzMwSQGZmZmZmZhJAAAAAAAAAEkCamZmZmZkRQDMzMzMzMxFAzczMzMzMEEAAAAAAAAAUQDMzMzMzMxNAzczMzMzMEkBmZmZmZmYSQAAAAAAAABJAmpmZmZmZEUAzMzMzMzMRQM3MzMzMzBBAZmZmZmZmEEAAAAAAAAAQQDMzMzMzMw9AZmZmZmZmDkCamZmZmZkNQM3MzMzMzAxAAAAAAAAADEAzMzMzMzMLQGZmZmZmZgpAmpmZmZmZCUDNzMzMzMwSQDMzMzMzMxNAZmZmZmZmEkDNzMzMzMwSQAAAAAAAABJAZmZmZmZmEkCamZmZmZkRQAAAAAAAABJAMzMzMzMzEUCamZmZmZkRQM3MzMzMzBBAMzMzMzMzEUBmZmZmZmYQQM3MzMzMzBBAzczMzMzMFEA=",
          "dtype": "f8"
         },
         "yaxis": "y2"
        },
        {
         "boxmean": "sd",
         "name": "7",
         "showlegend": false,
         "type": "box",
         "xaxis": "x2",
         "y": {
          "bdata": "AAAAAAAAEkAzMzMzMzMTQM3MzMzMzBBAzczMzMzMEkCamZmZmZkTQJqZmZmZmRFAMzMzMzMzE0DNzMzMzMwSQAAAAAAAABJAZmZmZmZmEkAzMzMzMzMTQM3MzMzMzBJAmpmZmZmZE0BmZmZmZmYSQM3MzMzMzBBAMzMzMzMzE0AAAAAAAAASQJqZmZmZmRNAZmZmZmZmEkDNzMzMzMwSQDMzMzMzMxNAAAAAAAAAEkCamZmZmZkRQM3MzMzMzBJAmpmZmZmZE0BmZmZmZmYSQM3MzMzMzBJAMzMzMzMzE0CamZmZmZkTQDMzMzMzMxdAzczMzMzMFEDNzMzMzMwWQJqZmZmZmRdAMzMzMzMzF0DNzMzMzMwWQGZmZmZmZhZAAAAAAAAAFkCamZmZmZkVQDMzMzMzMxVAzczMzMzMFEBmZmZmZmYUQAAAAAAAABRAmpmZmZmZE0AzMzMzMzMTQM3MzMzMzBJAZmZmZmZmEkAzMzMzMzMVQM3MzMzMzBJAmpmZmZmZE0BmZmZmZmYSQDMzMzMzMxNAAAAAAAAAEkDNzMzMzMwSQJqZmZmZmRFAZmZmZmZmEkAzMzMzMzMRQAAAAAAAABJAzczMzMzMEECamZmZmZkRQGZmZmZmZhBAMzMzMzMzEUAAAAAAAAAQQM3MzMzMzBBAMzMzMzMzD0BmZmZmZmYQQGZmZmZmZg5AMzMzMzMzF0AAAAAAAAAWQAAAAAAAABZAZmZmZmZmFkCamZmZmZkVQM3MzMzMzBZAmpmZmZmZFUAzMzMzMzMVQDMzMzMzMxVAzczMzMzMFECamZmZmZkVQGZmZmZmZhRAAAAAAAAAFEDNzMzMzMwUQJqZmZmZmRNAMzMzMzMzE0AAAAAAAAAUQM3MzMzMzBJAZmZmZmZmEkDNzMzMzMwUQAAAAAAAABZAZmZmZmZmFkAzMzMzMzMVQGZmZmZmZhRAmpmZmZmZFUDNzMzMzMwWQM3MzMzMzBRAAAAAAAAAFEAzMzMzMzMVQDMzMzMzMxdAZmZmZmZmFECamZmZmZkTQM3MzMzMzBRAmpmZmZmZF0AAAAAAAAAUQDMzMzMzMxNAZmZmZmZmFEAAAAAAAAAYQJqZmZmZmRNAzczMzMzMEkAAAAAAAAAUQGZmZmZmZhhAMzMzMzMzE0BmZmZmZmYSQJqZmZmZmRNAzczMzMzMGEDNzMzMzMwSQAAAAAAAABJAMzMzMzMzE0AzMzMzMzMZQGZmZmZmZhJAmpmZmZmZEUDNzMzMzMwSQJqZmZmZmRlAAAAAAAAAEkAzMzMzMzMRQGZmZmZmZhJAAAAAAAAAGkCamZmZmZkRQM3MzMzMzBBAAAAAAAAAEkBmZmZmZmYaQDMzMzMzMxFAZmZmZmZmEECamZmZmZkRQM3MzMzMzBpAzczMzMzMEEAAAAAAAAAQQDMzMzMzMxFAMzMzMzMzG0BmZmZmZmYQQDMzMzMzMw9AzczMzMzMEECamZmZmZkbQAAAAAAAABBAZmZmZmZmDkBmZmZmZmYQQAAAAAAAABxAMzMzMzMzD0CamZmZmZkNQAAAAAAAABBAZmZmZmZmHEBmZmZmZmYOQM3MzMzMzAxAMzMzMzMzD0DNzMzMzMwcQJqZmZmZmQ1AAAAAAAAADEBmZmZmZmYOQDMzMzMzMx1AzczMzMzMDEDNzMzMzMwYQGZmZmZmZhRAAAAAAAAAFkBmZmZmZmYYQM3MzMzMzBRAZmZmZmZmFkAAAAAAAAAYQDMzMzMzMxVAzczMzMzMFkCamZmZmZkXQJqZmZmZmRVAMzMzMzMzF0AzMzMzMzMXQAAAAAAAABZAmpmZmZmZF0DNzMzMzMwWQGZmZmZmZhZAAAAAAAAAGEBmZmZmZmYWQM3MzMzMzBZAZmZmZmZmGEBmZmZmZmYYQJqZmZmZmRdAMzMzMzMzF0DNzMzMzMwWQGZmZmZmZhZAMzMzMzMzF0AAAAAAAAAWQJqZmZmZmRdAmpmZmZmZFUDNzMzMzMwWQGZmZmZmZhZAMzMzMzMzF0AAAAAAAAAWQGZmZmZmZhZAzczMzMzMFkCamZmZmZkXQDMzMzMzMxVAzczMzMzMFkBmZmZmZmYWQDMzMzMzMxdAmpmZmZmZFUBmZmZmZmYWQM3MzMzMzBZAmpmZmZmZF0AzMzMzMzMVQDMzMzMzMxdAAAAAAAAAFkCamZmZmZkXQAAAAAAAABZAzczMzMzMFkBmZmZmZmYWQA==",
          "dtype": "f8"
         },
         "yaxis": "y2"
        },
        {
         "boxmean": "sd",
         "name": "8",
         "showlegend": false,
         "type": "box",
         "xaxis": "x2",
         "y": {
          "bdata": "zczMzMzMFEAzMzMzMzMXQAAAAAAAABZAAAAAAAAAFEAzMzMzMzMVQM3MzMzMzBZAmpmZmZmZF0CamZmZmZkVQGZmZmZmZhZAMzMzMzMzF0AAAAAAAAAWQAAAAAAAABZAzczMzMzMFkBmZmZmZmYWQJqZmZmZmRVAZmZmZmZmFkDNzMzMzMwWQJqZmZmZmRVAMzMzMzMzF0AAAAAAAAAWQGZmZmZmZhZAMzMzMzMzFUAAAAAAAAAWQM3MzMzMzBZAmpmZmZmZFUBmZmZmZmYWQAAAAAAAABZAZmZmZmZmGEAAAAAAAAAWQAAAAAAAABhAmpmZmZmZFUAzMzMzMzMVQM3MzMzMzBRAZmZmZmZmFEAAAAAAAAAUQJqZmZmZmRNAMzMzMzMzE0DNzMzMzMwSQGZmZmZmZhJAAAAAAAAAEkCamZmZmZkRQDMzMzMzMxFAzczMzMzMEEBmZmZmZmYQQAAAAAAAABZAmpmZmZmZFUBmZmZmZmYWQDMzMzMzMxVAzczMzMzMFkDNzMzMzMwUQDMzMzMzMxdAZmZmZmZmFECamZmZmZkXQAAAAAAAABRAAAAAAAAAGECamZmZmZkTQGZmZmZmZhhAMzMzMzMzE0DNzMzMzMwYQM3MzMzMzBJAMzMzMzMzGUBmZmZmZmYSQJqZmZmZmRlAAAAAAAAAEkDNzMzMzMwWQGZmZmZmZhZAzczMzMzMFEAzMzMzMzMVQGZmZmZmZhRAmpmZmZmZE0AzMzMzMzMXQJqZmZmZmRdAAAAAAAAAGEBmZmZmZmYYQM3MzMzMzBhAMzMzMzMzGUCamZmZmZkZQAAAAAAAABpAZmZmZmZmGkDNzMzMzMwaQDMzMzMzMxtAmpmZmZmZG0AAAAAAAAAcQGZmZmZmZhxAzczMzMzMHEAzMzMzMzMdQJqZmZmZmR1AAAAAAAAAHkAAAAAAAAAaQDMzMzMzMxtAZmZmZmZmGkCamZmZmZkbQM3MzMzMzBpAAAAAAAAAHEAzMzMzMzMbQGZmZmZmZhxAmpmZmZmZG0DNzMzMzMwcQAAAAAAAABxAMzMzMzMzHUBmZmZmZmYcQJqZmZmZmR1AAAAAAAAAFkAzMzMzMzMbQAAAAAAAABpAMzMzMzMzGUDNzMzMzMwaQJqZmZmZmRlAZmZmZmZmGkCamZmZmZkbQM3MzMzMzBhAmpmZmZmZGUDNzMzMzMwaQM3MzMzMzBhAMzMzMzMzGUBmZmZmZmYaQAAAAAAAABpAZmZmZmZmGEAzMzMzMzMZQAAAAAAAABpAzczMzMzMGkCamZmZmZkZQM3MzMzMzBhAZmZmZmZmGECamZmZmZkZQDMzMzMzMxtAMzMzMzMzGUDNzMzMzMwYQM3MzMzMzBhAAAAAAAAAGkDNzMzMzMwaQJqZmZmZmRlAMzMzMzMzGUBmZmZmZmYYQJqZmZmZmRlAMzMzMzMzG0DNzMzMzMwYQGZmZmZmZhhAMzMzMzMzGUAAAAAAAAAaQGZmZmZmZhpAMzMzMzMzGUDNzMzMzMwYQM3MzMzMzBhA",
          "dtype": "f8"
         },
         "yaxis": "y2"
        },
        {
         "boxmean": "sd",
         "name": "9",
         "showlegend": false,
         "type": "box",
         "xaxis": "x2",
         "y": {
          "bdata": "AAAAAAAAGEDNzMzMzMwcQAAAAAAAABpAZmZmZmZmGEDNzMzMzMwYQDMzMzMzMxlAZmZmZmZmGECamZmZmZkXQDMzMzMzMxdAMzMzMzMzF0AAAAAAAAAaQAAAAAAAABxAMzMzMzMzG0CamZmZmZkbQM3MzMzMzBpAZmZmZmZmGkCamZmZmZkZQGZmZmZmZhpAzczMzMzMGkAzMzMzMzMbQJqZmZmZmRtAAAAAAAAAHEBmZmZmZmYcQDMzMzMzMxtAmpmZmZmZG0AAAAAAAAAcQGZmZmZmZhxAzczMzMzMHEAzMzMzMzMdQJqZmZmZmR1AAAAAAAAAHkBmZmZmZmYeQM3MzMzMzB5AMzMzMzMzH0CamZmZmZkfQAAAAAAAACBAMzMzMzMzIEBmZmZmZmYgQJqZmZmZmSBAzczMzMzMIEAAAAAAAAAhQM3MzMzMzBxAAAAAAAAAHEBmZmZmZmYcQDMzMzMzMxtAAAAAAAAAHECamZmZmZkbQM3MzMzMzBxAMzMzMzMzG0BmZmZmZmYcQJqZmZmZmRtAzczMzMzMHEDNzMzMzMwaQAAAAAAAABxAMzMzMzMzG0A=",
          "dtype": "f8"
         },
         "yaxis": "y2"
        },
        {
         "boxmean": "sd",
         "name": "2",
         "showlegend": false,
         "type": "box",
         "xaxis": "x3",
         "y": {
          "bdata": "AAAAAAAAIEA=",
          "dtype": "f8"
         },
         "yaxis": "y3"
        },
        {
         "boxmean": "sd",
         "name": "3",
         "showlegend": false,
         "type": "box",
         "xaxis": "x3",
         "y": {
          "bdata": "AAAAAAAAHkAzMzMzMzMfQJqZmZmZmR1AmpmZmZmZHUCamZmZmZkfQAAAAAAAACBAMzMzMzMzH0AzMzMzMzMgQGZmZmZmZiBAmpmZmZmZIEDNzMzMzMwgQAAAAAAAACFAMzMzMzMzIUBmZmZmZmYhQJqZmZmZmSFAzczMzMzMIUA=",
          "dtype": "f8"
         },
         "yaxis": "y3"
        },
        {
         "boxmean": "sd",
         "name": "4",
         "showlegend": false,
         "type": "box",
         "xaxis": "x3",
         "y": {
          "bdata": "AAAAAAAAHEAAAAAAAAAcQM3MzMzMzBxAMzMzMzMzHUDNzMzMzMwcQDMzMzMzMx1AZmZmZmZmHEDNzMzMzMwcQAAAAAAAABxAzczMzMzMHEAzMzMzMzMdQGZmZmZmZhxAzczMzMzMHEAzMzMzMzMdQJqZmZmZmR1AZmZmZmZmHEAzMzMzMzMdQM3MzMzMzBxAMzMzMzMzH0CamZmZmZkfQM3MzMzMzB5AMzMzMzMzH0BmZmZmZmYeQM3MzMzMzB5AMzMzMzMzH0CamZmZmZkfQAAAAAAAACBAMzMzMzMzIEBmZmZmZmYgQJqZmZmZmSBAzczMzMzMIEAzMzMzMzMfQJqZmZmZmR9AmpmZmZmZH0AAAAAAAAAgQAAAAAAAACBAMzMzMzMzIEAzMzMzMzMgQGZmZmZmZiBAZmZmZmZmIECamZmZmZkgQJqZmZmZmSBAzczMzMzMIEDNzMzMzMwgQAAAAAAAACFAAAAAAAAAIUAzMzMzMzMhQDMzMzMzMyFAZmZmZmZmIUBmZmZmZmYhQJqZmZmZmSFAmpmZmZmZIUDNzMzMzMwhQM3MzMzMzCFAAAAAAAAAIkAAAAAAAAAiQDMzMzMzMyJAMzMzMzMzIkBmZmZmZmYiQGZmZmZmZiJAmpmZmZmZIkCamZmZmZkiQM3MzMzMzCJAzczMzMzMIkAAAAAAAAAjQAAAAAAAACNAMzMzMzMzI0BmZmZmZmYgQJqZmZmZmSBAzczMzMzMIEAAAAAAAAAhQDMzMzMzMyFAZmZmZmZmIUCamZmZmZkhQDMzMzMzMx9AZmZmZmZmHkBmZmZmZmYeQAAAAAAAAB5AmpmZmZmZHUAAAAAAAAAeQJqZmZmZmR1AAAAAAAAAHkAAAAAAAAAeQA==",
          "dtype": "f8"
         },
         "yaxis": "y3"
        },
        {
         "boxmean": "sd",
         "name": "5",
         "showlegend": false,
         "type": "box",
         "xaxis": "x3",
         "y": {
          "bdata": "AAAAAAAAGkAzMzMzMzMbQM3MzMzMzBpAmpmZmZmZG0BmZmZmZmYaQM3MzMzMzBpAMzMzMzMzG0BmZmZmZmYaQM3MzMzMzBpAAAAAAAAAGkBmZmZmZmYcQDMzMzMzMxtAAAAAAAAAHEAAAAAAAAAcQAAAAAAAABxAZmZmZmZmHEDNzMzMzMwcQDMzMzMzMx1AmpmZmZmZHUAAAAAAAAAeQGZmZmZmZh5AzczMzMzMHkAzMzMzMzMfQJqZmZmZmR9AAAAAAAAAIEAzMzMzMzMgQGZmZmZmZiBAmpmZmZmZIEDNzMzMzMwgQAAAAAAAACFAMzMzMzMzIUAAAAAAAAAcQDMzMzMzMx1AAAAAAAAAHkDNzMzMzMweQJqZmZmZmR9AMzMzMzMzIECamZmZmZkgQAAAAAAAACFAZmZmZmZmIUDNzMzMzMwhQAAAAAAAAB5AzczMzMzMHECamZmZmZkdQJqZmZmZmR1AMzMzMzMzHUAzMzMzMzMdQM3MzMzMzBxAAAAAAAAAHkCamZmZmZkdQGZmZmZmZh5AAAAAAAAAHkDNzMzMzMweQDMzMzMzMx1AMzMzMzMzH0CamZmZmZkdQJqZmZmZmR9AAAAAAAAAHkAAAAAAAAAgQGZmZmZmZh5AMzMzMzMzIEDNzMzMzMweQGZmZmZmZiBAMzMzMzMzH0CamZmZmZkgQJqZmZmZmR9AAAAAAAAAHkBmZmZmZmYeQM3MzMzMzB5AMzMzMzMzH0CamZmZmZkfQAAAAAAAACBAMzMzMzMzIEBmZmZmZmYgQJqZmZmZmSBAzczMzMzMIEAAAAAAAAAhQDMzMzMzMyFAZmZmZmZmIUCamZmZmZkhQM3MzMzMzCFAAAAAAAAAIkAzMzMzMzMiQGZmZmZmZiJAMzMzMzMzH0CamZmZmZkfQJqZmZmZmR9AAAAAAAAAIEAAAAAAAAAgQDMzMzMzMyBAMzMzMzMzIEBmZmZmZmYgQGZmZmZmZiBAmpmZmZmZIECamZmZmZkgQM3MzMzMzCBAzczMzMzMIEAAAAAAAAAhQAAAAAAAAB5AmpmZmZmZHUAzMzMzMzMdQM3MzMzMzB5AmpmZmZmZHUAAAAAAAAAeQDMzMzMzMx1AZmZmZmZmHECamZmZmZkdQM3MzMzMzBxAmpmZmZmZHUAzMzMzMzMdQM3MzMzMzBxAmpmZmZmZHUAzMzMzMzMdQDMzMzMzMx1AzczMzMzMHEBmZmZmZmYcQAAAAAAAAB5AMzMzMzMzHUDNzMzMzMwcQGZmZmZmZhxAzczMzMzMHECamZmZmZkdQDMzMzMzMx1AMzMzMzMzHUDNzMzMzMwcQGZmZmZmZhxAAAAAAAAAHkAzMzMzMzMdQM3MzMzMzBxAzczMzMzMHEBmZmZmZmYcQJqZmZmZmR1AMzMzMzMzHUAzMzMzMzMdQGZmZmZmZhxAzczMzMzMHEA=",
          "dtype": "f8"
         },
         "yaxis": "y3"
        },
        {
         "boxmean": "sd",
         "name": "6",
         "showlegend": false,
         "type": "box",
         "xaxis": "x3",
         "y": {
          "bdata": "AAAAAAAAGkCamZmZmZkZQAAAAAAAABpAZmZmZmZmGkAAAAAAAAAaQGZmZmZmZhpAzczMzMzMHEBmZmZmZmYcQJqZmZmZmR1AZmZmZmZmHkAzMzMzMzMfQAAAAAAAACBAZmZmZmZmIEDNzMzMzMwgQDMzMzMzMyFAmpmZmZmZIUAAAAAAAAAaQDMzMzMzMxtAZmZmZmZmGkCamZmZmZkbQM3MzMzMzBpAAAAAAAAAHEBmZmZmZmYcQM3MzMzMzBxAMzMzMzMzHUCamZmZmZkdQAAAAAAAAB5AZmZmZmZmHkAAAAAAAAAcQGZmZmZmZhxAzczMzMzMHEAzMzMzMzMdQJqZmZmZmR1AAAAAAAAAHkBmZmZmZmYeQM3MzMzMzB5AMzMzMzMzH0CamZmZmZkfQAAAAAAAACBAMzMzMzMzIEBmZmZmZmYgQJqZmZmZmSBAzczMzMzMIEAAAAAAAAAhQDMzMzMzMyFAZmZmZmZmIUAAAAAAAAAeQJqZmZmZmR1AZmZmZmZmHkAAAAAAAAAeQM3MzMzMzB5AZmZmZmZmHkAzMzMzMzMfQM3MzMzMzB5AmpmZmZmZH0AzMzMzMzMfQAAAAAAAACBAmpmZmZmZH0AzMzMzMzMgQAAAAAAAACBAAAAAAAAAHEA=",
          "dtype": "f8"
         },
         "yaxis": "y3"
        },
        {
         "boxmean": "sd",
         "name": "7",
         "showlegend": false,
         "type": "box",
         "xaxis": "x3",
         "y": {
          "bdata": "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",
          "dtype": "f8"
         },
         "yaxis": "y3"
        },
        {
         "boxmean": "sd",
         "name": "8",
         "showlegend": false,
         "type": "box",
         "xaxis": "x3",
         "y": {
          "bdata": "AAAAAAAAGkAAAAAAAAAYQDMzMzMzMxdAzczMzMzMFkAAAAAAAAAWQJqZmZmZmRVAMzMzMzMzFUCamZmZmZkVQAAAAAAAABZAmpmZmZmZFUAzMzMzMzMVQGZmZmZmZhZAAAAAAAAAFkDNzMzMzMwUQM3MzMzMzBZAZmZmZmZmFkCamZmZmZkVQAAAAAAAABZAMzMzMzMzFUCamZmZmZkVQDMzMzMzMxVAAAAAAAAAFkCamZmZmZkVQDMzMzMzMxVAAAAAAAAAFkCamZmZmZkVQAAAAAAAABZAzczMzMzMGEAAAAAAAAAYQDMzMzMzMxdAzczMzMzMGEAzMzMzMzMZQJqZmZmZmRlAAAAAAAAAGkBmZmZmZmYaQM3MzMzMzBpAMzMzMzMzG0CamZmZmZkbQAAAAAAAABxAZmZmZmZmHEDNzMzMzMwcQDMzMzMzMx1AmpmZmZmZHUAAAAAAAAAeQJqZmZmZmRdAAAAAAAAAGEAzMzMzMzMXQM3MzMzMzBZAZmZmZmZmFkAAAAAAAAAWQJqZmZmZmRVAMzMzMzMzFUDNzMzMzMwUQGZmZmZmZhRAAAAAAAAAFECamZmZmZkTQDMzMzMzMxNAzczMzMzMEkBmZmZmZmYSQAAAAAAAABJAmpmZmZmZEUAzMzMzMzMRQM3MzMzMzBBAZmZmZmZmEEAAAAAAAAAaQGZmZmZmZhpAmpmZmZmZG0AzMzMzMzMbQAAAAAAAABxAzczMzMzMHEAAAAAAAAAaQJqZmZmZmRlAMzMzMzMzGUDNzMzMzMwYQGZmZmZmZhhAAAAAAAAAGECamZmZmZkXQDMzMzMzMxdAzczMzMzMFkBmZmZmZmYWQAAAAAAAABZAmpmZmZmZFUAzMzMzMzMVQM3MzMzMzBRAZmZmZmZmFEAAAAAAAAAUQJqZmZmZmRNAMzMzMzMzE0AAAAAAAAAaQAAAAAAAABhAmpmZmZmZGUCamZmZmZkXQDMzMzMzMxlAMzMzMzMzF0DNzMzMzMwYQM3MzMzMzBZAZmZmZmZmGEBmZmZmZmYWQAAAAAAAABhAAAAAAAAAFkCamZmZmZkXQJqZmZmZmRVAMzMzMzMzG0DNzMzMzMwYQGZmZmZmZhhAmpmZmZmZGUAAAAAAAAAYQDMzMzMzMxlAzczMzMzMGEBmZmZmZmYYQDMzMzMzMxlAzczMzMzMGEAAAAAAAAAYQJqZmZmZmRlAMzMzMzMzGUDNzMzMzMwYQGZmZmZmZhhAmpmZmZmZGUAzMzMzMzMZQM3MzMzMzBhAZmZmZmZmGEDNzMzMzMwYQDMzMzMzMxlAmpmZmZmZGUDNzMzMzMwYQAAAAAAAABhAzczMzMzMGEAzMzMzMzMZQDMzMzMzMxlAZmZmZmZmGEAAAAAAAAAYQM3MzMzMzBhAzczMzMzMGECamZmZmZkZQM3MzMzMzBhAAAAAAAAAGEAzMzMzMzMZQJqZmZmZmRlAzczMzMzMGEBmZmZmZmYYQGZmZmZmZhhAzczMzMzMGEAzMzMzMzMZQDMzMzMzMxlA",
          "dtype": "f8"
         },
         "yaxis": "y3"
        },
        {
         "boxmean": "sd",
         "name": "9",
         "showlegend": false,
         "type": "box",
         "xaxis": "x3",
         "y": {
          "bdata": "AAAAAAAAFEAAAAAAAAASQAAAAAAAABZAzczMzMzMFEBmZmZmZmYUQM3MzMzMzBRAzczMzMzMFEDNzMzMzMwUQM3MzMzMzBRAzczMzMzMFEAAAAAAAAAYQDMzMzMzMxdAmpmZmZmZF0DNzMzMzMwWQDMzMzMzMxdAZmZmZmZmFkDNzMzMzMwWQAAAAAAAABZAmpmZmZmZFUAzMzMzMzMVQM3MzMzMzBRAZmZmZmZmFEAAAAAAAAAUQAAAAAAAABZAmpmZmZmZFUAzMzMzMzMVQM3MzMzMzBRAZmZmZmZmFEAAAAAAAAAUQJqZmZmZmRNAMzMzMzMzE0DNzMzMzMwSQGZmZmZmZhJAAAAAAAAAEkCamZmZmZkRQDMzMzMzMxFAzczMzMzMEEBmZmZmZmYQQAAAAAAAABBAMzMzMzMzD0BmZmZmZmYOQJqZmZmZmRdAMzMzMzMzF0DNzMzMzMwWQJqZmZmZmRdAMzMzMzMzF0CamZmZmZkXQM3MzMzMzBZAmpmZmZmZF0AzMzMzMzMXQJqZmZmZmRdAzczMzMzMFkAAAAAAAAAYQDMzMzMzMxdAmpmZmZmZF0A=",
          "dtype": "f8"
         },
         "yaxis": "y3"
        },
        {
         "boxmean": "sd",
         "name": "2",
         "showlegend": false,
         "type": "box",
         "xaxis": "x4",
         "y": {
          "bdata": "CQ==",
          "dtype": "i1"
         },
         "yaxis": "y4"
        },
        {
         "boxmean": "sd",
         "name": "3",
         "showlegend": false,
         "type": "box",
         "xaxis": "x4",
         "y": {
          "bdata": "CAgICAgICAgICAgICAgICA==",
          "dtype": "i1"
         },
         "yaxis": "y4"
        },
        {
         "boxmean": "sd",
         "name": "4",
         "showlegend": false,
         "type": "box",
         "xaxis": "x4",
         "y": {
          "bdata": "BwcICAgICAgICAgICAgICAgIBwgICAgICAgICAgICAgICAgICAgICAgICAgICAgICAgICAgICAgICAgICAgICAgICAgICAgICAgICAgICAgICAg=",
          "dtype": "i1"
         },
         "yaxis": "y4"
        },
        {
         "boxmean": "sd",
         "name": "5",
         "showlegend": false,
         "type": "box",
         "xaxis": "x4",
         "y": {
          "bdata": "BwcHBwcHBwcHBwcHBwcHBwgHCAcIBwgHCAcIBwgHCAcHBwcHBwcHBwcIBwcHBwcHBwcHBwcHBwcHBwcHBwcHBwcHBwcHBwcHBwcHBwcHBwcHBwcHBwcHBwcHBwcHBwcHBwcHBwcHBwcHBwcHBwcHBwcHBwcHBwcHBwcHBwcHBwcHBwcHBwcHBw==",
          "dtype": "i1"
         },
         "yaxis": "y4"
        },
        {
         "boxmean": "sd",
         "name": "6",
         "showlegend": false,
         "type": "box",
         "xaxis": "x4",
         "y": {
          "bdata": "BwcHBwcHBwcHBwcHBwcHBwYGBgYGBgYGBgYGBgcHBwcHBwcHBwcHBwcHBwcHBwcHBwcHBwcHBwcHBwcHBg==",
          "dtype": "i1"
         },
         "yaxis": "y4"
        },
        {
         "boxmean": "sd",
         "name": "7",
         "showlegend": false,
         "type": "box",
         "xaxis": "x4",
         "y": {
          "bdata": "BgUGBgYGBgYGBgYGBgYGBgYGBgYGBgYGBgYGBgYGBgYGBgYGBgYGBgYGBgYGBgUFBQUFBQUFBQUFBQUFBQUFBQUFBgYGBgUGBgUGBgUGBgUGBgUGBgYGBgYGBgYGBgYGBgYGBgYGBgYGBgYGBgYGBgYGBgYGBgYGBgYGBgYGBgYGBgYGBgYGBgYGBgYGBgYGBgYGBgYGBgYGBgYGBgYGBgYGBgYGBgYGBgYGBgYGBgYGBgUGBgYGBgYGBgYGBgYGBgYGBgYGBgYGBgYGBgYGBgY=",
          "dtype": "i1"
         },
         "yaxis": "y4"
        },
        {
         "boxmean": "sd",
         "name": "8",
         "showlegend": false,
         "type": "box",
         "xaxis": "x4",
         "y": {
          "bdata": "BgYGBQUFBQUFBQUFBQUFBQUFBQUFBQUFBQUFBQUFBQUFBQUFBQUFBQUFBQUGBgYGBgYGBgYGBgYGBgYGBgYGBgUFBQUFBQUFBQUFBQUFBQUFBQUFBQUFBQUFBQUFBQUFBQUFBQUFBgUFBQUFBQUFBQQFBQUFBQUFBQUFBQUFBQUFBQUFBQUFBQUFBQUFBQUF",
          "dtype": "i1"
         },
         "yaxis": "y4"
        },
        {
         "boxmean": "sd",
         "name": "9",
         "showlegend": false,
         "type": "box",
         "xaxis": "x4",
         "y": {
          "bdata": "BQQFBQUFBAUFBQUEBAQEBAQEBAQEBAQFBQUFBQUFBQUFBQUFBQUFBQUEBAQEBAQEBAQEBAQEBA==",
          "dtype": "i1"
         },
         "yaxis": "y4"
        }
       ],
       "layout": {
        "annotations": [
         {
          "font": {
           "size": 16
          },
          "showarrow": false,
          "text": "Age vs Addicted_Score",
          "x": 0.225,
          "xanchor": "center",
          "xref": "paper",
          "y": 1,
          "yanchor": "bottom",
          "yref": "paper"
         },
         {
          "font": {
           "size": 16
          },
          "showarrow": false,
          "text": "Avg_Daily_Usage_Hours vs Addicted_Score",
          "x": 0.775,
          "xanchor": "center",
          "xref": "paper",
          "y": 1,
          "yanchor": "bottom",
          "yref": "paper"
         },
         {
          "font": {
           "size": 16
          },
          "showarrow": false,
          "text": "Sleep_Hours_Per_Night vs Addicted_Score",
          "x": 0.225,
          "xanchor": "center",
          "xref": "paper",
          "y": 0.375,
          "yanchor": "bottom",
          "yref": "paper"
         },
         {
          "font": {
           "size": 16
          },
          "showarrow": false,
          "text": "Mental_Health_Score vs Addicted_Score",
          "x": 0.775,
          "xanchor": "center",
          "xref": "paper",
          "y": 0.375,
          "yanchor": "bottom",
          "yref": "paper"
         }
        ],
        "height": 800,
        "showlegend": true,
        "template": {
         "data": {
          "bar": [
           {
            "error_x": {
             "color": "#2a3f5f"
            },
            "error_y": {
             "color": "#2a3f5f"
            },
            "marker": {
             "line": {
              "color": "#E5ECF6",
              "width": 0.5
             },
             "pattern": {
              "fillmode": "overlay",
              "size": 10,
              "solidity": 0.2
             }
            },
            "type": "bar"
           }
          ],
          "barpolar": [
           {
            "marker": {
             "line": {
              "color": "#E5ECF6",
              "width": 0.5
             },
             "pattern": {
              "fillmode": "overlay",
              "size": 10,
              "solidity": 0.2
             }
            },
            "type": "barpolar"
           }
          ],
          "carpet": [
           {
            "aaxis": {
             "endlinecolor": "#2a3f5f",
             "gridcolor": "white",
             "linecolor": "white",
             "minorgridcolor": "white",
             "startlinecolor": "#2a3f5f"
            },
            "baxis": {
             "endlinecolor": "#2a3f5f",
             "gridcolor": "white",
             "linecolor": "white",
             "minorgridcolor": "white",
             "startlinecolor": "#2a3f5f"
            },
            "type": "carpet"
           }
          ],
          "choropleth": [
           {
            "colorbar": {
             "outlinewidth": 0,
             "ticks": ""
            },
            "type": "choropleth"
           }
          ],
          "contour": [
           {
            "colorbar": {
             "outlinewidth": 0,
             "ticks": ""
            },
            "colorscale": [
             [
              0,
              "#0d0887"
             ],
             [
              0.1111111111111111,
              "#46039f"
             ],
             [
              0.2222222222222222,
              "#7201a8"
             ],
             [
              0.3333333333333333,
              "#9c179e"
             ],
             [
              0.4444444444444444,
              "#bd3786"
             ],
             [
              0.5555555555555556,
              "#d8576b"
             ],
             [
              0.6666666666666666,
              "#ed7953"
             ],
             [
              0.7777777777777778,
              "#fb9f3a"
             ],
             [
              0.8888888888888888,
              "#fdca26"
             ],
             [
              1,
              "#f0f921"
             ]
            ],
            "type": "contour"
           }
          ],
          "contourcarpet": [
           {
            "colorbar": {
             "outlinewidth": 0,
             "ticks": ""
            },
            "type": "contourcarpet"
           }
          ],
          "heatmap": [
           {
            "colorbar": {
             "outlinewidth": 0,
             "ticks": ""
            },
            "colorscale": [
             [
              0,
              "#0d0887"
             ],
             [
              0.1111111111111111,
              "#46039f"
             ],
             [
              0.2222222222222222,
              "#7201a8"
             ],
             [
              0.3333333333333333,
              "#9c179e"
             ],
             [
              0.4444444444444444,
              "#bd3786"
             ],
             [
              0.5555555555555556,
              "#d8576b"
             ],
             [
              0.6666666666666666,
              "#ed7953"
             ],
             [
              0.7777777777777778,
              "#fb9f3a"
             ],
             [
              0.8888888888888888,
              "#fdca26"
             ],
             [
              1,
              "#f0f921"
             ]
            ],
            "type": "heatmap"
           }
          ],
          "histogram": [
           {
            "marker": {
             "pattern": {
              "fillmode": "overlay",
              "size": 10,
              "solidity": 0.2
             }
            },
            "type": "histogram"
           }
          ],
          "histogram2d": [
           {
            "colorbar": {
             "outlinewidth": 0,
             "ticks": ""
            },
            "colorscale": [
             [
              0,
              "#0d0887"
             ],
             [
              0.1111111111111111,
              "#46039f"
             ],
             [
              0.2222222222222222,
              "#7201a8"
             ],
             [
              0.3333333333333333,
              "#9c179e"
             ],
             [
              0.4444444444444444,
              "#bd3786"
             ],
             [
              0.5555555555555556,
              "#d8576b"
             ],
             [
              0.6666666666666666,
              "#ed7953"
             ],
             [
              0.7777777777777778,
              "#fb9f3a"
             ],
             [
              0.8888888888888888,
              "#fdca26"
             ],
             [
              1,
              "#f0f921"
             ]
            ],
            "type": "histogram2d"
           }
          ],
          "histogram2dcontour": [
           {
            "colorbar": {
             "outlinewidth": 0,
             "ticks": ""
            },
            "colorscale": [
             [
              0,
              "#0d0887"
             ],
             [
              0.1111111111111111,
              "#46039f"
             ],
             [
              0.2222222222222222,
              "#7201a8"
             ],
             [
              0.3333333333333333,
              "#9c179e"
             ],
             [
              0.4444444444444444,
              "#bd3786"
             ],
             [
              0.5555555555555556,
              "#d8576b"
             ],
             [
              0.6666666666666666,
              "#ed7953"
             ],
             [
              0.7777777777777778,
              "#fb9f3a"
             ],
             [
              0.8888888888888888,
              "#fdca26"
             ],
             [
              1,
              "#f0f921"
             ]
            ],
            "type": "histogram2dcontour"
           }
          ],
          "mesh3d": [
           {
            "colorbar": {
             "outlinewidth": 0,
             "ticks": ""
            },
            "type": "mesh3d"
           }
          ],
          "parcoords": [
           {
            "line": {
             "colorbar": {
              "outlinewidth": 0,
              "ticks": ""
             }
            },
            "type": "parcoords"
           }
          ],
          "pie": [
           {
            "automargin": true,
            "type": "pie"
           }
          ],
          "scatter": [
           {
            "fillpattern": {
             "fillmode": "overlay",
             "size": 10,
             "solidity": 0.2
            },
            "type": "scatter"
           }
          ],
          "scatter3d": [
           {
            "line": {
             "colorbar": {
              "outlinewidth": 0,
              "ticks": ""
             }
            },
            "marker": {
             "colorbar": {
              "outlinewidth": 0,
              "ticks": ""
             }
            },
            "type": "scatter3d"
           }
          ],
          "scattercarpet": [
           {
            "marker": {
             "colorbar": {
              "outlinewidth": 0,
              "ticks": ""
             }
            },
            "type": "scattercarpet"
           }
          ],
          "scattergeo": [
           {
            "marker": {
             "colorbar": {
              "outlinewidth": 0,
              "ticks": ""
             }
            },
            "type": "scattergeo"
           }
          ],
          "scattergl": [
           {
            "marker": {
             "colorbar": {
              "outlinewidth": 0,
              "ticks": ""
             }
            },
            "type": "scattergl"
           }
          ],
          "scattermap": [
           {
            "marker": {
             "colorbar": {
              "outlinewidth": 0,
              "ticks": ""
             }
            },
            "type": "scattermap"
           }
          ],
          "scattermapbox": [
           {
            "marker": {
             "colorbar": {
              "outlinewidth": 0,
              "ticks": ""
             }
            },
            "type": "scattermapbox"
           }
          ],
          "scatterpolar": [
           {
            "marker": {
             "colorbar": {
              "outlinewidth": 0,
              "ticks": ""
             }
            },
            "type": "scatterpolar"
           }
          ],
          "scatterpolargl": [
           {
            "marker": {
             "colorbar": {
              "outlinewidth": 0,
              "ticks": ""
             }
            },
            "type": "scatterpolargl"
           }
          ],
          "scatterternary": [
           {
            "marker": {
             "colorbar": {
              "outlinewidth": 0,
              "ticks": ""
             }
            },
            "type": "scatterternary"
           }
          ],
          "surface": [
           {
            "colorbar": {
             "outlinewidth": 0,
             "ticks": ""
            },
            "colorscale": [
             [
              0,
              "#0d0887"
             ],
             [
              0.1111111111111111,
              "#46039f"
             ],
             [
              0.2222222222222222,
              "#7201a8"
             ],
             [
              0.3333333333333333,
              "#9c179e"
             ],
             [
              0.4444444444444444,
              "#bd3786"
             ],
             [
              0.5555555555555556,
              "#d8576b"
             ],
             [
              0.6666666666666666,
              "#ed7953"
             ],
             [
              0.7777777777777778,
              "#fb9f3a"
             ],
             [
              0.8888888888888888,
              "#fdca26"
             ],
             [
              1,
              "#f0f921"
             ]
            ],
            "type": "surface"
           }
          ],
          "table": [
           {
            "cells": {
             "fill": {
              "color": "#EBF0F8"
             },
             "line": {
              "color": "white"
             }
            },
            "header": {
             "fill": {
              "color": "#C8D4E3"
             },
             "line": {
              "color": "white"
             }
            },
            "type": "table"
           }
          ]
         },
         "layout": {
          "annotationdefaults": {
           "arrowcolor": "#2a3f5f",
           "arrowhead": 0,
           "arrowwidth": 1
          },
          "autotypenumbers": "strict",
          "coloraxis": {
           "colorbar": {
            "outlinewidth": 0,
            "ticks": ""
           }
          },
          "colorscale": {
           "diverging": [
            [
             0,
             "#8e0152"
            ],
            [
             0.1,
             "#c51b7d"
            ],
            [
             0.2,
             "#de77ae"
            ],
            [
             0.3,
             "#f1b6da"
            ],
            [
             0.4,
             "#fde0ef"
            ],
            [
             0.5,
             "#f7f7f7"
            ],
            [
             0.6,
             "#e6f5d0"
            ],
            [
             0.7,
             "#b8e186"
            ],
            [
             0.8,
             "#7fbc41"
            ],
            [
             0.9,
             "#4d9221"
            ],
            [
             1,
             "#276419"
            ]
           ],
           "sequential": [
            [
             0,
             "#0d0887"
            ],
            [
             0.1111111111111111,
             "#46039f"
            ],
            [
             0.2222222222222222,
             "#7201a8"
            ],
            [
             0.3333333333333333,
             "#9c179e"
            ],
            [
             0.4444444444444444,
             "#bd3786"
            ],
            [
             0.5555555555555556,
             "#d8576b"
            ],
            [
             0.6666666666666666,
             "#ed7953"
            ],
            [
             0.7777777777777778,
             "#fb9f3a"
            ],
            [
             0.8888888888888888,
             "#fdca26"
            ],
            [
             1,
             "#f0f921"
            ]
           ],
           "sequentialminus": [
            [
             0,
             "#0d0887"
            ],
            [
             0.1111111111111111,
             "#46039f"
            ],
            [
             0.2222222222222222,
             "#7201a8"
            ],
            [
             0.3333333333333333,
             "#9c179e"
            ],
            [
             0.4444444444444444,
             "#bd3786"
            ],
            [
             0.5555555555555556,
             "#d8576b"
            ],
            [
             0.6666666666666666,
             "#ed7953"
            ],
            [
             0.7777777777777778,
             "#fb9f3a"
            ],
            [
             0.8888888888888888,
             "#fdca26"
            ],
            [
             1,
             "#f0f921"
            ]
           ]
          },
          "colorway": [
           "#636efa",
           "#EF553B",
           "#00cc96",
           "#ab63fa",
           "#FFA15A",
           "#19d3f3",
           "#FF6692",
           "#B6E880",
           "#FF97FF",
           "#FECB52"
          ],
          "font": {
           "color": "#2a3f5f"
          },
          "geo": {
           "bgcolor": "white",
           "lakecolor": "white",
           "landcolor": "#E5ECF6",
           "showlakes": true,
           "showland": true,
           "subunitcolor": "white"
          },
          "hoverlabel": {
           "align": "left"
          },
          "hovermode": "closest",
          "mapbox": {
           "style": "light"
          },
          "paper_bgcolor": "white",
          "plot_bgcolor": "#E5ECF6",
          "polar": {
           "angularaxis": {
            "gridcolor": "white",
            "linecolor": "white",
            "ticks": ""
           },
           "bgcolor": "#E5ECF6",
           "radialaxis": {
            "gridcolor": "white",
            "linecolor": "white",
            "ticks": ""
           }
          },
          "scene": {
           "xaxis": {
            "backgroundcolor": "#E5ECF6",
            "gridcolor": "white",
            "gridwidth": 2,
            "linecolor": "white",
            "showbackground": true,
            "ticks": "",
            "zerolinecolor": "white"
           },
           "yaxis": {
            "backgroundcolor": "#E5ECF6",
            "gridcolor": "white",
            "gridwidth": 2,
            "linecolor": "white",
            "showbackground": true,
            "ticks": "",
            "zerolinecolor": "white"
           },
           "zaxis": {
            "backgroundcolor": "#E5ECF6",
            "gridcolor": "white",
            "gridwidth": 2,
            "linecolor": "white",
            "showbackground": true,
            "ticks": "",
            "zerolinecolor": "white"
           }
          },
          "shapedefaults": {
           "line": {
            "color": "#2a3f5f"
           }
          },
          "ternary": {
           "aaxis": {
            "gridcolor": "white",
            "linecolor": "white",
            "ticks": ""
           },
           "baxis": {
            "gridcolor": "white",
            "linecolor": "white",
            "ticks": ""
           },
           "bgcolor": "#E5ECF6",
           "caxis": {
            "gridcolor": "white",
            "linecolor": "white",
            "ticks": ""
           }
          },
          "title": {
           "x": 0.05
          },
          "xaxis": {
           "automargin": true,
           "gridcolor": "white",
           "linecolor": "white",
           "ticks": "",
           "title": {
            "standoff": 15
           },
           "zerolinecolor": "white",
           "zerolinewidth": 2
          },
          "yaxis": {
           "automargin": true,
           "gridcolor": "white",
           "linecolor": "white",
           "ticks": "",
           "title": {
            "standoff": 15
           },
           "zerolinecolor": "white",
           "zerolinewidth": 2
          }
         }
        },
        "title": {
         "text": "Boxplots of Numerical Features by Addicted Score"
        },
        "width": 1200,
        "xaxis": {
         "anchor": "y",
         "categoryarray": [
          2,
          3,
          4,
          5,
          6,
          7,
          8,
          9
         ],
         "categoryorder": "array",
         "domain": [
          0,
          0.45
         ],
         "title": {
          "text": "Addicted_Score"
         }
        },
        "xaxis2": {
         "anchor": "y2",
         "categoryarray": [
          2,
          3,
          4,
          5,
          6,
          7,
          8,
          9
         ],
         "categoryorder": "array",
         "domain": [
          0.55,
          1
         ],
         "title": {
          "text": "Addicted_Score"
         }
        },
        "xaxis3": {
         "anchor": "y3",
         "categoryarray": [
          2,
          3,
          4,
          5,
          6,
          7,
          8,
          9
         ],
         "categoryorder": "array",
         "domain": [
          0,
          0.45
         ],
         "title": {
          "text": "Addicted_Score"
         }
        },
        "xaxis4": {
         "anchor": "y4",
         "categoryarray": [
          2,
          3,
          4,
          5,
          6,
          7,
          8,
          9
         ],
         "categoryorder": "array",
         "domain": [
          0.55,
          1
         ],
         "title": {
          "text": "Addicted_Score"
         }
        },
        "yaxis": {
         "anchor": "x",
         "domain": [
          0.625,
          1
         ],
         "title": {
          "text": "Age"
         }
        },
        "yaxis2": {
         "anchor": "x2",
         "domain": [
          0.625,
          1
         ],
         "title": {
          "text": "Avg_Daily_Usage_Hours"
         }
        },
        "yaxis3": {
         "anchor": "x3",
         "domain": [
          0,
          0.375
         ],
         "title": {
          "text": "Sleep_Hours_Per_Night"
         }
        },
        "yaxis4": {
         "anchor": "x4",
         "domain": [
          0,
          0.375
         ],
         "title": {
          "text": "Mental_Health_Score"
         }
        }
       }
      },
      "image/png": "[encoded data removed]"
     },
     "metadata": {},
     "output_type": "display_data"
    }
   ],
   "source": [
    "\n",
    "from plotly.subplots import make_subplots\n",
    "import plotly.graph_objects as go\n",
    "import math\n",
    "fig.update_xaxes(categoryorder='array', categoryarray=sorted(students[target].unique()))\n",
    "\n",
    "numerical_features = ['Age', 'Avg_Daily_Usage_Hours', 'Sleep_Hours_Per_Night', 'Mental_Health_Score']\n",
    "target = 'Addicted_Score'\n",
    "\n",
    "num_plots = len(numerical_features)\n",
    "cols = 2\n",
    "rows = math.ceil(num_plots / cols)\n",
    "\n",
    "fig = make_subplots(\n",
    "    rows=rows,\n",
    "    cols=cols,\n",
    "    subplot_titles=[f'{feature} vs {target}' for feature in numerical_features]\n",
    ")\n",
    "\n",
    "for idx, feature in enumerate(numerical_features):\n",
    "    row = idx // cols + 1\n",
    "    col = idx % cols + 1\n",
    "\n",
    "    for val in sorted(students[target].unique()):  # Sort target values\n",
    "        fig.add_trace(\n",
    "            go.Box(\n",
    "                y=students[students[target] == val][feature],\n",
    "                name=str(val),\n",
    "                boxmean='sd',\n",
    "                showlegend=(idx == 0)\n",
    "            ),\n",
    "            row=row,\n",
    "            col=col\n",
    "        )\n",
    "\n",
    "    # Add axis labels for this subplot\n",
    "    fig.update_yaxes(title_text=feature, row=row, col=col)\n",
    "    fig.update_xaxes(\n",
    "        title_text=target,\n",
    "        row=row,\n",
    "        col=col,\n",
    "        categoryorder='array',\n",
    "        categoryarray=sorted(students[target].unique())\n",
    "    )\n",
    "\n",
    "fig.update_layout(\n",
    "    height=rows * 400,\n",
    "    width=cols * 600,\n",
    "    title_text=\"Boxplots of Numerical Features by Addicted Score\",\n",
    "    showlegend=True\n",
    ")\n",
    "\n",
    "fig.show()\n",
    "\n"
   ]
  },
  {
   "cell_type": "markdown",
   "id": "61b8214e-1451-4f7b-bf1d-a1f3acdf052f",
   "metadata": {},
   "source": [
    "## 📊 Boxplots of Numerical Features by Addicted Score\n",
    "\n",
    "The visual below presents **boxplots** of selected numerical features plotted against the target variable: `Addicted_Score`.\n",
    "\n",
    "\n",
    "### 🔍 Feature-wise Observations\n",
    "\n",
    "- **Age vs Addicted Score**  \n",
    "  Age does not show a clear increasing or decreasing trend with addiction scores. The spread is fairly uniform, with some minor variations and outliers across the range.\n",
    "\n",
    "- **Average Daily Usage Hours vs Addicted Score**  \n",
    "  A clear positive trend is evident — students with higher addiction scores tend to have significantly higher average daily usage hours. This could suggest a strong behavioral link between screen time and addiction.\n",
    "\n",
    "- **Sleep Hours Per Night vs Addicted Score**  \n",
    "  There appears to be a mild inverse relationship. Higher `Addicted_Score` groups tend to have lower median sleep hours, though variability exists. This may indicate that addiction affects or coincides with poor sleep habits.\n",
    "\n",
    "- **Mental Health Score vs Addicted Score**  \n",
    "  Mental health scores tend to decline as addiction scores increase. The median mental health score is lower in higher addiction groups, suggesting a potential negative impact of addiction on mental well-being.\n",
    "\n",
    "### 📌 Notes\n",
    "\n",
    "- Each subplot shows the distribution of a numerical feature for each unique `Addicted_Score` level.\n",
    "- Boxes represent the interquartile range (IQR), with medians and outliers clearly visible.\n",
    "- Distinct colors are used for each group to aid visual separation.\n",
    "\n",
    "\n"
   ]
  },
  {
   "cell_type": "code",
   "execution_count": 25,
   "id": "250607b8",
   "metadata": {},
   "outputs": [
    {
     "data": {
      "application/vnd.plotly.v1+json": {
       "config": {
        "plotlyServerURL": "https://plot.ly"
       },
       "data": [
        {
         "customdata": [
          [
           "Bangladesh",
           "Female"
          ],
          [
           "USA",
           "Female"
          ],
          [
           "Canada",
           "Male"
          ],
          [
           "Australia",
           "Female"
          ],
          [
           "Other",
           "Female"
          ],
          [
           "France",
           "Male"
          ],
          [
           "Spain",
           "Female"
          ],
          [
           "Mexico",
           "Female"
          ],
          [
           "China",
           "Female"
          ],
          [
           "Other",
           "Female"
          ],
          [
           "Other",
           "Female"
          ],
          [
           "Other",
           "Male"
          ],
          [
           "Other",
           "Male"
          ],
          [
           "Other",
           "Female"
          ],
          [
           "Ireland",
           "Female"
          ],
          [
           "Other",
           "Female"
          ],
          [
           "Other",
           "Female"
          ],
          [
           "Other",
           "Female"
          ],
          [
           "Other",
           "Male"
          ],
          [
           "Other",
           "Male"
          ],
          [
           "Turkey",
           "Female"
          ],
          [
           "Other",
           "Female"
          ],
          [
           "Other",
           "Female"
          ],
          [
           "Other",
           "Female"
          ],
          [
           "Other",
           "Female"
          ],
          [
           "Other",
           "Male"
          ],
          [
           "Other",
           "Male"
          ],
          [
           "Other",
           "Female"
          ],
          [
           "Other",
           "Female"
          ],
          [
           "Other",
           "Female"
          ],
          [
           "Other",
           "Female"
          ],
          [
           "Other",
           "Female"
          ],
          [
           "Other",
           "Male"
          ],
          [
           "Other",
           "Male"
          ],
          [
           "Other",
           "Female"
          ],
          [
           "Other",
           "Female"
          ],
          [
           "Other",
           "Male"
          ],
          [
           "Other",
           "Female"
          ],
          [
           "Other",
           "Female"
          ],
          [
           "Other",
           "Female"
          ],
          [
           "Other",
           "Female"
          ],
          [
           "Other",
           "Male"
          ],
          [
           "Other",
           "Male"
          ],
          [
           "Other",
           "Female"
          ],
          [
           "Other",
           "Female"
          ],
          [
           "Other",
           "Male"
          ],
          [
           "Other",
           "Male"
          ],
          [
           "Other",
           "Female"
          ],
          [
           "Other",
           "Female"
          ],
          [
           "Other",
           "Male"
          ],
          [
           "Other",
           "Female"
          ],
          [
           "Other",
           "Male"
          ],
          [
           "Other",
           "Male"
          ],
          [
           "Other",
           "Female"
          ],
          [
           "Other",
           "Female"
          ],
          [
           "Other",
           "Female"
          ],
          [
           "Other",
           "Female"
          ],
          [
           "Other",
           "Male"
          ],
          [
           "Other",
           "Male"
          ],
          [
           "Other",
           "Female"
          ],
          [
           "Other",
           "Male"
          ],
          [
           "Other",
           "Male"
          ],
          [
           "Other",
           "Female"
          ],
          [
           "Pakistan",
           "Female"
          ],
          [
           "Other",
           "Female"
          ],
          [
           "Maldives",
           "Female"
          ],
          [
           "Bangladesh",
           "Male"
          ],
          [
           "India",
           "Female"
          ],
          [
           "Pakistan",
           "Female"
          ],
          [
           "Sri Lanka",
           "Male"
          ],
          [
           "Bangladesh",
           "Male"
          ],
          [
           "India",
           "Female"
          ],
          [
           "Pakistan",
           "Female"
          ],
          [
           "Sri Lanka",
           "Male"
          ],
          [
           "Bangladesh",
           "Male"
          ],
          [
           "India",
           "Female"
          ],
          [
           "Pakistan",
           "Female"
          ],
          [
           "Sri Lanka",
           "Male"
          ],
          [
           "Bangladesh",
           "Male"
          ],
          [
           "India",
           "Female"
          ],
          [
           "Pakistan",
           "Female"
          ],
          [
           "Sri Lanka",
           "Male"
          ],
          [
           "Bangladesh",
           "Male"
          ],
          [
           "India",
           "Female"
          ],
          [
           "Pakistan",
           "Female"
          ],
          [
           "Sri Lanka",
           "Male"
          ],
          [
           "Bangladesh",
           "Male"
          ],
          [
           "India",
           "Female"
          ],
          [
           "Pakistan",
           "Female"
          ],
          [
           "Sri Lanka",
           "Male"
          ],
          [
           "Bangladesh",
           "Male"
          ],
          [
           "India",
           "Female"
          ],
          [
           "Pakistan",
           "Female"
          ],
          [
           "Sri Lanka",
           "Male"
          ],
          [
           "Bangladesh",
           "Male"
          ],
          [
           "India",
           "Female"
          ],
          [
           "Pakistan",
           "Female"
          ],
          [
           "Sri Lanka",
           "Male"
          ],
          [
           "Bangladesh",
           "Male"
          ],
          [
           "India",
           "Female"
          ],
          [
           "Bangladesh",
           "Female"
          ],
          [
           "Nepal",
           "Female"
          ],
          [
           "Pakistan",
           "Male"
          ],
          [
           "Maldives",
           "Male"
          ],
          [
           "Bangladesh",
           "Female"
          ],
          [
           "Nepal",
           "Female"
          ],
          [
           "Pakistan",
           "Male"
          ],
          [
           "Maldives",
           "Male"
          ],
          [
           "Bangladesh",
           "Female"
          ],
          [
           "Nepal",
           "Female"
          ],
          [
           "Pakistan",
           "Male"
          ],
          [
           "Maldives",
           "Male"
          ],
          [
           "Bangladesh",
           "Female"
          ],
          [
           "Nepal",
           "Female"
          ],
          [
           "Pakistan",
           "Male"
          ],
          [
           "Maldives",
           "Male"
          ],
          [
           "Bangladesh",
           "Female"
          ],
          [
           "Nepal",
           "Female"
          ],
          [
           "Pakistan",
           "Male"
          ],
          [
           "Maldives",
           "Male"
          ],
          [
           "Bangladesh",
           "Female"
          ],
          [
           "Nepal",
           "Female"
          ],
          [
           "Pakistan",
           "Male"
          ],
          [
           "Maldives",
           "Male"
          ],
          [
           "Bangladesh",
           "Female"
          ],
          [
           "Nepal",
           "Female"
          ],
          [
           "Pakistan",
           "Male"
          ],
          [
           "Maldives",
           "Male"
          ],
          [
           "Bangladesh",
           "Female"
          ],
          [
           "Nepal",
           "Female"
          ],
          [
           "Pakistan",
           "Male"
          ],
          [
           "Maldives",
           "Male"
          ],
          [
           "Bangladesh",
           "Female"
          ],
          [
           "Nepal",
           "Female"
          ],
          [
           "Pakistan",
           "Male"
          ],
          [
           "Maldives",
           "Male"
          ],
          [
           "Bangladesh",
           "Female"
          ],
          [
           "Nepal",
           "Female"
          ],
          [
           "Pakistan",
           "Male"
          ],
          [
           "Maldives",
           "Male"
          ],
          [
           "USA",
           "Female"
          ],
          [
           "UK",
           "Male"
          ],
          [
           "Italy",
           "Male"
          ],
          [
           "South Korea",
           "Female"
          ],
          [
           "USA",
           "Female"
          ],
          [
           "UK",
           "Male"
          ],
          [
           "Italy",
           "Male"
          ],
          [
           "South Korea",
           "Female"
          ],
          [
           "USA",
           "Female"
          ],
          [
           "UK",
           "Male"
          ],
          [
           "Italy",
           "Male"
          ],
          [
           "South Korea",
           "Female"
          ],
          [
           "USA",
           "Female"
          ],
          [
           "UK",
           "Male"
          ],
          [
           "Italy",
           "Male"
          ],
          [
           "South Korea",
           "Female"
          ],
          [
           "USA",
           "Female"
          ],
          [
           "UK",
           "Male"
          ],
          [
           "Italy",
           "Male"
          ],
          [
           "South Korea",
           "Female"
          ],
          [
           "USA",
           "Female"
          ],
          [
           "UK",
           "Male"
          ],
          [
           "Italy",
           "Male"
          ],
          [
           "South Korea",
           "Female"
          ],
          [
           "USA",
           "Female"
          ],
          [
           "UK",
           "Male"
          ],
          [
           "Italy",
           "Male"
          ],
          [
           "South Korea",
           "Female"
          ],
          [
           "USA",
           "Female"
          ],
          [
           "UK",
           "Male"
          ],
          [
           "Italy",
           "Male"
          ],
          [
           "South Korea",
           "Female"
          ],
          [
           "USA",
           "Female"
          ],
          [
           "UK",
           "Male"
          ],
          [
           "Italy",
           "Male"
          ],
          [
           "South Korea",
           "Female"
          ],
          [
           "USA",
           "Female"
          ],
          [
           "UK",
           "Male"
          ],
          [
           "Italy",
           "Male"
          ],
          [
           "South Korea",
           "Female"
          ],
          [
           "USA",
           "Female"
          ],
          [
           "UK",
           "Male"
          ],
          [
           "Italy",
           "Male"
          ],
          [
           "South Korea",
           "Female"
          ],
          [
           "USA",
           "Female"
          ],
          [
           "UK",
           "Male"
          ],
          [
           "Italy",
           "Male"
          ],
          [
           "South Korea",
           "Female"
          ],
          [
           "USA",
           "Female"
          ],
          [
           "UK",
           "Male"
          ],
          [
           "Spain",
           "Female"
          ],
          [
           "Ireland",
           "Female"
          ],
          [
           "India",
           "Male"
          ],
          [
           "Turkey",
           "Male"
          ],
          [
           "USA",
           "Female"
          ],
          [
           "Mexico",
           "Male"
          ],
          [
           "Canada",
           "Male"
          ],
          [
           "Spain",
           "Female"
          ],
          [
           "Ireland",
           "Female"
          ],
          [
           "India",
           "Male"
          ],
          [
           "Turkey",
           "Male"
          ],
          [
           "USA",
           "Female"
          ],
          [
           "Mexico",
           "Male"
          ],
          [
           "Canada",
           "Male"
          ],
          [
           "Spain",
           "Female"
          ],
          [
           "Ireland",
           "Female"
          ],
          [
           "India",
           "Male"
          ],
          [
           "Turkey",
           "Male"
          ],
          [
           "USA",
           "Female"
          ],
          [
           "Mexico",
           "Male"
          ],
          [
           "Canada",
           "Male"
          ],
          [
           "Spain",
           "Female"
          ],
          [
           "Ireland",
           "Female"
          ],
          [
           "India",
           "Male"
          ],
          [
           "Turkey",
           "Male"
          ],
          [
           "USA",
           "Female"
          ],
          [
           "Mexico",
           "Male"
          ],
          [
           "Canada",
           "Male"
          ],
          [
           "Spain",
           "Female"
          ],
          [
           "Ireland",
           "Female"
          ],
          [
           "India",
           "Male"
          ],
          [
           "Turkey",
           "Male"
          ],
          [
           "USA",
           "Female"
          ],
          [
           "Mexico",
           "Male"
          ],
          [
           "Canada",
           "Male"
          ],
          [
           "Spain",
           "Female"
          ],
          [
           "Ireland",
           "Female"
          ],
          [
           "India",
           "Male"
          ],
          [
           "Turkey",
           "Male"
          ],
          [
           "USA",
           "Female"
          ],
          [
           "Mexico",
           "Male"
          ],
          [
           "Canada",
           "Male"
          ],
          [
           "Spain",
           "Female"
          ],
          [
           "Ireland",
           "Female"
          ],
          [
           "India",
           "Male"
          ],
          [
           "Turkey",
           "Male"
          ],
          [
           "USA",
           "Female"
          ],
          [
           "Mexico",
           "Male"
          ],
          [
           "Canada",
           "Male"
          ],
          [
           "Spain",
           "Female"
          ],
          [
           "Ireland",
           "Female"
          ],
          [
           "India",
           "Male"
          ],
          [
           "Turkey",
           "Male"
          ],
          [
           "USA",
           "Female"
          ],
          [
           "Mexico",
           "Male"
          ],
          [
           "Canada",
           "Male"
          ],
          [
           "Spain",
           "Female"
          ],
          [
           "Ireland",
           "Female"
          ],
          [
           "India",
           "Male"
          ],
          [
           "Turkey",
           "Male"
          ],
          [
           "USA",
           "Female"
          ],
          [
           "Mexico",
           "Male"
          ],
          [
           "Canada",
           "Male"
          ],
          [
           "Spain",
           "Female"
          ],
          [
           "Ireland",
           "Female"
          ],
          [
           "India",
           "Male"
          ],
          [
           "Turkey",
           "Male"
          ],
          [
           "USA",
           "Female"
          ],
          [
           "Mexico",
           "Male"
          ],
          [
           "Canada",
           "Male"
          ],
          [
           "Spain",
           "Female"
          ],
          [
           "Ireland",
           "Female"
          ],
          [
           "India",
           "Male"
          ],
          [
           "Turkey",
           "Male"
          ],
          [
           "USA",
           "Female"
          ],
          [
           "Mexico",
           "Male"
          ],
          [
           "Canada",
           "Male"
          ],
          [
           "Spain",
           "Female"
          ],
          [
           "Ireland",
           "Female"
          ],
          [
           "India",
           "Male"
          ],
          [
           "Turkey",
           "Male"
          ],
          [
           "USA",
           "Female"
          ],
          [
           "Mexico",
           "Male"
          ],
          [
           "Canada",
           "Male"
          ],
          [
           "Spain",
           "Female"
          ],
          [
           "Ireland",
           "Female"
          ],
          [
           "India",
           "Male"
          ],
          [
           "Turkey",
           "Male"
          ],
          [
           "USA",
           "Female"
          ],
          [
           "Mexico",
           "Male"
          ],
          [
           "Canada",
           "Male"
          ],
          [
           "Spain",
           "Female"
          ],
          [
           "Ireland",
           "Female"
          ],
          [
           "India",
           "Male"
          ],
          [
           "Turkey",
           "Male"
          ],
          [
           "USA",
           "Female"
          ],
          [
           "Mexico",
           "Male"
          ],
          [
           "Canada",
           "Male"
          ],
          [
           "Spain",
           "Female"
          ],
          [
           "Ireland",
           "Female"
          ],
          [
           "India",
           "Male"
          ],
          [
           "Turkey",
           "Male"
          ],
          [
           "USA",
           "Female"
          ],
          [
           "Mexico",
           "Male"
          ],
          [
           "Canada",
           "Male"
          ],
          [
           "Spain",
           "Female"
          ],
          [
           "Ireland",
           "Female"
          ],
          [
           "India",
           "Male"
          ],
          [
           "Turkey",
           "Male"
          ],
          [
           "USA",
           "Female"
          ],
          [
           "Mexico",
           "Male"
          ],
          [
           "Canada",
           "Male"
          ],
          [
           "Spain",
           "Female"
          ],
          [
           "Ireland",
           "Female"
          ],
          [
           "India",
           "Male"
          ],
          [
           "Turkey",
           "Male"
          ],
          [
           "USA",
           "Female"
          ],
          [
           "Mexico",
           "Male"
          ],
          [
           "Canada",
           "Male"
          ],
          [
           "Spain",
           "Female"
          ],
          [
           "Ireland",
           "Female"
          ],
          [
           "India",
           "Male"
          ],
          [
           "Turkey",
           "Male"
          ],
          [
           "USA",
           "Female"
          ],
          [
           "Mexico",
           "Male"
          ],
          [
           "Canada",
           "Male"
          ],
          [
           "Other",
           "Female"
          ],
          [
           "Other",
           "Male"
          ],
          [
           "Other",
           "Female"
          ],
          [
           "Other",
           "Male"
          ],
          [
           "Other",
           "Female"
          ],
          [
           "India",
           "Female"
          ],
          [
           "Canada",
           "Male"
          ],
          [
           "Other",
           "Female"
          ],
          [
           "Other",
           "Male"
          ],
          [
           "Other",
           "Female"
          ],
          [
           "Other",
           "Male"
          ],
          [
           "Other",
           "Female"
          ],
          [
           "India",
           "Female"
          ],
          [
           "Canada",
           "Male"
          ],
          [
           "Other",
           "Female"
          ],
          [
           "Other",
           "Male"
          ],
          [
           "Other",
           "Female"
          ],
          [
           "Other",
           "Male"
          ],
          [
           "Other",
           "Female"
          ],
          [
           "India",
           "Female"
          ],
          [
           "Canada",
           "Male"
          ],
          [
           "Other",
           "Female"
          ],
          [
           "Other",
           "Male"
          ],
          [
           "Other",
           "Female"
          ],
          [
           "Other",
           "Male"
          ],
          [
           "Other",
           "Female"
          ],
          [
           "India",
           "Female"
          ],
          [
           "Canada",
           "Male"
          ],
          [
           "Other",
           "Female"
          ],
          [
           "Other",
           "Male"
          ],
          [
           "Other",
           "Female"
          ],
          [
           "Other",
           "Male"
          ],
          [
           "Other",
           "Female"
          ],
          [
           "India",
           "Female"
          ],
          [
           "Canada",
           "Male"
          ],
          [
           "Other",
           "Female"
          ],
          [
           "Other",
           "Male"
          ],
          [
           "Other",
           "Female"
          ],
          [
           "Other",
           "Male"
          ],
          [
           "Other",
           "Female"
          ],
          [
           "India",
           "Female"
          ],
          [
           "Canada",
           "Male"
          ],
          [
           "Other",
           "Female"
          ],
          [
           "Other",
           "Male"
          ],
          [
           "Other",
           "Female"
          ],
          [
           "Other",
           "Male"
          ],
          [
           "Other",
           "Female"
          ],
          [
           "India",
           "Female"
          ],
          [
           "Canada",
           "Male"
          ],
          [
           "Spain",
           "Female"
          ],
          [
           "Ireland",
           "Female"
          ],
          [
           "India",
           "Male"
          ],
          [
           "Turkey",
           "Male"
          ],
          [
           "USA",
           "Female"
          ],
          [
           "Mexico",
           "Male"
          ],
          [
           "Canada",
           "Male"
          ],
          [
           "UK",
           "Female"
          ],
          [
           "Russia",
           "Female"
          ],
          [
           "China",
           "Male"
          ],
          [
           "Poland",
           "Male"
          ],
          [
           "Spain",
           "Male"
          ],
          [
           "Ireland",
           "Male"
          ],
          [
           "India",
           "Female"
          ],
          [
           "Turkey",
           "Female"
          ],
          [
           "USA",
           "Male"
          ],
          [
           "Mexico",
           "Female"
          ],
          [
           "France",
           "Male"
          ],
          [
           "UK",
           "Male"
          ],
          [
           "Russia",
           "Male"
          ],
          [
           "China",
           "Female"
          ],
          [
           "Poland",
           "Female"
          ],
          [
           "Spain",
           "Female"
          ],
          [
           "Ireland",
           "Female"
          ],
          [
           "India",
           "Male"
          ],
          [
           "Turkey",
           "Male"
          ],
          [
           "USA",
           "Female"
          ],
          [
           "Mexico",
           "Male"
          ],
          [
           "Canada",
           "Male"
          ],
          [
           "UK",
           "Female"
          ],
          [
           "Russia",
           "Female"
          ],
          [
           "China",
           "Male"
          ],
          [
           "Poland",
           "Male"
          ],
          [
           "Spain",
           "Male"
          ],
          [
           "Ireland",
           "Male"
          ],
          [
           "India",
           "Female"
          ],
          [
           "Turkey",
           "Female"
          ],
          [
           "USA",
           "Male"
          ],
          [
           "Mexico",
           "Female"
          ],
          [
           "Canada",
           "Female"
          ],
          [
           "UK",
           "Male"
          ],
          [
           "Russia",
           "Male"
          ],
          [
           "China",
           "Female"
          ],
          [
           "Poland",
           "Female"
          ],
          [
           "Spain",
           "Female"
          ],
          [
           "Ireland",
           "Female"
          ],
          [
           "India",
           "Male"
          ],
          [
           "Turkey",
           "Male"
          ],
          [
           "USA",
           "Female"
          ],
          [
           "Mexico",
           "Male"
          ],
          [
           "Canada",
           "Male"
          ],
          [
           "UK",
           "Female"
          ],
          [
           "Russia",
           "Female"
          ],
          [
           "China",
           "Male"
          ],
          [
           "Poland",
           "Male"
          ],
          [
           "Spain",
           "Male"
          ],
          [
           "Ireland",
           "Male"
          ],
          [
           "India",
           "Female"
          ],
          [
           "Turkey",
           "Female"
          ],
          [
           "USA",
           "Male"
          ],
          [
           "Mexico",
           "Female"
          ],
          [
           "Canada",
           "Female"
          ],
          [
           "UK",
           "Male"
          ],
          [
           "Russia",
           "Male"
          ],
          [
           "China",
           "Female"
          ],
          [
           "Poland",
           "Female"
          ],
          [
           "Spain",
           "Female"
          ],
          [
           "Ireland",
           "Female"
          ],
          [
           "India",
           "Male"
          ],
          [
           "Turkey",
           "Male"
          ],
          [
           "USA",
           "Female"
          ],
          [
           "Mexico",
           "Male"
          ],
          [
           "Canada",
           "Male"
          ],
          [
           "UK",
           "Female"
          ],
          [
           "Russia",
           "Female"
          ],
          [
           "China",
           "Male"
          ],
          [
           "Poland",
           "Male"
          ],
          [
           "Spain",
           "Male"
          ],
          [
           "Ireland",
           "Male"
          ],
          [
           "India",
           "Female"
          ],
          [
           "Turkey",
           "Female"
          ],
          [
           "USA",
           "Male"
          ],
          [
           "Mexico",
           "Female"
          ],
          [
           "Canada",
           "Female"
          ],
          [
           "UK",
           "Male"
          ],
          [
           "Russia",
           "Male"
          ],
          [
           "China",
           "Female"
          ],
          [
           "Poland",
           "Female"
          ]
         ],
         "hovertemplate": "Affects_Academic_Performance=Yes<br>Avg_Daily_Usage_Hours=%{x}<br>Mental_Health_Score=%{y}<br>Addicted_Score=%{marker.size}<br>Country_Grouped=%{customdata[0]}<br>Gender=%{customdata[1]}<extra></extra>",
         "legendgroup": "Yes",
         "marker": {
          "color": "red",
          "size": {
           "bdata": "CAkHCQgHCAkHCAcIBwgJBwgHCAcICQcIBwgHCAkHCAcIBwgIBwkHCAcIBwgHCAcJBwgHCAcJBwgHCAcICQcIBwgHCAcIBwgHCAcIBwgHCAcIBwgHCAcIBwgHCAcIBwgHCAcIBwcIBwgHCAcIBwgHCAcIBwgHCAcIBwgHCAcIBwgHCAcIBwgHCAcIBwgJBwcGCQcIBgkHBwYJBwgGCQcHBgkHCAYJBwcGCQcIBgkHBwYJBwgGCQcHBgkHCAYJBwcGCAcJBwcHBggHCQcHBwYIBwkHBwcGCAcJBwcHBggHCQcHBwYIBwkHBwcGCAcJBwcHBggHCQcHBwYIBwkHBwcGCAcJBwcHBggHCQcHBwYIBwkHBwcGCAcJBwcHBggHCQcHBwYIBwkHBwcGCAcJBwcHBggHCQcHBwYIBwkHBwcGBwcICAYHBgcHCAgGBwYHBwgIBgcGBwcICAYHBgcHCAgGBwYHBwgIBgcGBwcICAYHCAkIBwgGCAgHCAgHCQgHCAcICAcICAcJCAcIBwgJBwgIBwkIBwgHCAkHCAgHCQgHCAcICQcICAcJCAcIBwgJBwgIBwkIBwgHCAkHCAgHCQgHCAcICQcI",
           "dtype": "i1"
          },
          "sizemode": "area",
          "sizeref": 0.0225,
          "symbol": "circle"
         },
         "mode": "markers",
         "name": "Yes",
         "orientation": "v",
         "showlegend": true,
         "type": "scatter",
         "x": {
          "bdata": "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",
          "dtype": "f8"
         },
         "xaxis": "x",
         "y": {
          "bdata": "BgUGBAYFBgUGBQYFBgUFBgUGBQYFBQYFBgUGBQUGBQYFBgUFBgQGBQYFBgUGBQYFBgUGBQYFBgUGBQYFBQYFBgUGBQYFBgUGBQYFBgUGBQYFBgUGBQYFBgUGBQYFBgUGBQYFBgUGBQYFBgUGBQYFBgUGBQYFBgUGBQYFBgUGBQYFBgUGBQYFBgUGBQYFBgYGBAYFBgQGBQYEBgUGBAYFBgQGBQYEBgUGBAYFBgQGBQYEBgUGBAYFBgQGBQYEBgYHBQYFBgYGBwUGBQYGBgcFBgUGBgYHBQYFBgYGBwUGBQYGBgcFBgUGBgYHBQYFBgYGBwUGBQYGBgcFBgUGBgYHBQYFBgYGBwUGBQYGBgcFBgUGBgYHBQYFBgYGBwUGBQYGBgcFBgUGBgYHBQYFBgYGBwUGBQYGBgcFBgUGBgYHBgYFBQcGBwYGBQUHBgcGBgUFBwYHBgYFBQcGBwYGBQUHBgcGBgUFBwYHBgYFBQcFBgQFBgUGBQUGBQUGBAUGBQYFBAYFBQYEBQYFBgUEBgUFBgQFBgUGBQQGBQUGBAUGBQYFBAYFBQYEBQYFBgUEBgUFBgQFBgUGBQQGBQUGBAUGBQYFBAYF",
          "dtype": "i1"
         },
         "yaxis": "y"
        },
        {
         "customdata": [
          [
           "India",
           "Male"
          ],
          [
           "UK",
           "Male"
          ],
          [
           "Germany",
           "Male"
          ],
          [
           "Japan",
           "Male"
          ],
          [
           "South Korea",
           "Female"
          ],
          [
           "Italy",
           "Male"
          ],
          [
           "Russia",
           "Male"
          ],
          [
           "Other",
           "Male"
          ],
          [
           "Denmark",
           "Male"
          ],
          [
           "Switzerland",
           "Female"
          ],
          [
           "Other",
           "Male"
          ],
          [
           "Other",
           "Male"
          ],
          [
           "Other",
           "Male"
          ],
          [
           "Other",
           "Male"
          ],
          [
           "Other",
           "Female"
          ],
          [
           "Other",
           "Male"
          ],
          [
           "Other",
           "Male"
          ],
          [
           "Other",
           "Male"
          ],
          [
           "Other",
           "Male"
          ],
          [
           "Other",
           "Female"
          ],
          [
           "Other",
           "Male"
          ],
          [
           "Other",
           "Male"
          ],
          [
           "Other",
           "Male"
          ],
          [
           "Other",
           "Male"
          ],
          [
           "Other",
           "Female"
          ],
          [
           "Poland",
           "Male"
          ],
          [
           "Other",
           "Male"
          ],
          [
           "Other",
           "Male"
          ],
          [
           "Other",
           "Male"
          ],
          [
           "Other",
           "Female"
          ],
          [
           "Other",
           "Male"
          ],
          [
           "Other",
           "Female"
          ],
          [
           "Other",
           "Male"
          ],
          [
           "Other",
           "Male"
          ],
          [
           "Other",
           "Female"
          ],
          [
           "Other",
           "Female"
          ],
          [
           "Other",
           "Male"
          ],
          [
           "Other",
           "Male"
          ],
          [
           "Other",
           "Male"
          ],
          [
           "Other",
           "Female"
          ],
          [
           "Other",
           "Female"
          ],
          [
           "Other",
           "Male"
          ],
          [
           "Nepal",
           "Male"
          ],
          [
           "Sri Lanka",
           "Male"
          ],
          [
           "Nepal",
           "Male"
          ],
          [
           "Maldives",
           "Female"
          ],
          [
           "Nepal",
           "Male"
          ],
          [
           "Maldives",
           "Female"
          ],
          [
           "Nepal",
           "Male"
          ],
          [
           "Maldives",
           "Female"
          ],
          [
           "Nepal",
           "Male"
          ],
          [
           "Maldives",
           "Female"
          ],
          [
           "Nepal",
           "Male"
          ],
          [
           "Maldives",
           "Female"
          ],
          [
           "Nepal",
           "Male"
          ],
          [
           "Maldives",
           "Female"
          ],
          [
           "Nepal",
           "Male"
          ],
          [
           "Maldives",
           "Female"
          ],
          [
           "Nepal",
           "Male"
          ],
          [
           "Maldives",
           "Female"
          ],
          [
           "India",
           "Male"
          ],
          [
           "Sri Lanka",
           "Female"
          ],
          [
           "India",
           "Male"
          ],
          [
           "Sri Lanka",
           "Female"
          ],
          [
           "India",
           "Male"
          ],
          [
           "Sri Lanka",
           "Female"
          ],
          [
           "India",
           "Male"
          ],
          [
           "Sri Lanka",
           "Female"
          ],
          [
           "India",
           "Male"
          ],
          [
           "Sri Lanka",
           "Female"
          ],
          [
           "India",
           "Male"
          ],
          [
           "Sri Lanka",
           "Female"
          ],
          [
           "India",
           "Male"
          ],
          [
           "Sri Lanka",
           "Female"
          ],
          [
           "India",
           "Male"
          ],
          [
           "Sri Lanka",
           "Female"
          ],
          [
           "India",
           "Male"
          ],
          [
           "Sri Lanka",
           "Female"
          ],
          [
           "India",
           "Male"
          ],
          [
           "Sri Lanka",
           "Female"
          ],
          [
           "Australia",
           "Female"
          ],
          [
           "Germany",
           "Male"
          ],
          [
           "Japan",
           "Female"
          ],
          [
           "Russia",
           "Male"
          ],
          [
           "Australia",
           "Female"
          ],
          [
           "Germany",
           "Male"
          ],
          [
           "Japan",
           "Female"
          ],
          [
           "Russia",
           "Male"
          ],
          [
           "Australia",
           "Female"
          ],
          [
           "Germany",
           "Male"
          ],
          [
           "Japan",
           "Female"
          ],
          [
           "Russia",
           "Male"
          ],
          [
           "Australia",
           "Female"
          ],
          [
           "Germany",
           "Male"
          ],
          [
           "Japan",
           "Female"
          ],
          [
           "Russia",
           "Male"
          ],
          [
           "Australia",
           "Female"
          ],
          [
           "Germany",
           "Male"
          ],
          [
           "Japan",
           "Female"
          ],
          [
           "Russia",
           "Male"
          ],
          [
           "Australia",
           "Female"
          ],
          [
           "Germany",
           "Male"
          ],
          [
           "Japan",
           "Female"
          ],
          [
           "Russia",
           "Male"
          ],
          [
           "Australia",
           "Female"
          ],
          [
           "Germany",
           "Male"
          ],
          [
           "Japan",
           "Female"
          ],
          [
           "Russia",
           "Male"
          ],
          [
           "Australia",
           "Female"
          ],
          [
           "Germany",
           "Male"
          ],
          [
           "Japan",
           "Female"
          ],
          [
           "Russia",
           "Male"
          ],
          [
           "Australia",
           "Female"
          ],
          [
           "Germany",
           "Male"
          ],
          [
           "Japan",
           "Female"
          ],
          [
           "Russia",
           "Male"
          ],
          [
           "Australia",
           "Female"
          ],
          [
           "Germany",
           "Male"
          ],
          [
           "Japan",
           "Female"
          ],
          [
           "Russia",
           "Male"
          ],
          [
           "Australia",
           "Female"
          ],
          [
           "Germany",
           "Male"
          ],
          [
           "Japan",
           "Female"
          ],
          [
           "Russia",
           "Male"
          ],
          [
           "Australia",
           "Female"
          ],
          [
           "Germany",
           "Male"
          ],
          [
           "Japan",
           "Female"
          ],
          [
           "Russia",
           "Male"
          ],
          [
           "Australia",
           "Female"
          ],
          [
           "Germany",
           "Male"
          ],
          [
           "Denmark",
           "Male"
          ],
          [
           "Switzerland",
           "Female"
          ],
          [
           "France",
           "Female"
          ],
          [
           "Denmark",
           "Male"
          ],
          [
           "Switzerland",
           "Female"
          ],
          [
           "France",
           "Female"
          ],
          [
           "Denmark",
           "Male"
          ],
          [
           "Switzerland",
           "Female"
          ],
          [
           "France",
           "Female"
          ],
          [
           "Denmark",
           "Male"
          ],
          [
           "Switzerland",
           "Female"
          ],
          [
           "France",
           "Female"
          ],
          [
           "Denmark",
           "Male"
          ],
          [
           "Switzerland",
           "Female"
          ],
          [
           "France",
           "Female"
          ],
          [
           "Denmark",
           "Male"
          ],
          [
           "Switzerland",
           "Female"
          ],
          [
           "France",
           "Female"
          ],
          [
           "Denmark",
           "Male"
          ],
          [
           "Switzerland",
           "Female"
          ],
          [
           "France",
           "Female"
          ],
          [
           "Denmark",
           "Male"
          ],
          [
           "Switzerland",
           "Female"
          ],
          [
           "France",
           "Female"
          ],
          [
           "Denmark",
           "Male"
          ],
          [
           "Switzerland",
           "Female"
          ],
          [
           "France",
           "Female"
          ],
          [
           "Denmark",
           "Male"
          ],
          [
           "Switzerland",
           "Female"
          ],
          [
           "France",
           "Female"
          ],
          [
           "Denmark",
           "Male"
          ],
          [
           "Switzerland",
           "Female"
          ],
          [
           "France",
           "Female"
          ],
          [
           "Denmark",
           "Male"
          ],
          [
           "Switzerland",
           "Female"
          ],
          [
           "France",
           "Female"
          ],
          [
           "Denmark",
           "Male"
          ],
          [
           "Switzerland",
           "Female"
          ],
          [
           "France",
           "Female"
          ],
          [
           "Denmark",
           "Male"
          ],
          [
           "Switzerland",
           "Female"
          ],
          [
           "France",
           "Female"
          ],
          [
           "Denmark",
           "Male"
          ],
          [
           "Switzerland",
           "Female"
          ],
          [
           "France",
           "Female"
          ],
          [
           "Denmark",
           "Male"
          ],
          [
           "Switzerland",
           "Female"
          ],
          [
           "France",
           "Female"
          ],
          [
           "Denmark",
           "Male"
          ],
          [
           "Switzerland",
           "Female"
          ],
          [
           "France",
           "Female"
          ],
          [
           "Denmark",
           "Male"
          ],
          [
           "Switzerland",
           "Female"
          ],
          [
           "France",
           "Female"
          ],
          [
           "China",
           "Male"
          ],
          [
           "Other",
           "Female"
          ],
          [
           "Poland",
           "Male"
          ],
          [
           "China",
           "Male"
          ],
          [
           "Other",
           "Female"
          ],
          [
           "Poland",
           "Male"
          ],
          [
           "China",
           "Male"
          ],
          [
           "Other",
           "Female"
          ],
          [
           "Poland",
           "Male"
          ],
          [
           "China",
           "Male"
          ],
          [
           "Other",
           "Female"
          ],
          [
           "Poland",
           "Male"
          ],
          [
           "China",
           "Male"
          ],
          [
           "Other",
           "Female"
          ],
          [
           "Poland",
           "Male"
          ],
          [
           "China",
           "Male"
          ],
          [
           "Other",
           "Female"
          ],
          [
           "Poland",
           "Male"
          ],
          [
           "China",
           "Male"
          ],
          [
           "Other",
           "Female"
          ],
          [
           "Poland",
           "Male"
          ],
          [
           "Denmark",
           "Male"
          ],
          [
           "Switzerland",
           "Female"
          ],
          [
           "France",
           "Female"
          ],
          [
           "Italy",
           "Male"
          ],
          [
           "Japan",
           "Female"
          ],
          [
           "Other",
           "Female"
          ],
          [
           "Denmark",
           "Female"
          ],
          [
           "Switzerland",
           "Male"
          ],
          [
           "Canada",
           "Female"
          ],
          [
           "Italy",
           "Female"
          ],
          [
           "Japan",
           "Male"
          ],
          [
           "Other",
           "Male"
          ],
          [
           "Denmark",
           "Male"
          ],
          [
           "Switzerland",
           "Female"
          ],
          [
           "France",
           "Female"
          ],
          [
           "Italy",
           "Male"
          ],
          [
           "Japan",
           "Female"
          ],
          [
           "Other",
           "Female"
          ],
          [
           "Denmark",
           "Female"
          ],
          [
           "Switzerland",
           "Male"
          ],
          [
           "France",
           "Male"
          ],
          [
           "Italy",
           "Female"
          ],
          [
           "Japan",
           "Male"
          ],
          [
           "Other",
           "Male"
          ],
          [
           "Denmark",
           "Male"
          ],
          [
           "Switzerland",
           "Female"
          ],
          [
           "France",
           "Female"
          ],
          [
           "Italy",
           "Male"
          ],
          [
           "Japan",
           "Female"
          ],
          [
           "Other",
           "Female"
          ],
          [
           "Denmark",
           "Female"
          ],
          [
           "Switzerland",
           "Male"
          ],
          [
           "France",
           "Male"
          ],
          [
           "Italy",
           "Female"
          ],
          [
           "Japan",
           "Male"
          ],
          [
           "Other",
           "Male"
          ],
          [
           "Denmark",
           "Male"
          ],
          [
           "Switzerland",
           "Female"
          ],
          [
           "France",
           "Female"
          ],
          [
           "Italy",
           "Male"
          ],
          [
           "Japan",
           "Female"
          ],
          [
           "Other",
           "Female"
          ],
          [
           "Denmark",
           "Female"
          ],
          [
           "Switzerland",
           "Male"
          ],
          [
           "France",
           "Male"
          ],
          [
           "Italy",
           "Female"
          ],
          [
           "Japan",
           "Male"
          ]
         ],
         "hovertemplate": "Affects_Academic_Performance=No<br>Avg_Daily_Usage_Hours=%{x}<br>Mental_Health_Score=%{y}<br>Addicted_Score=%{marker.size}<br>Country_Grouped=%{customdata[0]}<br>Gender=%{customdata[1]}<extra></extra>",
         "legendgroup": "No",
         "marker": {
          "color": "blue",
          "size": {
           "bdata": "AwQCBQQEBQMFBAUFAwUEBQYEBQQFBgQFBAUDBgQFBAUEBgQEBQYEBAQFBgQFBQUFBQUFBQUFBQUFBQUFBgUGBQYFBgUGBQYFBgUGBQYFBgUFBAMFBQQDBQUEAwUFBAMFBQQDBQUEAwUFBAMFBQQDBQUEAwUFBAMFBQQDBQUEAwUFBAQEBQQEBQQEBQQEBQQEBQQEBQQEBQQEBQQEBQQEBQQEBQQEBQQEBQQEBQQEBQQEBQQEBQQEBQUEBQUEBQUEBQUEBQUEBQUEBQUEBQQFBQUEBQUFBQUEBQUFBQUEBQUFBQUEBQUFBQUEBQUFBQUEBQUFBQUEBQUFBQUE",
           "dtype": "i1"
          },
          "sizemode": "area",
          "sizeref": 0.0225,
          "symbol": "circle"
         },
         "mode": "markers",
         "name": "No",
         "orientation": "v",
         "showlegend": true,
         "type": "scatter",
         "x": {
          "bdata": "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",
          "dtype": "f8"
         },
         "xaxis": "x",
         "y": {
          "bdata": "CAcJBwcIBwgHCAcHCAcIBwcIBwgHBwgHCAcIBwgHCAcIBwgIBwcICAgHBwgHCAcIBwgHCAcIBwgHCAcIBwcHBwcHBwcHBwcHBwcHBwcHBwcIBwgHBwgIBwcICAcHCAgHBwgIBwcICAcHCAgHBwgIBwcICAcHCAgHBwgIBwcICAcHCAgIBwgIBwgIBwgIBwgIBwgIBwgIBwgIBwgIBwgIBwgIBwgIBwgIBwgIBwgIBwgIBwgIBwgIBwcIBwcIBwcIBwcIBwcIBwcIBwcIBwgHBwcIBwcHBwcIBwcHBwcIBwcHBwcIBwcHBwcIBwcHBwcIBwcHBwcIBwcHBwcI",
          "dtype": "i1"
         },
         "yaxis": "y"
        }
       ],
       "layout": {
        "legend": {
         "itemsizing": "constant",
         "title": {
          "text": "Affects_Academic_Performance"
         },
         "tracegroupgap": 0
        },
        "template": {
         "data": {
          "bar": [
           {
            "error_x": {
             "color": "#2a3f5f"
            },
            "error_y": {
             "color": "#2a3f5f"
            },
            "marker": {
             "line": {
              "color": "#E5ECF6",
              "width": 0.5
             },
             "pattern": {
              "fillmode": "overlay",
              "size": 10,
              "solidity": 0.2
             }
            },
            "type": "bar"
           }
          ],
          "barpolar": [
           {
            "marker": {
             "line": {
              "color": "#E5ECF6",
              "width": 0.5
             },
             "pattern": {
              "fillmode": "overlay",
              "size": 10,
              "solidity": 0.2
             }
            },
            "type": "barpolar"
           }
          ],
          "carpet": [
           {
            "aaxis": {
             "endlinecolor": "#2a3f5f",
             "gridcolor": "white",
             "linecolor": "white",
             "minorgridcolor": "white",
             "startlinecolor": "#2a3f5f"
            },
            "baxis": {
             "endlinecolor": "#2a3f5f",
             "gridcolor": "white",
             "linecolor": "white",
             "minorgridcolor": "white",
             "startlinecolor": "#2a3f5f"
            },
            "type": "carpet"
           }
          ],
          "choropleth": [
           {
            "colorbar": {
             "outlinewidth": 0,
             "ticks": ""
            },
            "type": "choropleth"
           }
          ],
          "contour": [
           {
            "colorbar": {
             "outlinewidth": 0,
             "ticks": ""
            },
            "colorscale": [
             [
              0,
              "#0d0887"
             ],
             [
              0.1111111111111111,
              "#46039f"
             ],
             [
              0.2222222222222222,
              "#7201a8"
             ],
             [
              0.3333333333333333,
              "#9c179e"
             ],
             [
              0.4444444444444444,
              "#bd3786"
             ],
             [
              0.5555555555555556,
              "#d8576b"
             ],
             [
              0.6666666666666666,
              "#ed7953"
             ],
             [
              0.7777777777777778,
              "#fb9f3a"
             ],
             [
              0.8888888888888888,
              "#fdca26"
             ],
             [
              1,
              "#f0f921"
             ]
            ],
            "type": "contour"
           }
          ],
          "contourcarpet": [
           {
            "colorbar": {
             "outlinewidth": 0,
             "ticks": ""
            },
            "type": "contourcarpet"
           }
          ],
          "heatmap": [
           {
            "colorbar": {
             "outlinewidth": 0,
             "ticks": ""
            },
            "colorscale": [
             [
              0,
              "#0d0887"
             ],
             [
              0.1111111111111111,
              "#46039f"
             ],
             [
              0.2222222222222222,
              "#7201a8"
             ],
             [
              0.3333333333333333,
              "#9c179e"
             ],
             [
              0.4444444444444444,
              "#bd3786"
             ],
             [
              0.5555555555555556,
              "#d8576b"
             ],
             [
              0.6666666666666666,
              "#ed7953"
             ],
             [
              0.7777777777777778,
              "#fb9f3a"
             ],
             [
              0.8888888888888888,
              "#fdca26"
             ],
             [
              1,
              "#f0f921"
             ]
            ],
            "type": "heatmap"
           }
          ],
          "histogram": [
           {
            "marker": {
             "pattern": {
              "fillmode": "overlay",
              "size": 10,
              "solidity": 0.2
             }
            },
            "type": "histogram"
           }
          ],
          "histogram2d": [
           {
            "colorbar": {
             "outlinewidth": 0,
             "ticks": ""
            },
            "colorscale": [
             [
              0,
              "#0d0887"
             ],
             [
              0.1111111111111111,
              "#46039f"
             ],
             [
              0.2222222222222222,
              "#7201a8"
             ],
             [
              0.3333333333333333,
              "#9c179e"
             ],
             [
              0.4444444444444444,
              "#bd3786"
             ],
             [
              0.5555555555555556,
              "#d8576b"
             ],
             [
              0.6666666666666666,
              "#ed7953"
             ],
             [
              0.7777777777777778,
              "#fb9f3a"
             ],
             [
              0.8888888888888888,
              "#fdca26"
             ],
             [
              1,
              "#f0f921"
             ]
            ],
            "type": "histogram2d"
           }
          ],
          "histogram2dcontour": [
           {
            "colorbar": {
             "outlinewidth": 0,
             "ticks": ""
            },
            "colorscale": [
             [
              0,
              "#0d0887"
             ],
             [
              0.1111111111111111,
              "#46039f"
             ],
             [
              0.2222222222222222,
              "#7201a8"
             ],
             [
              0.3333333333333333,
              "#9c179e"
             ],
             [
              0.4444444444444444,
              "#bd3786"
             ],
             [
              0.5555555555555556,
              "#d8576b"
             ],
             [
              0.6666666666666666,
              "#ed7953"
             ],
             [
              0.7777777777777778,
              "#fb9f3a"
             ],
             [
              0.8888888888888888,
              "#fdca26"
             ],
             [
              1,
              "#f0f921"
             ]
            ],
            "type": "histogram2dcontour"
           }
          ],
          "mesh3d": [
           {
            "colorbar": {
             "outlinewidth": 0,
             "ticks": ""
            },
            "type": "mesh3d"
           }
          ],
          "parcoords": [
           {
            "line": {
             "colorbar": {
              "outlinewidth": 0,
              "ticks": ""
             }
            },
            "type": "parcoords"
           }
          ],
          "pie": [
           {
            "automargin": true,
            "type": "pie"
           }
          ],
          "scatter": [
           {
            "fillpattern": {
             "fillmode": "overlay",
             "size": 10,
             "solidity": 0.2
            },
            "type": "scatter"
           }
          ],
          "scatter3d": [
           {
            "line": {
             "colorbar": {
              "outlinewidth": 0,
              "ticks": ""
             }
            },
            "marker": {
             "colorbar": {
              "outlinewidth": 0,
              "ticks": ""
             }
            },
            "type": "scatter3d"
           }
          ],
          "scattercarpet": [
           {
            "marker": {
             "colorbar": {
              "outlinewidth": 0,
              "ticks": ""
             }
            },
            "type": "scattercarpet"
           }
          ],
          "scattergeo": [
           {
            "marker": {
             "colorbar": {
              "outlinewidth": 0,
              "ticks": ""
             }
            },
            "type": "scattergeo"
           }
          ],
          "scattergl": [
           {
            "marker": {
             "colorbar": {
              "outlinewidth": 0,
              "ticks": ""
             }
            },
            "type": "scattergl"
           }
          ],
          "scattermap": [
           {
            "marker": {
             "colorbar": {
              "outlinewidth": 0,
              "ticks": ""
             }
            },
            "type": "scattermap"
           }
          ],
          "scattermapbox": [
           {
            "marker": {
             "colorbar": {
              "outlinewidth": 0,
              "ticks": ""
             }
            },
            "type": "scattermapbox"
           }
          ],
          "scatterpolar": [
           {
            "marker": {
             "colorbar": {
              "outlinewidth": 0,
              "ticks": ""
             }
            },
            "type": "scatterpolar"
           }
          ],
          "scatterpolargl": [
           {
            "marker": {
             "colorbar": {
              "outlinewidth": 0,
              "ticks": ""
             }
            },
            "type": "scatterpolargl"
           }
          ],
          "scatterternary": [
           {
            "marker": {
             "colorbar": {
              "outlinewidth": 0,
              "ticks": ""
             }
            },
            "type": "scatterternary"
           }
          ],
          "surface": [
           {
            "colorbar": {
             "outlinewidth": 0,
             "ticks": ""
            },
            "colorscale": [
             [
              0,
              "#0d0887"
             ],
             [
              0.1111111111111111,
              "#46039f"
             ],
             [
              0.2222222222222222,
              "#7201a8"
             ],
             [
              0.3333333333333333,
              "#9c179e"
             ],
             [
              0.4444444444444444,
              "#bd3786"
             ],
             [
              0.5555555555555556,
              "#d8576b"
             ],
             [
              0.6666666666666666,
              "#ed7953"
             ],
             [
              0.7777777777777778,
              "#fb9f3a"
             ],
             [
              0.8888888888888888,
              "#fdca26"
             ],
             [
              1,
              "#f0f921"
             ]
            ],
            "type": "surface"
           }
          ],
          "table": [
           {
            "cells": {
             "fill": {
              "color": "#EBF0F8"
             },
             "line": {
              "color": "white"
             }
            },
            "header": {
             "fill": {
              "color": "#C8D4E3"
             },
             "line": {
              "color": "white"
             }
            },
            "type": "table"
           }
          ]
         },
         "layout": {
          "annotationdefaults": {
           "arrowcolor": "#2a3f5f",
           "arrowhead": 0,
           "arrowwidth": 1
          },
          "autotypenumbers": "strict",
          "coloraxis": {
           "colorbar": {
            "outlinewidth": 0,
            "ticks": ""
           }
          },
          "colorscale": {
           "diverging": [
            [
             0,
             "#8e0152"
            ],
            [
             0.1,
             "#c51b7d"
            ],
            [
             0.2,
             "#de77ae"
            ],
            [
             0.3,
             "#f1b6da"
            ],
            [
             0.4,
             "#fde0ef"
            ],
            [
             0.5,
             "#f7f7f7"
            ],
            [
             0.6,
             "#e6f5d0"
            ],
            [
             0.7,
             "#b8e186"
            ],
            [
             0.8,
             "#7fbc41"
            ],
            [
             0.9,
             "#4d9221"
            ],
            [
             1,
             "#276419"
            ]
           ],
           "sequential": [
            [
             0,
             "#0d0887"
            ],
            [
             0.1111111111111111,
             "#46039f"
            ],
            [
             0.2222222222222222,
             "#7201a8"
            ],
            [
             0.3333333333333333,
             "#9c179e"
            ],
            [
             0.4444444444444444,
             "#bd3786"
            ],
            [
             0.5555555555555556,
             "#d8576b"
            ],
            [
             0.6666666666666666,
             "#ed7953"
            ],
            [
             0.7777777777777778,
             "#fb9f3a"
            ],
            [
             0.8888888888888888,
             "#fdca26"
            ],
            [
             1,
             "#f0f921"
            ]
           ],
           "sequentialminus": [
            [
             0,
             "#0d0887"
            ],
            [
             0.1111111111111111,
             "#46039f"
            ],
            [
             0.2222222222222222,
             "#7201a8"
            ],
            [
             0.3333333333333333,
             "#9c179e"
            ],
            [
             0.4444444444444444,
             "#bd3786"
            ],
            [
             0.5555555555555556,
             "#d8576b"
            ],
            [
             0.6666666666666666,
             "#ed7953"
            ],
            [
             0.7777777777777778,
             "#fb9f3a"
            ],
            [
             0.8888888888888888,
             "#fdca26"
            ],
            [
             1,
             "#f0f921"
            ]
           ]
          },
          "colorway": [
           "#636efa",
           "#EF553B",
           "#00cc96",
           "#ab63fa",
           "#FFA15A",
           "#19d3f3",
           "#FF6692",
           "#B6E880",
           "#FF97FF",
           "#FECB52"
          ],
          "font": {
           "color": "#2a3f5f"
          },
          "geo": {
           "bgcolor": "white",
           "lakecolor": "white",
           "landcolor": "#E5ECF6",
           "showlakes": true,
           "showland": true,
           "subunitcolor": "white"
          },
          "hoverlabel": {
           "align": "left"
          },
          "hovermode": "closest",
          "mapbox": {
           "style": "light"
          },
          "paper_bgcolor": "white",
          "plot_bgcolor": "#E5ECF6",
          "polar": {
           "angularaxis": {
            "gridcolor": "white",
            "linecolor": "white",
            "ticks": ""
           },
           "bgcolor": "#E5ECF6",
           "radialaxis": {
            "gridcolor": "white",
            "linecolor": "white",
            "ticks": ""
           }
          },
          "scene": {
           "xaxis": {
            "backgroundcolor": "#E5ECF6",
            "gridcolor": "white",
            "gridwidth": 2,
            "linecolor": "white",
            "showbackground": true,
            "ticks": "",
            "zerolinecolor": "white"
           },
           "yaxis": {
            "backgroundcolor": "#E5ECF6",
            "gridcolor": "white",
            "gridwidth": 2,
            "linecolor": "white",
            "showbackground": true,
            "ticks": "",
            "zerolinecolor": "white"
           },
           "zaxis": {
            "backgroundcolor": "#E5ECF6",
            "gridcolor": "white",
            "gridwidth": 2,
            "linecolor": "white",
            "showbackground": true,
            "ticks": "",
            "zerolinecolor": "white"
           }
          },
          "shapedefaults": {
           "line": {
            "color": "#2a3f5f"
           }
          },
          "ternary": {
           "aaxis": {
            "gridcolor": "white",
            "linecolor": "white",
            "ticks": ""
           },
           "baxis": {
            "gridcolor": "white",
            "linecolor": "white",
            "ticks": ""
           },
           "bgcolor": "#E5ECF6",
           "caxis": {
            "gridcolor": "white",
            "linecolor": "white",
            "ticks": ""
           }
          },
          "title": {
           "x": 0.05
          },
          "xaxis": {
           "automargin": true,
           "gridcolor": "white",
           "linecolor": "white",
           "ticks": "",
           "title": {
            "standoff": 15
           },
           "zerolinecolor": "white",
           "zerolinewidth": 2
          },
          "yaxis": {
           "automargin": true,
           "gridcolor": "white",
           "linecolor": "white",
           "ticks": "",
           "title": {
            "standoff": 15
           },
           "zerolinecolor": "white",
           "zerolinewidth": 2
          }
         }
        },
        "title": {
         "text": "Daily Usage vs Mental Health Score (colored by Academic Performance Impact)"
        },
        "xaxis": {
         "anchor": "y",
         "domain": [
          0,
          1
         ],
         "title": {
          "text": "Avg_Daily_Usage_Hours"
         }
        },
        "yaxis": {
         "anchor": "x",
         "domain": [
          0,
          1
         ],
         "title": {
          "text": "Mental_Health_Score"
         }
        }
       }
      },
      "image/png": "[encoded data removed]"
     },
     "metadata": {},
     "output_type": "display_data"
    }
   ],
   "source": [
    "fig2 = px.scatter(\n",
    "    students,\n",
    "    x='Avg_Daily_Usage_Hours',\n",
    "    y='Mental_Health_Score',\n",
    "    color='Affects_Academic_Performance',\n",
    "    color_discrete_map={\n",
    "        'Yes': 'red',\n",
    "        'No': 'blue'  # You can choose any other color you prefer\n",
    "    },\n",
    "    size='Addicted_Score',\n",
    "    hover_data=['Country_Grouped', 'Gender'],\n",
    "    title='Daily Usage vs Mental Health Score (colored by Academic Performance Impact)'\n",
    ")\n",
    "fig2.show()\n"
   ]
  },
  {
   "cell_type": "code",
   "execution_count": 28,
   "id": "8a79fcfb-1dc9-41e5-bbb5-4f2172d6a6f5",
   "metadata": {},
   "outputs": [
    {
     "data": {
      "application/vnd.plotly.v1+json": {
       "config": {
        "plotlyServerURL": "https://plot.ly"
       },
       "data": [
        {
         "customdata": {
          "bdata": "AwQFBgcICQIDBAUGBwgJ",
          "dtype": "i1",
          "shape": "15, 1"
         },
         "hovertemplate": "Gender: %{x}<br>Addicted_Score: %{customdata[0]}<br>Count: %{y}<extra></extra>",
         "marker": {
          "color": {
           "bdata": "AwQFBgcICQIDBAUGBwgJ",
           "dtype": "i1"
          },
          "colorscale": [
           [
            0,
            "#440154"
           ],
           [
            0.1111111111111111,
            "#482878"
           ],
           [
            0.2222222222222222,
            "#3e4989"
           ],
           [
            0.3333333333333333,
            "#31688e"
           ],
           [
            0.4444444444444444,
            "#26828e"
           ],
           [
            0.5555555555555556,
            "#1f9e89"
           ],
           [
            0.6666666666666666,
            "#35b779"
           ],
           [
            0.7777777777777778,
            "#6ece58"
           ],
           [
            0.8888888888888888,
            "#b5de2b"
           ],
           [
            1,
            "#fde725"
           ]
          ]
         },
         "name": "Gender",
         "type": "bar",
         "x": [
          "Female",
          "Female",
          "Female",
          "Female",
          "Female",
          "Female",
          "Female",
          "Male",
          "Male",
          "Male",
          "Male",
          "Male",
          "Male",
          "Male",
          "Male"
         ],
         "xaxis": "x",
         "y": {
          "bdata": "DCZIHlNHLwEELUAffkkI",
          "dtype": "i1"
         },
         "yaxis": "y"
        },
        {
         "customdata": {
          "bdata": "AgMEBQYHCAkEBQgJAwQFBgcICQ==",
          "dtype": "i1",
          "shape": "19, 1"
         },
         "hovertemplate": "Academic_Level: %{x}<br>Addicted_Score: %{customdata[0]}<br>Count: %{y}<extra></extra>",
         "marker": {
          "color": {
           "bdata": "AgMEBQYHCAkEBQgJAwQFBgcICQ==",
           "dtype": "i1"
          },
          "colorscale": [
           [
            0,
            "#440154"
           ],
           [
            0.1111111111111111,
            "#482878"
           ],
           [
            0.2222222222222222,
            "#3e4989"
           ],
           [
            0.3333333333333333,
            "#31688e"
           ],
           [
            0.4444444444444444,
            "#26828e"
           ],
           [
            0.5555555555555556,
            "#1f9e89"
           ],
           [
            0.6666666666666666,
            "#35b779"
           ],
           [
            0.7777777777777778,
            "#6ece58"
           ],
           [
            0.8888888888888888,
            "#b5de2b"
           ],
           [
            1,
            "#fde725"
           ]
          ]
         },
         "name": "Academic_Level",
         "type": "bar",
         "x": [
          "Graduate",
          "Graduate",
          "Graduate",
          "Graduate",
          "Graduate",
          "Graduate",
          "Graduate",
          "Graduate",
          "High School",
          "High School",
          "High School",
          "High School",
          "Undergraduate",
          "Undergraduate",
          "Undergraduate",
          "Undergraduate",
          "Undergraduate",
          "Undergraduate",
          "Undergraduate"
         ],
         "xaxis": "x2",
         "y": {
          "bdata": "AQQ0Oxl0PgYBAREIDB5MJF1BKQ==",
          "dtype": "i1"
         },
         "yaxis": "y2"
        },
        {
         "customdata": {
          "bdata": "BQkHCAUGBwUHBAUFBwIEAwYHCAkGBwgJBAUHCAMEBQUHCAcICQUGCAMEBQYHCAkHCAUIBQgJBAYHCAQFBwQFBwgEBwgHCQ==",
          "dtype": "i1",
          "shape": "70, 1"
         },
         "hovertemplate": "Country_Grouped: %{x}<br>Addicted_Score: %{customdata[0]}<br>Count: %{y}<extra></extra>",
         "marker": {
          "color": {
           "bdata": "BQkHCAUGBwUHBAUFBwIEAwYHCAkGBwgJBAUHCAMEBQUHCAcICQUGCAMEBQYHCAkHCAUIBQgJBAYHCAQFBwQFBwgEBwgHCQ==",
           "dtype": "i1"
          },
          "colorscale": [
           [
            0,
            "#440154"
           ],
           [
            0.1111111111111111,
            "#482878"
           ],
           [
            0.2222222222222222,
            "#3e4989"
           ],
           [
            0.3333333333333333,
            "#31688e"
           ],
           [
            0.4444444444444444,
            "#26828e"
           ],
           [
            0.5555555555555556,
            "#1f9e89"
           ],
           [
            0.6666666666666666,
            "#35b779"
           ],
           [
            0.7777777777777778,
            "#6ece58"
           ],
           [
            0.8888888888888888,
            "#b5de2b"
           ],
           [
            1,
            "#fde725"
           ]
          ]
         },
         "name": "Country_Grouped",
         "type": "bar",
         "x": [
          "Australia",
          "Australia",
          "Bangladesh",
          "Bangladesh",
          "Canada",
          "Canada",
          "Canada",
          "China",
          "China",
          "Denmark",
          "Denmark",
          "France",
          "France",
          "Germany",
          "Germany",
          "India",
          "India",
          "India",
          "India",
          "India",
          "Ireland",
          "Ireland",
          "Ireland",
          "Ireland",
          "Italy",
          "Italy",
          "Italy",
          "Italy",
          "Japan",
          "Japan",
          "Japan",
          "Maldives",
          "Maldives",
          "Maldives",
          "Mexico",
          "Mexico",
          "Mexico",
          "Nepal",
          "Nepal",
          "Nepal",
          "Other",
          "Other",
          "Other",
          "Other",
          "Other",
          "Other",
          "Other",
          "Pakistan",
          "Pakistan",
          "Poland",
          "Poland",
          "Russia",
          "Russia",
          "Russia",
          "South Korea",
          "South Korea",
          "Spain",
          "Spain",
          "Sri Lanka",
          "Sri Lanka",
          "Sri Lanka",
          "Switzerland",
          "Switzerland",
          "Turkey",
          "Turkey",
          "UK",
          "UK",
          "UK",
          "USA",
          "USA"
         ],
         "xaxis": "x3",
         "y": {
          "bdata": "DQEKCgEIGQcJEwgZAgENAQoJGQgSBwEBAQgGBgwIAQgBChIIAQgBCgMUEgwtHwYLCAgIDQIGAQwTCAEKCBMIEgkBDQgIIA==",
          "dtype": "i1"
         },
         "yaxis": "y3"
        },
        {
         "customdata": {
          "bdata": "BAUGBwgJBAUGBwgJBgMCAwQFBgcICQQFBgcICQMEBQcIBQUHBwgEBQYHCQ==",
          "dtype": "i1",
          "shape": "43, 1"
         },
         "hovertemplate": "Most_Used_Platform: %{x}<br>Addicted_Score: %{customdata[0]}<br>Count: %{y}<extra></extra>",
         "marker": {
          "color": {
           "bdata": "BAUGBwgJBAUGBwgJBgMCAwQFBgcICQQFBgcICQMEBQcIBQUHBwgEBQYHCQ==",
           "dtype": "i1"
          },
          "colorscale": [
           [
            0,
            "#440154"
           ],
           [
            0.1111111111111111,
            "#482878"
           ],
           [
            0.2222222222222222,
            "#3e4989"
           ],
           [
            0.3333333333333333,
            "#31688e"
           ],
           [
            0.4444444444444444,
            "#26828e"
           ],
           [
            0.5555555555555556,
            "#1f9e89"
           ],
           [
            0.6666666666666666,
            "#35b779"
           ],
           [
            0.7777777777777778,
            "#6ece58"
           ],
           [
            0.8888888888888888,
            "#b5de2b"
           ],
           [
            1,
            "#fde725"
           ]
          ]
         },
         "name": "Most_Used_Platform",
         "type": "bar",
         "x": [
          "Facebook",
          "Facebook",
          "Facebook",
          "Facebook",
          "Facebook",
          "Facebook",
          "Instagram",
          "Instagram",
          "Instagram",
          "Instagram",
          "Instagram",
          "Instagram",
          "KakaoTalk",
          "LINE",
          "LinkedIn",
          "LinkedIn",
          "LinkedIn",
          "LinkedIn",
          "Snapchat",
          "Snapchat",
          "Snapchat",
          "Snapchat",
          "TikTok",
          "TikTok",
          "TikTok",
          "TikTok",
          "TikTok",
          "TikTok",
          "Twitter",
          "Twitter",
          "Twitter",
          "Twitter",
          "Twitter",
          "VKontakte",
          "WeChat",
          "WeChat",
          "WhatsApp",
          "WhatsApp",
          "YouTube",
          "YouTube",
          "YouTube",
          "YouTube",
          "YouTube"
         ],
         "xaxis": "x4",
         "y": {
          "bdata": "GTIODBMDHy4TWiEeDAwBAxABAQYFAQEJCzc6FAEJCQcEDAcIHRkBAgQCAQ==",
          "dtype": "i1"
         },
         "yaxis": "y4"
        },
        {
         "customdata": {
          "bdata": "AgMEBQYGBwgJ",
          "dtype": "i1",
          "shape": "9, 1"
         },
         "hovertemplate": "Affects_Academic_Performance: %{x}<br>Addicted_Score: %{customdata[0]}<br>Count: %{y}<extra></extra>",
         "marker": {
          "color": {
           "bdata": "AgMEBQYGBwgJ",
           "dtype": "i1"
          },
          "colorscale": [
           [
            0,
            "#440154"
           ],
           [
            0.1111111111111111,
            "#482878"
           ],
           [
            0.2222222222222222,
            "#3e4989"
           ],
           [
            0.3333333333333333,
            "#31688e"
           ],
           [
            0.4444444444444444,
            "#26828e"
           ],
           [
            0.5555555555555556,
            "#1f9e89"
           ],
           [
            0.6666666666666666,
            "#35b779"
           ],
           [
            0.7777777777777778,
            "#6ece58"
           ],
           [
            0.8888888888888888,
            "#b5de2b"
           ],
           [
            1,
            "#fde725"
           ]
          ]
         },
         "name": "Affects_Academic_Performance",
         "type": "bar",
         "x": [
          "No",
          "No",
          "No",
          "No",
          "No",
          "Yes",
          "Yes",
          "Yes",
          "Yes"
         ],
         "xaxis": "x5",
         "y": {
          "bdata": "AQAQAFMAiAAQAC0A0QCQADcA",
          "dtype": "i2"
         },
         "yaxis": "y5"
        },
        {
         "customdata": {
          "bdata": "BAUGBwgJAwQFBgcICQIDBAUGBwgJ",
          "dtype": "i1",
          "shape": "21, 1"
         },
         "hovertemplate": "Relationship_Status: %{x}<br>Addicted_Score: %{customdata[0]}<br>Count: %{y}<extra></extra>",
         "marker": {
          "color": {
           "bdata": "BAUGBwgJAwQFBgcICQIDBAUGBwgJ",
           "dtype": "i1"
          },
          "colorscale": [
           [
            0,
            "#440154"
           ],
           [
            0.1111111111111111,
            "#482878"
           ],
           [
            0.2222222222222222,
            "#3e4989"
           ],
           [
            0.3333333333333333,
            "#31688e"
           ],
           [
            0.4444444444444444,
            "#26828e"
           ],
           [
            0.5555555555555556,
            "#1f9e89"
           ],
           [
            0.6666666666666666,
            "#35b779"
           ],
           [
            0.7777777777777778,
            "#6ece58"
           ],
           [
            0.8888888888888888,
            "#b5de2b"
           ],
           [
            1,
            "#fde725"
           ]
          ]
         },
         "name": "Relationship_Status",
         "type": "bar",
         "x": [
          "Complicated",
          "Complicated",
          "Complicated",
          "Complicated",
          "Complicated",
          "Complicated",
          "In Relationship",
          "In Relationship",
          "In Relationship",
          "In Relationship",
          "In Relationship",
          "In Relationship",
          "In Relationship",
          "Single",
          "Single",
          "Single",
          "Single",
          "Single",
          "Single",
          "Single",
          "Single"
         ],
         "xaxis": "x6",
         "y": {
          "bdata": "BAABAAMADAAGAAYAAQAiAFgAGAAzAEIAGQABAA8ALQAvACIAkgBIABgA",
          "dtype": "i2"
         },
         "yaxis": "y6"
        }
       ],
       "layout": {
        "annotations": [
         {
          "font": {
           "size": 16
          },
          "showarrow": false,
          "text": "Gender vs Addicted_Score",
          "x": 0.2125,
          "xanchor": "center",
          "xref": "paper",
          "y": 0.9999999999999999,
          "yanchor": "bottom",
          "yref": "paper"
         },
         {
          "font": {
           "size": 16
          },
          "showarrow": false,
          "text": "Academic_Level vs Addicted_Score",
          "x": 0.7875,
          "xanchor": "center",
          "xref": "paper",
          "y": 0.9999999999999999,
          "yanchor": "bottom",
          "yref": "paper"
         },
         {
          "font": {
           "size": 16
          },
          "showarrow": false,
          "text": "Country_Grouped vs Addicted_Score",
          "x": 0.2125,
          "xanchor": "center",
          "xref": "paper",
          "y": 0.6166666666666666,
          "yanchor": "bottom",
          "yref": "paper"
         },
         {
          "font": {
           "size": 16
          },
          "showarrow": false,
          "text": "Most_Used_Platform vs Addicted_Score",
          "x": 0.7875,
          "xanchor": "center",
          "xref": "paper",
          "y": 0.6166666666666666,
          "yanchor": "bottom",
          "yref": "paper"
         },
         {
          "font": {
           "size": 16
          },
          "showarrow": false,
          "text": "Affects_Academic_Performance vs Addicted_Score",
          "x": 0.2125,
          "xanchor": "center",
          "xref": "paper",
          "y": 0.2333333333333333,
          "yanchor": "bottom",
          "yref": "paper"
         },
         {
          "font": {
           "size": 16
          },
          "showarrow": false,
          "text": "Relationship_Status vs Addicted_Score",
          "x": 0.7875,
          "xanchor": "center",
          "xref": "paper",
          "y": 0.2333333333333333,
          "yanchor": "bottom",
          "yref": "paper"
         }
        ],
        "barmode": "group",
        "height": 1200,
        "showlegend": false,
        "template": {
         "data": {
          "bar": [
           {
            "error_x": {
             "color": "#2a3f5f"
            },
            "error_y": {
             "color": "#2a3f5f"
            },
            "marker": {
             "line": {
              "color": "#E5ECF6",
              "width": 0.5
             },
             "pattern": {
              "fillmode": "overlay",
              "size": 10,
              "solidity": 0.2
             }
            },
            "type": "bar"
           }
          ],
          "barpolar": [
           {
            "marker": {
             "line": {
              "color": "#E5ECF6",
              "width": 0.5
             },
             "pattern": {
              "fillmode": "overlay",
              "size": 10,
              "solidity": 0.2
             }
            },
            "type": "barpolar"
           }
          ],
          "carpet": [
           {
            "aaxis": {
             "endlinecolor": "#2a3f5f",
             "gridcolor": "white",
             "linecolor": "white",
             "minorgridcolor": "white",
             "startlinecolor": "#2a3f5f"
            },
            "baxis": {
             "endlinecolor": "#2a3f5f",
             "gridcolor": "white",
             "linecolor": "white",
             "minorgridcolor": "white",
             "startlinecolor": "#2a3f5f"
            },
            "type": "carpet"
           }
          ],
          "choropleth": [
           {
            "colorbar": {
             "outlinewidth": 0,
             "ticks": ""
            },
            "type": "choropleth"
           }
          ],
          "contour": [
           {
            "colorbar": {
             "outlinewidth": 0,
             "ticks": ""
            },
            "colorscale": [
             [
              0,
              "#0d0887"
             ],
             [
              0.1111111111111111,
              "#46039f"
             ],
             [
              0.2222222222222222,
              "#7201a8"
             ],
             [
              0.3333333333333333,
              "#9c179e"
             ],
             [
              0.4444444444444444,
              "#bd3786"
             ],
             [
              0.5555555555555556,
              "#d8576b"
             ],
             [
              0.6666666666666666,
              "#ed7953"
             ],
             [
              0.7777777777777778,
              "#fb9f3a"
             ],
             [
              0.8888888888888888,
              "#fdca26"
             ],
             [
              1,
              "#f0f921"
             ]
            ],
            "type": "contour"
           }
          ],
          "contourcarpet": [
           {
            "colorbar": {
             "outlinewidth": 0,
             "ticks": ""
            },
            "type": "contourcarpet"
           }
          ],
          "heatmap": [
           {
            "colorbar": {
             "outlinewidth": 0,
             "ticks": ""
            },
            "colorscale": [
             [
              0,
              "#0d0887"
             ],
             [
              0.1111111111111111,
              "#46039f"
             ],
             [
              0.2222222222222222,
              "#7201a8"
             ],
             [
              0.3333333333333333,
              "#9c179e"
             ],
             [
              0.4444444444444444,
              "#bd3786"
             ],
             [
              0.5555555555555556,
              "#d8576b"
             ],
             [
              0.6666666666666666,
              "#ed7953"
             ],
             [
              0.7777777777777778,
              "#fb9f3a"
             ],
             [
              0.8888888888888888,
              "#fdca26"
             ],
             [
              1,
              "#f0f921"
             ]
            ],
            "type": "heatmap"
           }
          ],
          "histogram": [
           {
            "marker": {
             "pattern": {
              "fillmode": "overlay",
              "size": 10,
              "solidity": 0.2
             }
            },
            "type": "histogram"
           }
          ],
          "histogram2d": [
           {
            "colorbar": {
             "outlinewidth": 0,
             "ticks": ""
            },
            "colorscale": [
             [
              0,
              "#0d0887"
             ],
             [
              0.1111111111111111,
              "#46039f"
             ],
             [
              0.2222222222222222,
              "#7201a8"
             ],
             [
              0.3333333333333333,
              "#9c179e"
             ],
             [
              0.4444444444444444,
              "#bd3786"
             ],
             [
              0.5555555555555556,
              "#d8576b"
             ],
             [
              0.6666666666666666,
              "#ed7953"
             ],
             [
              0.7777777777777778,
              "#fb9f3a"
             ],
             [
              0.8888888888888888,
              "#fdca26"
             ],
             [
              1,
              "#f0f921"
             ]
            ],
            "type": "histogram2d"
           }
          ],
          "histogram2dcontour": [
           {
            "colorbar": {
             "outlinewidth": 0,
             "ticks": ""
            },
            "colorscale": [
             [
              0,
              "#0d0887"
             ],
             [
              0.1111111111111111,
              "#46039f"
             ],
             [
              0.2222222222222222,
              "#7201a8"
             ],
             [
              0.3333333333333333,
              "#9c179e"
             ],
             [
              0.4444444444444444,
              "#bd3786"
             ],
             [
              0.5555555555555556,
              "#d8576b"
             ],
             [
              0.6666666666666666,
              "#ed7953"
             ],
             [
              0.7777777777777778,
              "#fb9f3a"
             ],
             [
              0.8888888888888888,
              "#fdca26"
             ],
             [
              1,
              "#f0f921"
             ]
            ],
            "type": "histogram2dcontour"
           }
          ],
          "mesh3d": [
           {
            "colorbar": {
             "outlinewidth": 0,
             "ticks": ""
            },
            "type": "mesh3d"
           }
          ],
          "parcoords": [
           {
            "line": {
             "colorbar": {
              "outlinewidth": 0,
              "ticks": ""
             }
            },
            "type": "parcoords"
           }
          ],
          "pie": [
           {
            "automargin": true,
            "type": "pie"
           }
          ],
          "scatter": [
           {
            "fillpattern": {
             "fillmode": "overlay",
             "size": 10,
             "solidity": 0.2
            },
            "type": "scatter"
           }
          ],
          "scatter3d": [
           {
            "line": {
             "colorbar": {
              "outlinewidth": 0,
              "ticks": ""
             }
            },
            "marker": {
             "colorbar": {
              "outlinewidth": 0,
              "ticks": ""
             }
            },
            "type": "scatter3d"
           }
          ],
          "scattercarpet": [
           {
            "marker": {
             "colorbar": {
              "outlinewidth": 0,
              "ticks": ""
             }
            },
            "type": "scattercarpet"
           }
          ],
          "scattergeo": [
           {
            "marker": {
             "colorbar": {
              "outlinewidth": 0,
              "ticks": ""
             }
            },
            "type": "scattergeo"
           }
          ],
          "scattergl": [
           {
            "marker": {
             "colorbar": {
              "outlinewidth": 0,
              "ticks": ""
             }
            },
            "type": "scattergl"
           }
          ],
          "scattermap": [
           {
            "marker": {
             "colorbar": {
              "outlinewidth": 0,
              "ticks": ""
             }
            },
            "type": "scattermap"
           }
          ],
          "scattermapbox": [
           {
            "marker": {
             "colorbar": {
              "outlinewidth": 0,
              "ticks": ""
             }
            },
            "type": "scattermapbox"
           }
          ],
          "scatterpolar": [
           {
            "marker": {
             "colorbar": {
              "outlinewidth": 0,
              "ticks": ""
             }
            },
            "type": "scatterpolar"
           }
          ],
          "scatterpolargl": [
           {
            "marker": {
             "colorbar": {
              "outlinewidth": 0,
              "ticks": ""
             }
            },
            "type": "scatterpolargl"
           }
          ],
          "scatterternary": [
           {
            "marker": {
             "colorbar": {
              "outlinewidth": 0,
              "ticks": ""
             }
            },
            "type": "scatterternary"
           }
          ],
          "surface": [
           {
            "colorbar": {
             "outlinewidth": 0,
             "ticks": ""
            },
            "colorscale": [
             [
              0,
              "#0d0887"
             ],
             [
              0.1111111111111111,
              "#46039f"
             ],
             [
              0.2222222222222222,
              "#7201a8"
             ],
             [
              0.3333333333333333,
              "#9c179e"
             ],
             [
              0.4444444444444444,
              "#bd3786"
             ],
             [
              0.5555555555555556,
              "#d8576b"
             ],
             [
              0.6666666666666666,
              "#ed7953"
             ],
             [
              0.7777777777777778,
              "#fb9f3a"
             ],
             [
              0.8888888888888888,
              "#fdca26"
             ],
             [
              1,
              "#f0f921"
             ]
            ],
            "type": "surface"
           }
          ],
          "table": [
           {
            "cells": {
             "fill": {
              "color": "#EBF0F8"
             },
             "line": {
              "color": "white"
             }
            },
            "header": {
             "fill": {
              "color": "#C8D4E3"
             },
             "line": {
              "color": "white"
             }
            },
            "type": "table"
           }
          ]
         },
         "layout": {
          "annotationdefaults": {
           "arrowcolor": "#2a3f5f",
           "arrowhead": 0,
           "arrowwidth": 1
          },
          "autotypenumbers": "strict",
          "coloraxis": {
           "colorbar": {
            "outlinewidth": 0,
            "ticks": ""
           }
          },
          "colorscale": {
           "diverging": [
            [
             0,
             "#8e0152"
            ],
            [
             0.1,
             "#c51b7d"
            ],
            [
             0.2,
             "#de77ae"
            ],
            [
             0.3,
             "#f1b6da"
            ],
            [
             0.4,
             "#fde0ef"
            ],
            [
             0.5,
             "#f7f7f7"
            ],
            [
             0.6,
             "#e6f5d0"
            ],
            [
             0.7,
             "#b8e186"
            ],
            [
             0.8,
             "#7fbc41"
            ],
            [
             0.9,
             "#4d9221"
            ],
            [
             1,
             "#276419"
            ]
           ],
           "sequential": [
            [
             0,
             "#0d0887"
            ],
            [
             0.1111111111111111,
             "#46039f"
            ],
            [
             0.2222222222222222,
             "#7201a8"
            ],
            [
             0.3333333333333333,
             "#9c179e"
            ],
            [
             0.4444444444444444,
             "#bd3786"
            ],
            [
             0.5555555555555556,
             "#d8576b"
            ],
            [
             0.6666666666666666,
             "#ed7953"
            ],
            [
             0.7777777777777778,
             "#fb9f3a"
            ],
            [
             0.8888888888888888,
             "#fdca26"
            ],
            [
             1,
             "#f0f921"
            ]
           ],
           "sequentialminus": [
            [
             0,
             "#0d0887"
            ],
            [
             0.1111111111111111,
             "#46039f"
            ],
            [
             0.2222222222222222,
             "#7201a8"
            ],
            [
             0.3333333333333333,
             "#9c179e"
            ],
            [
             0.4444444444444444,
             "#bd3786"
            ],
            [
             0.5555555555555556,
             "#d8576b"
            ],
            [
             0.6666666666666666,
             "#ed7953"
            ],
            [
             0.7777777777777778,
             "#fb9f3a"
            ],
            [
             0.8888888888888888,
             "#fdca26"
            ],
            [
             1,
             "#f0f921"
            ]
           ]
          },
          "colorway": [
           "#636efa",
           "#EF553B",
           "#00cc96",
           "#ab63fa",
           "#FFA15A",
           "#19d3f3",
           "#FF6692",
           "#B6E880",
           "#FF97FF",
           "#FECB52"
          ],
          "font": {
           "color": "#2a3f5f"
          },
          "geo": {
           "bgcolor": "white",
           "lakecolor": "white",
           "landcolor": "#E5ECF6",
           "showlakes": true,
           "showland": true,
           "subunitcolor": "white"
          },
          "hoverlabel": {
           "align": "left"
          },
          "hovermode": "closest",
          "mapbox": {
           "style": "light"
          },
          "paper_bgcolor": "white",
          "plot_bgcolor": "#E5ECF6",
          "polar": {
           "angularaxis": {
            "gridcolor": "white",
            "linecolor": "white",
            "ticks": ""
           },
           "bgcolor": "#E5ECF6",
           "radialaxis": {
            "gridcolor": "white",
            "linecolor": "white",
            "ticks": ""
           }
          },
          "scene": {
           "xaxis": {
            "backgroundcolor": "#E5ECF6",
            "gridcolor": "white",
            "gridwidth": 2,
            "linecolor": "white",
            "showbackground": true,
            "ticks": "",
            "zerolinecolor": "white"
           },
           "yaxis": {
            "backgroundcolor": "#E5ECF6",
            "gridcolor": "white",
            "gridwidth": 2,
            "linecolor": "white",
            "showbackground": true,
            "ticks": "",
            "zerolinecolor": "white"
           },
           "zaxis": {
            "backgroundcolor": "#E5ECF6",
            "gridcolor": "white",
            "gridwidth": 2,
            "linecolor": "white",
            "showbackground": true,
            "ticks": "",
            "zerolinecolor": "white"
           }
          },
          "shapedefaults": {
           "line": {
            "color": "#2a3f5f"
           }
          },
          "ternary": {
           "aaxis": {
            "gridcolor": "white",
            "linecolor": "white",
            "ticks": ""
           },
           "baxis": {
            "gridcolor": "white",
            "linecolor": "white",
            "ticks": ""
           },
           "bgcolor": "#E5ECF6",
           "caxis": {
            "gridcolor": "white",
            "linecolor": "white",
            "ticks": ""
           }
          },
          "title": {
           "x": 0.05
          },
          "xaxis": {
           "automargin": true,
           "gridcolor": "white",
           "linecolor": "white",
           "ticks": "",
           "title": {
            "standoff": 15
           },
           "zerolinecolor": "white",
           "zerolinewidth": 2
          },
          "yaxis": {
           "automargin": true,
           "gridcolor": "white",
           "linecolor": "white",
           "ticks": "",
           "title": {
            "standoff": 15
           },
           "zerolinecolor": "white",
           "zerolinewidth": 2
          }
         }
        },
        "title": {
         "text": "Categorical Features vs Addicted Score (Interactive)"
        },
        "width": 1000,
        "xaxis": {
         "anchor": "y",
         "domain": [
          0,
          0.425
         ]
        },
        "xaxis2": {
         "anchor": "y2",
         "domain": [
          0.575,
          1
         ]
        },
        "xaxis3": {
         "anchor": "y3",
         "domain": [
          0,
          0.425
         ]
        },
        "xaxis4": {
         "anchor": "y4",
         "domain": [
          0.575,
          1
         ]
        },
        "xaxis5": {
         "anchor": "y5",
         "domain": [
          0,
          0.425
         ]
        },
        "xaxis6": {
         "anchor": "y6",
         "domain": [
          0.575,
          1
         ]
        },
        "yaxis": {
         "anchor": "x",
         "domain": [
          0.7666666666666666,
          0.9999999999999999
         ]
        },
        "yaxis2": {
         "anchor": "x2",
         "domain": [
          0.7666666666666666,
          0.9999999999999999
         ]
        },
        "yaxis3": {
         "anchor": "x3",
         "domain": [
          0.3833333333333333,
          0.6166666666666666
         ]
        },
        "yaxis4": {
         "anchor": "x4",
         "domain": [
          0.3833333333333333,
          0.6166666666666666
         ]
        },
        "yaxis5": {
         "anchor": "x5",
         "domain": [
          0,
          0.2333333333333333
         ]
        },
        "yaxis6": {
         "anchor": "x6",
         "domain": [
          0,
          0.2333333333333333
         ]
        }
       }
      },
      "image/png": "[encoded data removed]"
     },
     "metadata": {},
     "output_type": "display_data"
    }
   ],
   "source": [
    "import plotly.express as px\n",
    "from plotly.subplots import make_subplots\n",
    "import plotly.graph_objects as go\n",
    "import math\n",
    "\n",
    "categorical_features = ['Gender', 'Academic_Level', 'Country_Grouped', 'Most_Used_Platform',\n",
    "                        'Affects_Academic_Performance', 'Relationship_Status']\n",
    "target = 'Addicted_Score'\n",
    "\n",
    "num_plots = len(categorical_features)\n",
    "cols = 2\n",
    "rows = math.ceil(num_plots / cols)\n",
    "\n",
    "# Create subplot grid\n",
    "fig = make_subplots(\n",
    "    rows=rows,\n",
    "    cols=cols,\n",
    "    subplot_titles=[f'{feature} vs {target}' for feature in categorical_features],\n",
    "    horizontal_spacing=0.15,\n",
    "    vertical_spacing=0.15\n",
    ")\n",
    "\n",
    "for idx, feature in enumerate(categorical_features):\n",
    "    row = idx // cols + 1\n",
    "    col = idx % cols + 1\n",
    "\n",
    "    # Count plot equivalent using Plotly\n",
    "    count_df = students.groupby([feature, target]).size().reset_index(name='Count')\n",
    "\n",
    "    fig.add_trace(\n",
    "        go.Bar(\n",
    "            x=count_df[feature],\n",
    "            y=count_df['Count'],\n",
    "            name=feature,\n",
    "            marker=dict(color=count_df[target], colorscale='Viridis'),\n",
    "            customdata=count_df[[target]],\n",
    "            hovertemplate=f\"{feature}: %{{x}}<br>{target}: %{{customdata[0]}}<br>Count: %{{y}}<extra></extra>\"\n",
    "        ),\n",
    "        row=row,\n",
    "        col=col\n",
    "    )\n",
    "\n",
    "# Final layout settings\n",
    "fig.update_layout(\n",
    "    height=rows * 400,\n",
    "    width=1000,\n",
    "    title_text='Categorical Features vs Addicted Score (Interactive)',\n",
    "    barmode='group',\n",
    "    showlegend=False\n",
    ")\n",
    "\n",
    "fig.show()\n",
    "\n"
   ]
  },
  {
   "cell_type": "markdown",
   "id": "a2e53d0d",
   "metadata": {},
   "source": [
    "## Heatmap of High Addiction % by Country and Platform"
   ]
  },
  {
   "cell_type": "code",
   "execution_count": 11,
   "id": "d00ef290",
   "metadata": {
    "scrolled": true
   },
   "outputs": [
    {
     "data": {
      "application/vnd.plotly.v1+json": {
       "config": {
        "plotlyServerURL": "https://plot.ly"
       },
       "data": [
        {
         "coloraxis": "coloraxis",
         "hovertemplate": "Social Media Platform: %{x}<br>Country: %{y}<br>Avg Addiction Score: %{z}<extra></extra>",
         "name": "0",
         "texttemplate": "%{z}",
         "type": "heatmap",
         "x": [
          "Facebook",
          "Instagram",
          "KakaoTalk",
          "LINE",
          "LinkedIn",
          "Snapchat",
          "TikTok",
          "Twitter",
          "VKontakte",
          "WeChat",
          "WhatsApp",
          "YouTube"
         ],
         "xaxis": "x",
         "y": [
          "Australia",
          "Bangladesh",
          "Canada",
          "China",
          "Denmark",
          "France",
          "Germany",
          "India",
          "Ireland",
          "Italy",
          "Japan",
          "Maldives",
          "Mexico",
          "Nepal",
          "Other",
          "Pakistan",
          "Poland",
          "Russia",
          "South Korea",
          "Spain",
          "Sri Lanka",
          "Switzerland",
          "Turkey",
          "UK",
          "USA"
         ],
         "yaxis": "y",
         "z": {
          "bdata": "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",
          "dtype": "f8",
          "shape": "25, 12"
         }
        }
       ],
       "layout": {
        "coloraxis": {
         "colorbar": {
          "title": {
           "text": "Avg Addiction Score"
          }
         },
         "colorscale": [
          [
           0,
           "rgb(255,255,204)"
          ],
          [
           0.125,
           "rgb(255,237,160)"
          ],
          [
           0.25,
           "rgb(254,217,118)"
          ],
          [
           0.375,
           "rgb(254,178,76)"
          ],
          [
           0.5,
           "rgb(253,141,60)"
          ],
          [
           0.625,
           "rgb(252,78,42)"
          ],
          [
           0.75,
           "rgb(227,26,28)"
          ],
          [
           0.875,
           "rgb(189,0,38)"
          ],
          [
           1,
           "rgb(128,0,38)"
          ]
         ]
        },
        "height": 700,
        "template": {
         "data": {
          "bar": [
           {
            "error_x": {
             "color": "#2a3f5f"
            },
            "error_y": {
             "color": "#2a3f5f"
            },
            "marker": {
             "line": {
              "color": "#E5ECF6",
              "width": 0.5
             },
             "pattern": {
              "fillmode": "overlay",
              "size": 10,
              "solidity": 0.2
             }
            },
            "type": "bar"
           }
          ],
          "barpolar": [
           {
            "marker": {
             "line": {
              "color": "#E5ECF6",
              "width": 0.5
             },
             "pattern": {
              "fillmode": "overlay",
              "size": 10,
              "solidity": 0.2
             }
            },
            "type": "barpolar"
           }
          ],
          "carpet": [
           {
            "aaxis": {
             "endlinecolor": "#2a3f5f",
             "gridcolor": "white",
             "linecolor": "white",
             "minorgridcolor": "white",
             "startlinecolor": "#2a3f5f"
            },
            "baxis": {
             "endlinecolor": "#2a3f5f",
             "gridcolor": "white",
             "linecolor": "white",
             "minorgridcolor": "white",
             "startlinecolor": "#2a3f5f"
            },
            "type": "carpet"
           }
          ],
          "choropleth": [
           {
            "colorbar": {
             "outlinewidth": 0,
             "ticks": ""
            },
            "type": "choropleth"
           }
          ],
          "contour": [
           {
            "colorbar": {
             "outlinewidth": 0,
             "ticks": ""
            },
            "colorscale": [
             [
              0,
              "#0d0887"
             ],
             [
              0.1111111111111111,
              "#46039f"
             ],
             [
              0.2222222222222222,
              "#7201a8"
             ],
             [
              0.3333333333333333,
              "#9c179e"
             ],
             [
              0.4444444444444444,
              "#bd3786"
             ],
             [
              0.5555555555555556,
              "#d8576b"
             ],
             [
              0.6666666666666666,
              "#ed7953"
             ],
             [
              0.7777777777777778,
              "#fb9f3a"
             ],
             [
              0.8888888888888888,
              "#fdca26"
             ],
             [
              1,
              "#f0f921"
             ]
            ],
            "type": "contour"
           }
          ],
          "contourcarpet": [
           {
            "colorbar": {
             "outlinewidth": 0,
             "ticks": ""
            },
            "type": "contourcarpet"
           }
          ],
          "heatmap": [
           {
            "colorbar": {
             "outlinewidth": 0,
             "ticks": ""
            },
            "colorscale": [
             [
              0,
              "#0d0887"
             ],
             [
              0.1111111111111111,
              "#46039f"
             ],
             [
              0.2222222222222222,
              "#7201a8"
             ],
             [
              0.3333333333333333,
              "#9c179e"
             ],
             [
              0.4444444444444444,
              "#bd3786"
             ],
             [
              0.5555555555555556,
              "#d8576b"
             ],
             [
              0.6666666666666666,
              "#ed7953"
             ],
             [
              0.7777777777777778,
              "#fb9f3a"
             ],
             [
              0.8888888888888888,
              "#fdca26"
             ],
             [
              1,
              "#f0f921"
             ]
            ],
            "type": "heatmap"
           }
          ],
          "histogram": [
           {
            "marker": {
             "pattern": {
              "fillmode": "overlay",
              "size": 10,
              "solidity": 0.2
             }
            },
            "type": "histogram"
           }
          ],
          "histogram2d": [
           {
            "colorbar": {
             "outlinewidth": 0,
             "ticks": ""
            },
            "colorscale": [
             [
              0,
              "#0d0887"
             ],
             [
              0.1111111111111111,
              "#46039f"
             ],
             [
              0.2222222222222222,
              "#7201a8"
             ],
             [
              0.3333333333333333,
              "#9c179e"
             ],
             [
              0.4444444444444444,
              "#bd3786"
             ],
             [
              0.5555555555555556,
              "#d8576b"
             ],
             [
              0.6666666666666666,
              "#ed7953"
             ],
             [
              0.7777777777777778,
              "#fb9f3a"
             ],
             [
              0.8888888888888888,
              "#fdca26"
             ],
             [
              1,
              "#f0f921"
             ]
            ],
            "type": "histogram2d"
           }
          ],
          "histogram2dcontour": [
           {
            "colorbar": {
             "outlinewidth": 0,
             "ticks": ""
            },
            "colorscale": [
             [
              0,
              "#0d0887"
             ],
             [
              0.1111111111111111,
              "#46039f"
             ],
             [
              0.2222222222222222,
              "#7201a8"
             ],
             [
              0.3333333333333333,
              "#9c179e"
             ],
             [
              0.4444444444444444,
              "#bd3786"
             ],
             [
              0.5555555555555556,
              "#d8576b"
             ],
             [
              0.6666666666666666,
              "#ed7953"
             ],
             [
              0.7777777777777778,
              "#fb9f3a"
             ],
             [
              0.8888888888888888,
              "#fdca26"
             ],
             [
              1,
              "#f0f921"
             ]
            ],
            "type": "histogram2dcontour"
           }
          ],
          "mesh3d": [
           {
            "colorbar": {
             "outlinewidth": 0,
             "ticks": ""
            },
            "type": "mesh3d"
           }
          ],
          "parcoords": [
           {
            "line": {
             "colorbar": {
              "outlinewidth": 0,
              "ticks": ""
             }
            },
            "type": "parcoords"
           }
          ],
          "pie": [
           {
            "automargin": true,
            "type": "pie"
           }
          ],
          "scatter": [
           {
            "fillpattern": {
             "fillmode": "overlay",
             "size": 10,
             "solidity": 0.2
            },
            "type": "scatter"
           }
          ],
          "scatter3d": [
           {
            "line": {
             "colorbar": {
              "outlinewidth": 0,
              "ticks": ""
             }
            },
            "marker": {
             "colorbar": {
              "outlinewidth": 0,
              "ticks": ""
             }
            },
            "type": "scatter3d"
           }
          ],
          "scattercarpet": [
           {
            "marker": {
             "colorbar": {
              "outlinewidth": 0,
              "ticks": ""
             }
            },
            "type": "scattercarpet"
           }
          ],
          "scattergeo": [
           {
            "marker": {
             "colorbar": {
              "outlinewidth": 0,
              "ticks": ""
             }
            },
            "type": "scattergeo"
           }
          ],
          "scattergl": [
           {
            "marker": {
             "colorbar": {
              "outlinewidth": 0,
              "ticks": ""
             }
            },
            "type": "scattergl"
           }
          ],
          "scattermap": [
           {
            "marker": {
             "colorbar": {
              "outlinewidth": 0,
              "ticks": ""
             }
            },
            "type": "scattermap"
           }
          ],
          "scattermapbox": [
           {
            "marker": {
             "colorbar": {
              "outlinewidth": 0,
              "ticks": ""
             }
            },
            "type": "scattermapbox"
           }
          ],
          "scatterpolar": [
           {
            "marker": {
             "colorbar": {
              "outlinewidth": 0,
              "ticks": ""
             }
            },
            "type": "scatterpolar"
           }
          ],
          "scatterpolargl": [
           {
            "marker": {
             "colorbar": {
              "outlinewidth": 0,
              "ticks": ""
             }
            },
            "type": "scatterpolargl"
           }
          ],
          "scatterternary": [
           {
            "marker": {
             "colorbar": {
              "outlinewidth": 0,
              "ticks": ""
             }
            },
            "type": "scatterternary"
           }
          ],
          "surface": [
           {
            "colorbar": {
             "outlinewidth": 0,
             "ticks": ""
            },
            "colorscale": [
             [
              0,
              "#0d0887"
             ],
             [
              0.1111111111111111,
              "#46039f"
             ],
             [
              0.2222222222222222,
              "#7201a8"
             ],
             [
              0.3333333333333333,
              "#9c179e"
             ],
             [
              0.4444444444444444,
              "#bd3786"
             ],
             [
              0.5555555555555556,
              "#d8576b"
             ],
             [
              0.6666666666666666,
              "#ed7953"
             ],
             [
              0.7777777777777778,
              "#fb9f3a"
             ],
             [
              0.8888888888888888,
              "#fdca26"
             ],
             [
              1,
              "#f0f921"
             ]
            ],
            "type": "surface"
           }
          ],
          "table": [
           {
            "cells": {
             "fill": {
              "color": "#EBF0F8"
             },
             "line": {
              "color": "white"
             }
            },
            "header": {
             "fill": {
              "color": "#C8D4E3"
             },
             "line": {
              "color": "white"
             }
            },
            "type": "table"
           }
          ]
         },
         "layout": {
          "annotationdefaults": {
           "arrowcolor": "#2a3f5f",
           "arrowhead": 0,
           "arrowwidth": 1
          },
          "autotypenumbers": "strict",
          "coloraxis": {
           "colorbar": {
            "outlinewidth": 0,
            "ticks": ""
           }
          },
          "colorscale": {
           "diverging": [
            [
             0,
             "#8e0152"
            ],
            [
             0.1,
             "#c51b7d"
            ],
            [
             0.2,
             "#de77ae"
            ],
            [
             0.3,
             "#f1b6da"
            ],
            [
             0.4,
             "#fde0ef"
            ],
            [
             0.5,
             "#f7f7f7"
            ],
            [
             0.6,
             "#e6f5d0"
            ],
            [
             0.7,
             "#b8e186"
            ],
            [
             0.8,
             "#7fbc41"
            ],
            [
             0.9,
             "#4d9221"
            ],
            [
             1,
             "#276419"
            ]
           ],
           "sequential": [
            [
             0,
             "#0d0887"
            ],
            [
             0.1111111111111111,
             "#46039f"
            ],
            [
             0.2222222222222222,
             "#7201a8"
            ],
            [
             0.3333333333333333,
             "#9c179e"
            ],
            [
             0.4444444444444444,
             "#bd3786"
            ],
            [
             0.5555555555555556,
             "#d8576b"
            ],
            [
             0.6666666666666666,
             "#ed7953"
            ],
            [
             0.7777777777777778,
             "#fb9f3a"
            ],
            [
             0.8888888888888888,
             "#fdca26"
            ],
            [
             1,
             "#f0f921"
            ]
           ],
           "sequentialminus": [
            [
             0,
             "#0d0887"
            ],
            [
             0.1111111111111111,
             "#46039f"
            ],
            [
             0.2222222222222222,
             "#7201a8"
            ],
            [
             0.3333333333333333,
             "#9c179e"
            ],
            [
             0.4444444444444444,
             "#bd3786"
            ],
            [
             0.5555555555555556,
             "#d8576b"
            ],
            [
             0.6666666666666666,
             "#ed7953"
            ],
            [
             0.7777777777777778,
             "#fb9f3a"
            ],
            [
             0.8888888888888888,
             "#fdca26"
            ],
            [
             1,
             "#f0f921"
            ]
           ]
          },
          "colorway": [
           "#636efa",
           "#EF553B",
           "#00cc96",
           "#ab63fa",
           "#FFA15A",
           "#19d3f3",
           "#FF6692",
           "#B6E880",
           "#FF97FF",
           "#FECB52"
          ],
          "font": {
           "color": "#2a3f5f"
          },
          "geo": {
           "bgcolor": "white",
           "lakecolor": "white",
           "landcolor": "#E5ECF6",
           "showlakes": true,
           "showland": true,
           "subunitcolor": "white"
          },
          "hoverlabel": {
           "align": "left"
          },
          "hovermode": "closest",
          "mapbox": {
           "style": "light"
          },
          "paper_bgcolor": "white",
          "plot_bgcolor": "#E5ECF6",
          "polar": {
           "angularaxis": {
            "gridcolor": "white",
            "linecolor": "white",
            "ticks": ""
           },
           "bgcolor": "#E5ECF6",
           "radialaxis": {
            "gridcolor": "white",
            "linecolor": "white",
            "ticks": ""
           }
          },
          "scene": {
           "xaxis": {
            "backgroundcolor": "#E5ECF6",
            "gridcolor": "white",
            "gridwidth": 2,
            "linecolor": "white",
            "showbackground": true,
            "ticks": "",
            "zerolinecolor": "white"
           },
           "yaxis": {
            "backgroundcolor": "#E5ECF6",
            "gridcolor": "white",
            "gridwidth": 2,
            "linecolor": "white",
            "showbackground": true,
            "ticks": "",
            "zerolinecolor": "white"
           },
           "zaxis": {
            "backgroundcolor": "#E5ECF6",
            "gridcolor": "white",
            "gridwidth": 2,
            "linecolor": "white",
            "showbackground": true,
            "ticks": "",
            "zerolinecolor": "white"
           }
          },
          "shapedefaults": {
           "line": {
            "color": "#2a3f5f"
           }
          },
          "ternary": {
           "aaxis": {
            "gridcolor": "white",
            "linecolor": "white",
            "ticks": ""
           },
           "baxis": {
            "gridcolor": "white",
            "linecolor": "white",
            "ticks": ""
           },
           "bgcolor": "#E5ECF6",
           "caxis": {
            "gridcolor": "white",
            "linecolor": "white",
            "ticks": ""
           }
          },
          "title": {
           "x": 0.05
          },
          "xaxis": {
           "automargin": true,
           "gridcolor": "white",
           "linecolor": "white",
           "ticks": "",
           "title": {
            "standoff": 15
           },
           "zerolinecolor": "white",
           "zerolinewidth": 2
          },
          "yaxis": {
           "automargin": true,
           "gridcolor": "white",
           "linecolor": "white",
           "ticks": "",
           "title": {
            "standoff": 15
           },
           "zerolinecolor": "white",
           "zerolinewidth": 2
          }
         }
        },
        "title": {
         "font": {
          "size": 22
         },
         "text": "Average Addiction Score by Country and Platform"
        },
        "width": 1000,
        "xaxis": {
         "anchor": "y",
         "domain": [
          0,
          1
         ],
         "title": {
          "text": "Social Media Platform"
         }
        },
        "yaxis": {
         "anchor": "x",
         "autorange": "reversed",
         "domain": [
          0,
          1
         ],
         "title": {
          "text": "Country"
         }
        }
       }
      },
      "image/png": "[encoded data removed]"
     },
     "metadata": {},
     "output_type": "display_data"
    }
   ],
   "source": [
    "\n",
    "\n",
    "fig3 = px.imshow(\n",
    "    pivot,\n",
    "    text_auto=True,\n",
    "    aspect=\"auto\",\n",
    "    title='Average Addiction Score by Country and Platform',\n",
    "    color_continuous_scale='YlOrRd',  # Better color scale\n",
    "    labels=dict(x=\"Social Media Platform\", y=\"Country\", color=\"Avg Addiction Score\")\n",
    ")\n",
    "\n",
    "# Increase size\n",
    "fig3.update_layout(\n",
    "    height=700,\n",
    "    width=1000,\n",
    "    title_font_size=22\n",
    ")\n",
    "\n",
    "fig3.show()\n"
   ]
  },
  {
   "cell_type": "code",
   "execution_count": 12,
   "id": "9be5a90a-2a1d-48ca-904b-1134ead1ce92",
   "metadata": {},
   "outputs": [
    {
     "name": "stdout",
     "output_type": "stream",
     "text": [
      "   Country_Grouped Most_Used_Platform  Addicted_Score\n",
      "80             USA             TikTok        9.000000\n",
      "39          Mexico          Instagram        9.000000\n",
      "57          Russia          Instagram        8.750000\n",
      "79             USA          Instagram        8.684211\n",
      "22           India             TikTok        8.600000\n",
      "40          Mexico             TikTok        8.000000\n",
      "77              UK            Twitter        8.000000\n",
      "62           Spain           Facebook        8.000000\n",
      "56          Poland             TikTok        8.000000\n",
      "55          Poland          Instagram        8.000000\n",
      "2       Bangladesh           Facebook        8.000000\n",
      "38          Mexico           Facebook        8.000000\n",
      "37        Maldives             TikTok        8.000000\n",
      "24           India           WhatsApp        8.000000\n",
      "4       Bangladesh             TikTok        8.000000\n",
      "76              UK             TikTok        7.666667\n",
      "48           Other           Snapchat        7.500000\n",
      "52        Pakistan          Instagram        7.444444\n",
      "72          Turkey          Instagram        7.357143\n",
      "64           Spain             TikTok        7.307692\n",
      "73          Turkey             TikTok        7.307692\n",
      "49           Other             TikTok        7.275862\n",
      "31           Italy             TikTok        7.250000\n",
      "74              UK           Facebook        7.250000\n",
      "21           India          Instagram        7.222222\n",
      "3       Bangladesh          Instagram        7.166667\n",
      "43           Nepal             TikTok        7.142857\n"
     ]
    }
   ],
   "source": [
    "# Filter for high addiction scores\n",
    "high_addiction_df = grouped[grouped['Addicted_Score'] > 7].sort_values(by='Addicted_Score', ascending=False)\n",
    "\n",
    "# Display the subset\n",
    "print(high_addiction_df)\n"
   ]
  },
  {
   "cell_type": "markdown",
   "id": "db8bc188",
   "metadata": {},
   "source": [
    "# 🔍 Key Observations from the Heatmap (Filtered for High Addiction: Score > 7)\n",
    "\n",
    "## 🟥 High Addiction Hotspots\n",
    "- **USA** shows very high addiction to:\n",
    "  - **TikTok**: `9.00`\n",
    "  - **Instagram**: `8.68`\n",
    "&nbsp;\n",
    "- **Mexico** stands out with:\n",
    "  - **Instagram**: `9.00`\n",
    "  - **TikTok**: `8.00`\n",
    "  - **Facebook**: `8.00`\n",
    "&nbsp;\n",
    "- **Russia** also reports high addiction to:\n",
    "  - **Instagram**: `8.75`\n",
    "\n",
    "## 📱 Top Addictive Platforms\n",
    "- **TikTok** appears in **11 out of 26** high-addiction rows, making it the **most frequently high-scoring platform**. High addiction seen in:\n",
    "  - India: `8.60`\n",
    "  - Mexico: `8.00`\n",
    "  - Maldives: `8.00`\n",
    "  - Bangladesh: `8.00`\n",
    "  - Poland: `8.00`\n",
    "  - Spain: `7.31`\n",
    "  - Turkey: `7.31`\n",
    "  - Nepal: `7.14`\n",
    "  - UK: `7.67`\n",
    "  - Italy: `7.25`\n",
    "  - Other: `7.28`\n",
    "&nbsp;\n",
    "- **Instagram** appears in **9 rows**, showing widespread addiction:\n",
    "  - Russia: `8.75`\n",
    "  - USA: `8.68`\n",
    "  - Bangladesh: `7.17`\n",
    "  - India: `7.22`\n",
    "  - Turkey: `7.36`\n",
    "  - Pakistan: `7.44`\n",
    "  - Poland: `8.00`\n",
    "  - Mexico: `9.00`\n",
    "  - Other: not listed, but high in grouped regions\n",
    "&nbsp;\n",
    "- **Facebook** shows high addiction in:\n",
    "  - Spain: `8.00`\n",
    "  - Mexico: `8.00`\n",
    "  - UK: `7.25`\n",
    "  - Bangladesh: `8.00`\n",
    "\n",
    "## 🌍 “Other” Countries\n",
    "Even in the **\"Other\" grouped countries** (countries with low individual sample size), some platforms report high addiction:\n",
    "- **TikTok**: `7.28`\n",
    "- **Snapchat**: `7.50`\n",
    "\n",
    "This implies these platforms have a **consistently high addictive effect globally**, not just in dominant countries.\n",
    "\n",
    "## 📉 Low Addiction Platforms\n",
    "Platforms like:\n",
    "- **LINE**\n",
    "- **KakaoTalk**\n",
    "- **VKontakte**\n",
    "- **WeChat**\n",
    "- **LinkedIn**\n",
    "\n",
    "do **not appear** in this high-addiction subset — indicating **low engagement or limited geographic use**, and thus **lower addictive tendencies** in the sample.\n",
    "\n",
    "---\n",
    "\n",
    "📌 *Conclusion*: **TikTok**, **Instagram**, and to some extent **Facebook** stand out as **globally addictive platforms**, with scores exceeding `8` in multiple countries.\n"
   ]
  }
 ],
 "metadata": {
  "kernelspec": {
   "display_name": "Python 3 (ipykernel)",
   "language": "python",
   "name": "python3"
  },
  "language_info": {
   "codemirror_mode": {
    "name": "ipython",
    "version": 3
   },
   "file_extension": ".py",
   "mimetype": "text/x-python",
   "name": "python",
   "nbconvert_exporter": "python",
   "pygments_lexer": "ipython3",
   "version": "3.9.6"
  }
 },
 "nbformat": 4,
 "nbformat_minor": 5
}
