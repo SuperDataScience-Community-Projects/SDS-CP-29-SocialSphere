{
 "cells": [
  {
   "cell_type": "markdown",
   "metadata": {},
   "source": [
    "# Week 2 — Conflict Classification & MLflow Experiment Tracking\n",
    "\n",
    "**Purpose:**  \n",
    "This notebook aims to build and evaluate models that classify students into high vs. low conflict levels based on their social media behavior, sleep patterns, and mental health scores. We will also set up and use **MLflow** to track experiments, compare model performances, and version our outputs for reproducibility and collaboration.\n"
   ]
  },
  {
   "cell_type": "markdown",
   "metadata": {},
   "source": [
    "# Setup and Imports\n"
   ]
  },
  {
   "cell_type": "code",
   "execution_count": 21,
   "metadata": {},
   "outputs": [
    {
     "name": "stdout",
     "output_type": "stream",
     "text": [
      "The autoreload extension is already loaded. To reload it, use:\n",
      "  %reload_ext autoreload\n"
     ]
    }
   ],
   "source": [
    "%load_ext autoreload\n",
    "%autoreload 2\n",
    "\n",
    "# Standard library imports\n",
    "import pickle\n",
    "import warnings\n",
    "\n",
    "# Third-party imports\n",
    "import matplotlib.pyplot as plt\n",
    "import mlflow\n",
    "import mlflow.data\n",
    "import mlflow.sklearn\n",
    "from mlflow.data.pandas_dataset import PandasDataset\n",
    "from mlflow.models.signature import infer_signature\n",
    "import numpy as np\n",
    "import pandas as pd\n",
    "import seaborn as sns\n",
    "from scipy import sparse\n",
    "from sklearn.compose import ColumnTransformer\n",
    "from sklearn.dummy import DummyClassifier\n",
    "from sklearn.exceptions import UndefinedMetricWarning\n",
    "from sklearn.metrics import (\n",
    "    accuracy_score,\n",
    "    classification_report,\n",
    "    confusion_matrix,\n",
    "    f1_score,\n",
    "    precision_score,\n",
    "    recall_score,\n",
    "    roc_auc_score\n",
    ")\n",
    "from sklearn.pipeline import Pipeline\n",
    "from sklearn.preprocessing import (\n",
    "    FunctionTransformer,\n",
    "    OneHotEncoder,\n",
    "    StandardScaler\n",
    ")\n",
    "from sklearn.model_selection import StratifiedKFold\n",
    "from sklearn.linear_model import LogisticRegression\n",
    "\n",
    "\n",
    "\n",
    "# Suppress sklearn precision/recall warnings\n",
    "warnings.filterwarnings(\"ignore\", category=UndefinedMetricWarning)\n",
    "\n",
    "# Suppress the MLflow integer‐column hint\n",
    "warnings.filterwarnings(\n",
    "    \"ignore\",\n",
    "    message=\"Hint: Inferred schema contains integer column\"\n",
    ")\n",
    "\n",
    "# Suppress the MLflow integer‐column hint\n",
    "warnings.filterwarnings(\n",
    "    \"ignore\",\n",
    "    message=\"Hint: Inferred schema contains integer column\"\n",
    ")\n",
    "\n",
    "\n",
    "import sys\n",
    "sys.path.append('../src')\n",
    "from utils import (\n",
    "    create_binary_conflict, \n",
    "    continent_dict,\n",
    "    RareCategoryGrouper,\n",
    "    CountryToContinentMapper,\n",
    "    run_classification_experiment\n",
    ")\n",
    "\n",
    "# Set random seed for reproducibility\n",
    "np.random.seed(42)\n"
   ]
  },
  {
   "cell_type": "markdown",
   "metadata": {},
   "source": [
    "# MLflow Setup\n"
   ]
  },
  {
   "cell_type": "code",
   "execution_count": 2,
   "metadata": {},
   "outputs": [
    {
     "data": {
      "text/plain": [
       "<Experiment: artifact_location='file:///Users/bobhosseini/Portfolio/SDS-social-sphere/submissions/team-members/bob-hosseini/notebooks/../mlruns/893441246500907044', creation_time=1749911245020, experiment_id='893441246500907044', last_update_time=1749911245020, lifecycle_stage='active', name='Classification_Conflicts', tags={'mlflow.sharedViewState.acb6d7554a592a34fe5dfdfa2dd78e66e549d816cb3ef47109f1b0108d483e80': 'deflate;eJxdksFu2zAMhl9l0DkY2qtvbpZuxZJhcLpgQDCkikTHBGTJEKkuXpF3H+W4dZIjP/4/KYp8UwQ6muYRHUNUhVIzFaKF+NB/h15izRxxnxjoM7GOvGNsYRKVZFRRa0cwU0P+OacLVS6XInJYg+mNg4/ypWF8zX6rWRMwvWe2f2aqDRbcBiJh8JPDuU9V8iQeAgeGwc6DS62QYnv5vJd1SNHAiwgv6SoXpVv65dz+Fo/NM25BsBGmjUlRm/4K1vc7MiHCFYzB7HQymXU66lYQcdQMBzHLfFHGWBw77S1YVbydzuQnep/j7aj4htaCn+INEu7RIfcr3U22syxPJ5/0+FStn3f3d7vq14+1tH9F+LvSR2zxXy49LkhsSyR+bzBSpNLIKFbmrmBY64UlEXyNIXVgN9oloCc/b2TL8vcck+QbtLBoO+6v8SF7HuR+fHJuDG9G14lDBXUEahZe713mo9mFvXZL9DAUnQdf40FM6lgekc5nSQzdcGAe1m0I3Hgg6X43HcnvLF4Nqzlb1On0H/lADH4='}>"
      ]
     },
     "execution_count": 2,
     "metadata": {},
     "output_type": "execute_result"
    }
   ],
   "source": [
    "# Set MLflow tracking URI to local directory\n",
    "mlflow.set_tracking_uri(\"file:../mlruns\")\n",
    "\n",
    "# Create or get experiment\n",
    "experiment_name = \"Classification_Conflicts\"\n",
    "mlflow.set_experiment(experiment_name)\n"
   ]
  },
  {
   "cell_type": "markdown",
   "metadata": {},
   "source": [
    "# Loading cleand data\n",
    "\n"
   ]
  },
  {
   "cell_type": "code",
   "execution_count": 3,
   "metadata": {},
   "outputs": [
    {
     "name": "stdout",
     "output_type": "stream",
     "text": [
      "Dataset shape: (702, 13)\n",
      "\n",
      "Target variable distribution:\n",
      "Conflicts\n",
      "3    261\n",
      "2    204\n",
      "4    172\n",
      "1     47\n",
      "5     15\n",
      "0      3\n",
      "Name: count, dtype: int64\n"
     ]
    },
    {
     "data": {
      "text/html": [
       "<div>\n",
       "<style scoped>\n",
       "    .dataframe tbody tr th:only-of-type {\n",
       "        vertical-align: middle;\n",
       "    }\n",
       "\n",
       "    .dataframe tbody tr th {\n",
       "        vertical-align: top;\n",
       "    }\n",
       "\n",
       "    .dataframe thead th {\n",
       "        text-align: right;\n",
       "    }\n",
       "</style>\n",
       "<table border=\"1\" class=\"dataframe\">\n",
       "  <thead>\n",
       "    <tr style=\"text-align: right;\">\n",
       "      <th></th>\n",
       "      <th>Student_ID</th>\n",
       "      <th>Age</th>\n",
       "      <th>Gender</th>\n",
       "      <th>Academic_Level</th>\n",
       "      <th>Country</th>\n",
       "      <th>Daily_Usage</th>\n",
       "      <th>Platform</th>\n",
       "      <th>Academic_Affects</th>\n",
       "      <th>Sleep_Hrs</th>\n",
       "      <th>Mental_Health</th>\n",
       "      <th>Relationship_Status</th>\n",
       "      <th>Conflicts</th>\n",
       "      <th>Addicted_Score</th>\n",
       "    </tr>\n",
       "  </thead>\n",
       "  <tbody>\n",
       "    <tr>\n",
       "      <th>0</th>\n",
       "      <td>1</td>\n",
       "      <td>19</td>\n",
       "      <td>Female</td>\n",
       "      <td>Undergraduate</td>\n",
       "      <td>Bangladesh</td>\n",
       "      <td>5.2</td>\n",
       "      <td>Instagram</td>\n",
       "      <td>Yes</td>\n",
       "      <td>6.5</td>\n",
       "      <td>6</td>\n",
       "      <td>In Relationship</td>\n",
       "      <td>3</td>\n",
       "      <td>8</td>\n",
       "    </tr>\n",
       "    <tr>\n",
       "      <th>1</th>\n",
       "      <td>2</td>\n",
       "      <td>22</td>\n",
       "      <td>Male</td>\n",
       "      <td>Graduate</td>\n",
       "      <td>India</td>\n",
       "      <td>2.1</td>\n",
       "      <td>Twitter</td>\n",
       "      <td>No</td>\n",
       "      <td>7.5</td>\n",
       "      <td>8</td>\n",
       "      <td>Single</td>\n",
       "      <td>0</td>\n",
       "      <td>3</td>\n",
       "    </tr>\n",
       "    <tr>\n",
       "      <th>2</th>\n",
       "      <td>3</td>\n",
       "      <td>20</td>\n",
       "      <td>Female</td>\n",
       "      <td>Undergraduate</td>\n",
       "      <td>USA</td>\n",
       "      <td>6.0</td>\n",
       "      <td>TikTok</td>\n",
       "      <td>Yes</td>\n",
       "      <td>5.0</td>\n",
       "      <td>5</td>\n",
       "      <td>Complicated</td>\n",
       "      <td>4</td>\n",
       "      <td>9</td>\n",
       "    </tr>\n",
       "    <tr>\n",
       "      <th>3</th>\n",
       "      <td>4</td>\n",
       "      <td>18</td>\n",
       "      <td>Male</td>\n",
       "      <td>High School</td>\n",
       "      <td>UK</td>\n",
       "      <td>3.0</td>\n",
       "      <td>YouTube</td>\n",
       "      <td>No</td>\n",
       "      <td>7.0</td>\n",
       "      <td>7</td>\n",
       "      <td>Single</td>\n",
       "      <td>1</td>\n",
       "      <td>4</td>\n",
       "    </tr>\n",
       "    <tr>\n",
       "      <th>4</th>\n",
       "      <td>5</td>\n",
       "      <td>21</td>\n",
       "      <td>Male</td>\n",
       "      <td>Graduate</td>\n",
       "      <td>Canada</td>\n",
       "      <td>4.5</td>\n",
       "      <td>Facebook</td>\n",
       "      <td>Yes</td>\n",
       "      <td>6.0</td>\n",
       "      <td>6</td>\n",
       "      <td>In Relationship</td>\n",
       "      <td>2</td>\n",
       "      <td>7</td>\n",
       "    </tr>\n",
       "  </tbody>\n",
       "</table>\n",
       "</div>"
      ],
      "text/plain": [
       "   Student_ID  Age  Gender Academic_Level     Country  Daily_Usage   Platform  \\\n",
       "0           1   19  Female  Undergraduate  Bangladesh          5.2  Instagram   \n",
       "1           2   22    Male       Graduate       India          2.1    Twitter   \n",
       "2           3   20  Female  Undergraduate         USA          6.0     TikTok   \n",
       "3           4   18    Male    High School          UK          3.0    YouTube   \n",
       "4           5   21    Male       Graduate      Canada          4.5   Facebook   \n",
       "\n",
       "  Academic_Affects  Sleep_Hrs  Mental_Health Relationship_Status  Conflicts  \\\n",
       "0              Yes        6.5              6     In Relationship          3   \n",
       "1               No        7.5              8              Single          0   \n",
       "2              Yes        5.0              5         Complicated          4   \n",
       "3               No        7.0              7              Single          1   \n",
       "4              Yes        6.0              6     In Relationship          2   \n",
       "\n",
       "   Addicted_Score  \n",
       "0               8  \n",
       "1               3  \n",
       "2               9  \n",
       "3               4  \n",
       "4               7  "
      ]
     },
     "execution_count": 3,
     "metadata": {},
     "output_type": "execute_result"
    }
   ],
   "source": [
    "# Load cleaned data\n",
    "with open('../data/data_cleaned.pickle', 'rb') as f:\n",
    "    df_data = pickle.load(f)\n",
    "\n",
    "# Display basic information\n",
    "print(\"Dataset shape:\", df_data.shape)\n",
    "print(\"\\nTarget variable distribution:\")\n",
    "print(df_data['Conflicts'].value_counts())\n",
    "df_data.head()\n"
   ]
  },
  {
   "cell_type": "code",
   "execution_count": 4,
   "metadata": {},
   "outputs": [
    {
     "name": "stdout",
     "output_type": "stream",
     "text": [
      "Index(['Student_ID', 'Age', 'Daily_Usage', 'Sleep_Hrs', 'Mental_Health',\n",
      "       'Conflicts', 'Addicted_Score'],\n",
      "      dtype='object')\n"
     ]
    }
   ],
   "source": [
    "# find and print numeric columns\n",
    "numeric_cols = df_data.select_dtypes(include=['number']).columns\n",
    "print(numeric_cols)\n"
   ]
  },
  {
   "cell_type": "markdown",
   "metadata": {},
   "source": [
    "# Target Variable Creation and Class Analysis\n",
    "- Creating binary target variable\n",
    "- The minority class is about 30% of the majority class\n",
    "- As the first try, we try class weighting first before doing any data resampling."
   ]
  },
  {
   "cell_type": "markdown",
   "metadata": {},
   "source": [
    "## Target creation and class analysis"
   ]
  },
  {
   "cell_type": "code",
   "execution_count": 5,
   "metadata": {},
   "outputs": [
    {
     "name": "stdout",
     "output_type": "stream",
     "text": [
      "Binary Conflict Classification:\n",
      "Threshold: 3\n",
      "Low Conflict (0-3): 515 samples\n",
      "High Conflict (4-max): 187 samples\n",
      "Class imbalance ratio: 36.31%\n",
      "Class proportions:\n",
      "Conflict_Binary\n",
      "Low     0.733618\n",
      "High    0.266382\n",
      "Name: count, dtype: float64\n"
     ]
    },
    {
     "data": {
      "image/png": "[encoded data removed]",
      "text/plain": [
       "<Figure size 1200x400 with 2 Axes>"
      ]
     },
     "metadata": {},
     "output_type": "display_data"
    }
   ],
   "source": [
    "# create target variable using create_binary_conflict\n",
    "df_data, results = create_binary_conflict(df_data, target_column='Conflicts', threshold=3, visualize=True)\n",
    "   "
   ]
  },
  {
   "cell_type": "markdown",
   "metadata": {},
   "source": [
    "# Test train split\n",
    "- The train split is used for the modeling part.\n",
    "- The test split is not involved in the modeling phase."
   ]
  },
  {
   "cell_type": "code",
   "execution_count": 6,
   "metadata": {},
   "outputs": [
    {
     "name": "stdout",
     "output_type": "stream",
     "text": [
      "Train set shape: (561, 11)\n",
      "Test set shape: (141, 11)\n",
      "Train set shape: (561, 11)\n",
      "Test set shape: (141, 11)\n"
     ]
    },
    {
     "data": {
      "text/html": [
       "<div>\n",
       "<style scoped>\n",
       "    .dataframe tbody tr th:only-of-type {\n",
       "        vertical-align: middle;\n",
       "    }\n",
       "\n",
       "    .dataframe tbody tr th {\n",
       "        vertical-align: top;\n",
       "    }\n",
       "\n",
       "    .dataframe thead th {\n",
       "        text-align: right;\n",
       "    }\n",
       "</style>\n",
       "<table border=\"1\" class=\"dataframe\">\n",
       "  <thead>\n",
       "    <tr style=\"text-align: right;\">\n",
       "      <th></th>\n",
       "      <th>Age</th>\n",
       "      <th>Gender</th>\n",
       "      <th>Academic_Level</th>\n",
       "      <th>Country</th>\n",
       "      <th>Daily_Usage</th>\n",
       "      <th>Platform</th>\n",
       "      <th>Academic_Affects</th>\n",
       "      <th>Sleep_Hrs</th>\n",
       "      <th>Mental_Health</th>\n",
       "      <th>Relationship_Status</th>\n",
       "      <th>Conflicts</th>\n",
       "    </tr>\n",
       "  </thead>\n",
       "  <tbody>\n",
       "    <tr>\n",
       "      <th>166</th>\n",
       "      <td>20</td>\n",
       "      <td>Female</td>\n",
       "      <td>Undergraduate</td>\n",
       "      <td>Bangladesh</td>\n",
       "      <td>4.9</td>\n",
       "      <td>Instagram</td>\n",
       "      <td>Yes</td>\n",
       "      <td>6.4</td>\n",
       "      <td>5</td>\n",
       "      <td>Single</td>\n",
       "      <td>3</td>\n",
       "    </tr>\n",
       "    <tr>\n",
       "      <th>546</th>\n",
       "      <td>20</td>\n",
       "      <td>Female</td>\n",
       "      <td>Undergraduate</td>\n",
       "      <td>UAE</td>\n",
       "      <td>6.9</td>\n",
       "      <td>Instagram</td>\n",
       "      <td>Yes</td>\n",
       "      <td>6.1</td>\n",
       "      <td>5</td>\n",
       "      <td>In Relationship</td>\n",
       "      <td>4</td>\n",
       "    </tr>\n",
       "    <tr>\n",
       "      <th>285</th>\n",
       "      <td>21</td>\n",
       "      <td>Male</td>\n",
       "      <td>Graduate</td>\n",
       "      <td>UK</td>\n",
       "      <td>5.0</td>\n",
       "      <td>Facebook</td>\n",
       "      <td>Yes</td>\n",
       "      <td>6.6</td>\n",
       "      <td>6</td>\n",
       "      <td>In Relationship</td>\n",
       "      <td>3</td>\n",
       "    </tr>\n",
       "    <tr>\n",
       "      <th>362</th>\n",
       "      <td>20</td>\n",
       "      <td>Female</td>\n",
       "      <td>Undergraduate</td>\n",
       "      <td>Ireland</td>\n",
       "      <td>4.5</td>\n",
       "      <td>TikTok</td>\n",
       "      <td>Yes</td>\n",
       "      <td>7.4</td>\n",
       "      <td>7</td>\n",
       "      <td>Single</td>\n",
       "      <td>3</td>\n",
       "    </tr>\n",
       "    <tr>\n",
       "      <th>111</th>\n",
       "      <td>21</td>\n",
       "      <td>Female</td>\n",
       "      <td>Undergraduate</td>\n",
       "      <td>India</td>\n",
       "      <td>5.8</td>\n",
       "      <td>TikTok</td>\n",
       "      <td>Yes</td>\n",
       "      <td>5.9</td>\n",
       "      <td>6</td>\n",
       "      <td>In Relationship</td>\n",
       "      <td>3</td>\n",
       "    </tr>\n",
       "  </tbody>\n",
       "</table>\n",
       "</div>"
      ],
      "text/plain": [
       "     Age  Gender Academic_Level     Country  Daily_Usage   Platform  \\\n",
       "166   20  Female  Undergraduate  Bangladesh          4.9  Instagram   \n",
       "546   20  Female  Undergraduate         UAE          6.9  Instagram   \n",
       "285   21    Male       Graduate          UK          5.0   Facebook   \n",
       "362   20  Female  Undergraduate     Ireland          4.5     TikTok   \n",
       "111   21  Female  Undergraduate       India          5.8     TikTok   \n",
       "\n",
       "    Academic_Affects  Sleep_Hrs  Mental_Health Relationship_Status  Conflicts  \n",
       "166              Yes        6.4              5              Single          3  \n",
       "546              Yes        6.1              5     In Relationship          4  \n",
       "285              Yes        6.6              6     In Relationship          3  \n",
       "362              Yes        7.4              7              Single          3  \n",
       "111              Yes        5.9              6     In Relationship          3  "
      ]
     },
     "execution_count": 6,
     "metadata": {},
     "output_type": "execute_result"
    }
   ],
   "source": [
    "# split the data into train and test\n",
    "from sklearn.model_selection import train_test_split\n",
    "\n",
    "drop_cols = ['Student_ID', 'Addicted_Score', 'Conflict_Binary']\n",
    "\n",
    "X_train_full, X_test, y_train_full, y_test = train_test_split(df_data.drop(columns=drop_cols), df_data['Conflict_Binary'], test_size=0.2, random_state=42)\n",
    "\n",
    "# print the shape of the train and test sets\n",
    "print(f\"Train set shape: {X_train_full.shape}\")\n",
    "print(f\"Test set shape: {X_test.shape}\")\n",
    "\n",
    "# print the shape of the train and test sets\n",
    "print(f\"Train set shape: {X_train_full.shape}\")\n",
    "print(f\"Test set shape: {X_test.shape}\")\n",
    "\n",
    "X_train_full.head()"
   ]
  },
  {
   "cell_type": "markdown",
   "metadata": {},
   "source": [
    "# Preprocessing Pipeline\n",
    "- Feature engineering by converting categorical features to numerical variables\n",
    "- Scaling numerical features"
   ]
  },
  {
   "cell_type": "markdown",
   "metadata": {},
   "source": [
    "## Define Column Groups"
   ]
  },
  {
   "cell_type": "code",
   "execution_count": 7,
   "metadata": {},
   "outputs": [],
   "source": [
    "binary_cats       = ['Gender']         # boolean → 0/1\n",
    "low_card_cols     = ['Relationship_Status', 'Academic_Level']                # few categories\n",
    "high_card_cols    = ['Platform']                      # group rare then OHE\n",
    "country_col       = ['Country']                                 # map to continent\n",
    "numeric_cols      = df_data.drop(columns=drop_cols).select_dtypes(include=['number']).columns"
   ]
  },
  {
   "cell_type": "markdown",
   "metadata": {},
   "source": [
    "## Defining the Preprocessing steps\n"
   ]
  },
  {
   "cell_type": "code",
   "execution_count": 8,
   "metadata": {},
   "outputs": [],
   "source": [
    "# Boolean → int\n",
    "binary_transformer = OneHotEncoder(handle_unknown='ignore', drop='first')\n",
    "\n",
    "# Low-cardinality One-Hot\n",
    "low_card_transformer = OneHotEncoder(handle_unknown='ignore')\n",
    "\n",
    "# High-cardinality grouping + One-Hot\n",
    "high_card_transformer = Pipeline([\n",
    "    ('group_rare', RareCategoryGrouper(min_count=30)),\n",
    "    ('onehot',    OneHotEncoder(handle_unknown='ignore'))\n",
    "])\n",
    "\n",
    "# Country → Continent → One-Hot\n",
    "country_transformer = Pipeline([\n",
    "    ('map_continent', CountryToContinentMapper(mapping=continent_dict)),\n",
    "    ('onehot',        OneHotEncoder(handle_unknown='ignore'))\n",
    "])\n",
    "\n",
    "# Numeric scaling\n",
    "numeric_transformer = Pipeline([\n",
    "    ('scaler', StandardScaler())\n",
    "])\n",
    "\n",
    "preprocessor = ColumnTransformer([\n",
    "    ('bools',   binary_transformer,   binary_cats),\n",
    "    ('low_ohe', low_card_transformer, low_card_cols),\n",
    "    ('high_ohe',high_card_transformer,high_card_cols),\n",
    "    ('cty_ohe', country_transformer,  country_col),\n",
    "    ('nums',    numeric_transformer,  numeric_cols),\n",
    "], remainder='drop')"
   ]
  },
  {
   "cell_type": "markdown",
   "metadata": {},
   "source": [
    "## Apply preprocessing and inspect transformed features"
   ]
  },
  {
   "cell_type": "code",
   "execution_count": 9,
   "metadata": {},
   "outputs": [
    {
     "name": "stdout",
     "output_type": "stream",
     "text": [
      "Transformed feature matrix (first 5 rows):\n",
      "   Gender_Male  Relationship_Status_Complicated  \\\n",
      "0          0.0                              0.0   \n",
      "1          0.0                              0.0   \n",
      "2          1.0                              0.0   \n",
      "3          0.0                              0.0   \n",
      "4          0.0                              0.0   \n",
      "\n",
      "   Relationship_Status_In Relationship  Relationship_Status_Single  \\\n",
      "0                                  0.0                         1.0   \n",
      "1                                  1.0                         0.0   \n",
      "2                                  1.0                         0.0   \n",
      "3                                  0.0                         1.0   \n",
      "4                                  1.0                         0.0   \n",
      "\n",
      "   Academic_Level_Graduate  Academic_Level_High School  \\\n",
      "0                      0.0                         0.0   \n",
      "1                      0.0                         0.0   \n",
      "2                      1.0                         0.0   \n",
      "3                      0.0                         0.0   \n",
      "4                      0.0                         0.0   \n",
      "\n",
      "   Academic_Level_Undergraduate  Platform_Facebook  Platform_Instagram  \\\n",
      "0                           1.0                0.0                 1.0   \n",
      "1                           1.0                0.0                 1.0   \n",
      "2                           0.0                1.0                 0.0   \n",
      "3                           1.0                0.0                 0.0   \n",
      "4                           1.0                0.0                 0.0   \n",
      "\n",
      "   Platform_Other  ...  Country_Europe  Country_North America  \\\n",
      "0             0.0  ...             0.0                    0.0   \n",
      "1             0.0  ...             0.0                    0.0   \n",
      "2             0.0  ...             1.0                    0.0   \n",
      "3             0.0  ...             1.0                    0.0   \n",
      "4             0.0  ...             0.0                    0.0   \n",
      "\n",
      "   Country_Oceania  Country_Other  Country_South America       Age  \\\n",
      "0              0.0            0.0                    0.0 -0.473558   \n",
      "1              0.0            0.0                    0.0 -0.473558   \n",
      "2              0.0            0.0                    0.0  0.246404   \n",
      "3              0.0            0.0                    0.0 -0.473558   \n",
      "4              0.0            0.0                    0.0  0.246404   \n",
      "\n",
      "   Daily_Usage  Sleep_Hrs  Mental_Health  Conflicts  \n",
      "0    -0.010295  -0.435592      -1.127634   0.167348  \n",
      "1     1.594007  -0.701980      -1.127634   1.210485  \n",
      "2     0.069920  -0.257999      -0.220026   0.167348  \n",
      "3    -0.331155   0.452370       0.687582   0.167348  \n",
      "4     0.711641  -0.879572      -0.220026   0.167348  \n",
      "\n",
      "[5 rows x 24 columns]\n"
     ]
    },
    {
     "data": {
      "image/png": "[encoded data removed]",
      "text/plain": [
       "<Figure size 1500x1000 with 25 Axes>"
      ]
     },
     "metadata": {},
     "output_type": "display_data"
    }
   ],
   "source": [
    "# 1. Fit the preprocessing step on the training data\n",
    "preprocessor.fit(X_train_full)\n",
    "\n",
    "# 2. Transform the training data\n",
    "X_train_proc = preprocessor.transform(X_train_full)\n",
    "\n",
    "# 3. Retrieve the transformed feature names\n",
    "#    Note: get_feature_names_out is available on ColumnTransformer in sklearn >=1.0\n",
    "from utils import get_feature_names\n",
    "feature_names = get_feature_names(preprocessor)\n",
    "\n",
    "# 4. Convert to DataFrame (densify if sparse)\n",
    "if sparse.issparse(X_train_proc):\n",
    "    X_train_proc = X_train_proc.toarray()\n",
    "\n",
    "X_train_df = pd.DataFrame(X_train_proc, columns=feature_names)\n",
    "\n",
    "# 5. Print the first few rows\n",
    "print(\"Transformed feature matrix (first 5 rows):\")\n",
    "print(X_train_df.head())\n",
    "\n",
    "# 6. Simple visualization: histograms for each feature\n",
    "X_train_df.hist(bins=20, figsize=(15, 10))\n",
    "plt.suptitle(\"Distributions of Transformed Features\")\n",
    "plt.tight_layout(rect=[0, 0.03, 1, 0.95])\n",
    "plt.show()\n"
   ]
  },
  {
   "cell_type": "markdown",
   "metadata": {},
   "source": [
    "## Sample data for MLflow logging"
   ]
  },
  {
   "cell_type": "code",
   "execution_count": 10,
   "metadata": {},
   "outputs": [
    {
     "name": "stderr",
     "output_type": "stream",
     "text": [
      "/opt/anaconda3/envs/c29env/lib/python3.12/site-packages/mlflow/data/dataset_source_registry.py:149: UserWarning: Failed to determine whether UCVolumeDatasetSource can resolve source information for '../data/data_cleaned.pickle'. Exception: \n",
      "  return _dataset_source_registry.resolve(\n",
      "/opt/anaconda3/envs/c29env/lib/python3.12/site-packages/mlflow/data/dataset_source_registry.py:149: UserWarning: The specified dataset source can be interpreted in multiple ways: LocalArtifactDatasetSource, LocalArtifactDatasetSource. MLflow will assume that this is a LocalArtifactDatasetSource source.\n",
      "  return _dataset_source_registry.resolve(\n",
      "/opt/anaconda3/envs/c29env/lib/python3.12/site-packages/mlflow/data/dataset_source_registry.py:149: UserWarning: Failed to determine whether UCVolumeDatasetSource can resolve source information for '../data/data_cleaned.pickle'. Exception: \n",
      "  return _dataset_source_registry.resolve(\n",
      "/opt/anaconda3/envs/c29env/lib/python3.12/site-packages/mlflow/data/dataset_source_registry.py:149: UserWarning: The specified dataset source can be interpreted in multiple ways: LocalArtifactDatasetSource, LocalArtifactDatasetSource. MLflow will assume that this is a LocalArtifactDatasetSource source.\n",
      "  return _dataset_source_registry.resolve(\n",
      "/opt/anaconda3/envs/c29env/lib/python3.12/site-packages/mlflow/data/dataset_source_registry.py:149: UserWarning: Failed to determine whether UCVolumeDatasetSource can resolve source information for '../data/data_cleaned.pickle'. Exception: \n",
      "  return _dataset_source_registry.resolve(\n",
      "/opt/anaconda3/envs/c29env/lib/python3.12/site-packages/mlflow/data/dataset_source_registry.py:149: UserWarning: The specified dataset source can be interpreted in multiple ways: LocalArtifactDatasetSource, LocalArtifactDatasetSource. MLflow will assume that this is a LocalArtifactDatasetSource source.\n",
      "  return _dataset_source_registry.resolve(\n",
      "/opt/anaconda3/envs/c29env/lib/python3.12/site-packages/mlflow/data/dataset_source_registry.py:149: UserWarning: Failed to determine whether UCVolumeDatasetSource can resolve source information for '../data/data_cleaned.pickle'. Exception: \n",
      "  return _dataset_source_registry.resolve(\n",
      "/opt/anaconda3/envs/c29env/lib/python3.12/site-packages/mlflow/data/dataset_source_registry.py:149: UserWarning: The specified dataset source can be interpreted in multiple ways: LocalArtifactDatasetSource, LocalArtifactDatasetSource. MLflow will assume that this is a LocalArtifactDatasetSource source.\n",
      "  return _dataset_source_registry.resolve(\n"
     ]
    }
   ],
   "source": [
    "# after fitting your pipeline:\n",
    "example_input = X_train_full.iloc[:5].copy()\n",
    "# Convert integer columns to float\n",
    "for col in example_input.select_dtypes(include=['int64']).columns:\n",
    "    example_input[col] = example_input[col].astype('float')  \n",
    "\n",
    "    # 1. Create Dataset objects for each split\n",
    "train_ds = mlflow.data.from_pandas(\n",
    "    df=X_train_full,\n",
    "    source=\"../data/data_cleaned.pickle\",\n",
    "    name=\"social_sphere_train_v1\"\n",
    ")\n",
    "test_ds = mlflow.data.from_pandas(\n",
    "    df=X_test,\n",
    "    source=\"../data/data_cleaned.pickle\",\n",
    "    name=\"social_sphere_test_v1\"\n",
    ")      \n",
    "from utils import mlflow_dataset\n",
    "mlflow_dataset = mlflow_dataset(X_train_full, X_test)"
   ]
  },
  {
   "cell_type": "markdown",
   "metadata": {},
   "source": [
    "# Classification pipeline: baseline model"
   ]
  },
  {
   "cell_type": "markdown",
   "metadata": {},
   "source": [
    "## Cross validation setup\n",
    "We will use cross-validation to evaluate the performance of the model."
   ]
  },
  {
   "cell_type": "code",
   "execution_count": 11,
   "metadata": {},
   "outputs": [],
   "source": [
    "# Define cross-validation settings\n",
    "cv = StratifiedKFold(\n",
    "    n_splits=5,\n",
    "    shuffle=True,         # if you want to shuffle before splitting\n",
    "    random_state=42       # ◀️ fix the RNG here\n",
    ")\n",
    "scoring = {\n",
    "    \"accuracy\":   \"accuracy\",\n",
    "    \"precision\":  \"precision\",\n",
    "    \"recall\":     \"recall\",\n",
    "    \"f1_score\":         \"f1\",\n",
    "    \"roc_auc\":    \"roc_auc\"\n",
    "}"
   ]
  },
  {
   "cell_type": "markdown",
   "metadata": {},
   "source": [
    "## Train, evaluate, and log a baseline model\n",
    "\n",
    "As the baseline model, we will use a dummy classifier that predicts the target variable based on these strategies:\n",
    "- most_frequent\n",
    "- prior\n",
    "- uniform\n",
    "- stratified\n",
    "\n",
    "We will log the model to MLflow."
   ]
  },
  {
   "cell_type": "code",
   "execution_count": 22,
   "metadata": {},
   "outputs": [
    {
     "name": "stderr",
     "output_type": "stream",
     "text": [
      "Registered model 'conflict_baseline_dummy_most_frequent' already exists. Creating a new version of this model...\n",
      "Created version '9' of model 'conflict_baseline_dummy_most_frequent'.\n",
      "Registered model 'conflict_baseline_dummy_prior' already exists. Creating a new version of this model...\n",
      "Created version '7' of model 'conflict_baseline_dummy_prior'.\n",
      "Registered model 'conflict_baseline_dummy_uniform' already exists. Creating a new version of this model...\n",
      "Created version '7' of model 'conflict_baseline_dummy_uniform'.\n",
      "Registered model 'conflict_baseline_dummy_stratified' already exists. Creating a new version of this model...\n",
      "Created version '7' of model 'conflict_baseline_dummy_stratified'.\n"
     ]
    }
   ],
   "source": [
    "strategies = [\"most_frequent\", \"prior\", \"uniform\", \"stratified\"]\n",
    "for strategy in strategies:\n",
    "    baseline_pipeline = Pipeline([\n",
    "        (\"preprocessing\", preprocessor),\n",
    "        (\"classifier\", DummyClassifier(strategy=strategy))\n",
    "    ])\n",
    "    run_classification_experiment(\n",
    "        name=f\"baseline_dummy_{strategy}\",\n",
    "        estimator=baseline_pipeline,\n",
    "        X_train=X_train_full,\n",
    "        y_train=y_train_full,\n",
    "        cv=cv,\n",
    "        scoring=scoring,\n",
    "        dataset=mlflow_dataset,\n",
    "        hparams={\"strategy\": strategy},\n",
    "        registered_model_name=f\"conflict_baseline_dummy_{strategy}\"\n",
    "    )"
   ]
  },
  {
   "cell_type": "markdown",
   "metadata": {},
   "source": [
    "# Classification Pipeline, Logistic Regression"
   ]
  },
  {
   "cell_type": "code",
   "execution_count": null,
   "metadata": {},
   "outputs": [
    {
     "name": "stderr",
     "output_type": "stream",
     "text": [
      "Registered model 'conflict_baseline_dummy_stratified' already exists. Creating a new version of this model...\n",
      "Created version '8' of model 'conflict_baseline_dummy_stratified'.\n"
     ]
    }
   ],
   "source": [
    "# Build your LR pipeline\n",
    "lr_pipeline = Pipeline([\n",
    "    ('preprocessing', preprocessor),\n",
    "    ('classifier', LogisticRegression(solver='liblinear', random_state=42))\n",
    "])\n",
    "\n",
    "# Run the experiment\n",
    "run_classification_experiment(\n",
    "    name=f\"baseline_dummy_{strategy}\",\n",
    "    estimator=baseline_pipeline,\n",
    "    X_train=X_train_full,\n",
    "    y_train=y_train_full,\n",
    "    cv=cv,\n",
    "    scoring=scoring,\n",
    "    dataset=mlflow_dataset,\n",
    "    hparams={\"strategy\": strategy},\n",
    "    registered_model_name=f\"conflict_baseline_dummy_{strategy}\"\n",
    ")\n"
   ]
  },
  {
   "cell_type": "code",
   "execution_count": 14,
   "metadata": {},
   "outputs": [
    {
     "ename": "AssertionError",
     "evalue": "",
     "output_type": "error",
     "traceback": [
      "\u001b[31m---------------------------------------------------------------------------\u001b[39m",
      "\u001b[31mAssertionError\u001b[39m                            Traceback (most recent call last)",
      "\u001b[36mCell\u001b[39m\u001b[36m \u001b[39m\u001b[32mIn[14]\u001b[39m\u001b[32m, line 1\u001b[39m\n\u001b[32m----> \u001b[39m\u001b[32m1\u001b[39m \u001b[38;5;28;01massert\u001b[39;00m \u001b[38;5;28;01mFalse\u001b[39;00m\n",
      "\u001b[31mAssertionError\u001b[39m: "
     ]
    }
   ],
   "source": [
    "assert False"
   ]
  },
  {
   "cell_type": "code",
   "execution_count": null,
   "metadata": {},
   "outputs": [],
   "source": [
    "def run_and_register_dummy_baseline(\n",
    "    X_train_full,\n",
    "    y_train_full,\n",
    "    preprocessor,\n",
    "    strategy: str,\n",
    "    cv,\n",
    "    scoring,\n",
    "    dataset,\n",
    "    registered_model_name: str = \"conflict_baseline_dummy\"\n",
    "):\n",
    "    \"\"\"\n",
    "    Runs cross‐validation for a single DummyClassifier strategy, logs metrics to MLflow,\n",
    "    refits on the full training set, and registers the model.\n",
    "\n",
    "    Parameters:\n",
    "    - X_train_full, y_train_full: training data\n",
    "    - preprocessor: sklearn Pipeline or ColumnTransformer for feature prep\n",
    "    - strategy: one of DummyClassifier strategies (\"most_frequent\", \"stratified\", \"uniform\", \"prior\")\n",
    "    - cv: cross‐validation splitter (e.g., StratifiedKFold instance)\n",
    "    - experiment_name: MLflow experiment under which runs are logged\n",
    "    - registered_model_name: name to register the final model in MLflow\n",
    "    \"\"\"\n",
    "    \n",
    "    run_name = f\"baseline_dummy_{strategy}_cv\"\n",
    "    with mlflow.start_run(run_name=run_name):\n",
    "        # Log inputs\n",
    "        mlflow.log_input(dataset[\"train_ds\"], context=\"training\")    \n",
    "        mlflow.log_input(dataset[\"test_ds\"], context=\"test\")\n",
    "\n",
    "        # build pipeline\n",
    "        baseline_pipeline = Pipeline([\n",
    "            (\"preprocessing\", preprocessor),\n",
    "            (\"classifier\", DummyClassifier(strategy=strategy))\n",
    "        ])\n",
    "\n",
    "        # log strategy\n",
    "        mlflow.log_param(\"strategy\", strategy)\n",
    "\n",
    "        # cross‐validate\n",
    "        cv_results = cross_validate(\n",
    "            estimator=baseline_pipeline,\n",
    "            X=X_train_full,\n",
    "            y=y_train_full,\n",
    "            cv=cv,\n",
    "            scoring=scoring,\n",
    "            return_train_score=False,\n",
    "            n_jobs=-1\n",
    "        )\n",
    "\n",
    "        # log mean and std for each metric\n",
    "        for metric in scoring:\n",
    "            scores = cv_results[f\"test_{metric}\"]\n",
    "            mlflow.log_metric(metric,      scores.mean())\n",
    "            mlflow.log_metric(f\"{metric}_std\", scores.std())\n",
    "\n",
    "        # raw fold scores as artifact\n",
    "        with open(\"cv_fold_scores.json\", \"w\") as fp:\n",
    "            json.dump({k: v.tolist() for k, v in cv_results.items()}, fp)\n",
    "        mlflow.log_artifact(\"cv_fold_scores.json\")\n",
    "\n",
    "        # refit on full training data\n",
    "        baseline_pipeline.fit(X_train_full, y_train_full)\n",
    "\n",
    "        # infer signature and example\n",
    "        example_input = X_train_full.iloc[:5]\n",
    "        example_preds = baseline_pipeline.predict(example_input)\n",
    "        signature = infer_signature(example_input, example_preds)\n",
    "\n",
    "        # log & register\n",
    "        mlflow.sklearn.log_model(\n",
    "            sk_model=baseline_pipeline,\n",
    "            name=f\"baseline_model_cv_{strategy}\",\n",
    "            registered_model_name=f\"{registered_model_name}_{strategy}\",\n",
    "            signature=signature,\n",
    "            input_example=example_input\n",
    "        )\n"
   ]
  }
 ],
 "metadata": {
  "kernelspec": {
   "display_name": "c29env",
   "language": "python",
   "name": "python3"
  },
  "language_info": {
   "codemirror_mode": {
    "name": "ipython",
    "version": 3
   },
   "file_extension": ".py",
   "mimetype": "text/x-python",
   "name": "python",
   "nbconvert_exporter": "python",
   "pygments_lexer": "ipython3",
   "version": "3.12.0"
  }
 },
 "nbformat": 4,
 "nbformat_minor": 2
}
